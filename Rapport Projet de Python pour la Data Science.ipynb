{
 "cells": [
  {
   "cell_type": "markdown",
   "id": "9cb56408",
   "metadata": {},
   "source": [
    "<h1><center>Projet de Python pour la Data Science<br /><br />Julien Guibert - Charles Rollet - Tanguy Simeon</center></h1>"
   ]
  },
  {
   "cell_type": "markdown",
   "id": "0609a1d9",
   "metadata": {},
   "source": [
    "<img src=\"LOGO-ENSAE.jpg\" style=width:200px;height:400px/>"
   ]
  },
  {
   "cell_type": "markdown",
   "id": "b68705d6",
   "metadata": {},
   "source": [
    "#### Bienvenue sur le Github de notre projet Python Pour le Data Scientist ! \n",
    "\n",
    "L'objectif du projet est de prédire le prix d'un bien immobilier en fonction de certaines de ses caractéristiques telles que sa surface, son nombre de pièces, sa date de vente, son type (appartement ou maison) et sa location à Paris. \n",
    "\n",
    "#### Notre projet ce divise en 6 étapes :"
   ]
  },
  {
   "cell_type": "markdown",
   "id": "538865a7",
   "metadata": {},
   "source": [
    "<img src=\"PlanPDS.png\" style=width:936px;height:400px/>"
   ]
  },
  {
   "cell_type": "markdown",
   "id": "ad972449",
   "metadata": {},
   "source": [
    "#### Veuillez installer au préalable les packages non conventionnels suivant pour utiliser le reste du programme : "
   ]
  },
  {
   "cell_type": "code",
   "execution_count": 4,
   "id": "d67f5393",
   "metadata": {},
   "outputs": [
    {
     "ename": "SyntaxError",
     "evalue": "invalid syntax (3787631284.py, line 1)",
     "output_type": "error",
     "traceback": [
      "\u001b[0;36m  File \u001b[0;32m\"/var/folders/6b/sm0mn0052bn0k0qjpwz61zq00000gn/T/ipykernel_24578/3787631284.py\"\u001b[0;36m, line \u001b[0;32m1\u001b[0m\n\u001b[0;31m    pip3 install customtkinter\u001b[0m\n\u001b[0m         ^\u001b[0m\n\u001b[0;31mSyntaxError\u001b[0m\u001b[0;31m:\u001b[0m invalid syntax\n"
     ]
    }
   ],
   "source": [
    "!pip install customtkinter\n",
    "!pip install tkcalendar\n",
    "!pip install tkintermapview"
   ]
  },
  {
   "cell_type": "markdown",
   "id": "beda5012",
   "metadata": {},
   "source": [
    "# Web Scraping"
   ]
  },
  {
   "cell_type": "markdown",
   "id": "3a384737",
   "metadata": {},
   "source": [
    "#### Notre démarche :<br />\n",
    "\n",
    "<div style=\"text-align: justify\">Pour créer un estimateur à partir des caractéristiques de biens déjà vendus, encore faut-il précisément avoir de telles données. Après quelques recherches infructueuses, nous avons souhaité effectuer du Web Scraping grâce au module Selenium et avec l'aide d'un web driver. Technique qui nous a paru essentielle pour obtenir des données sur mesures, nous avons trouvé le site ImmoData (https://www.immo-data.fr/) qui fait l'inventaire des biens vendus en France.<div><br />\n",
    "    \n",
    "<div style=\"text-align: justify\">Le site Immodata n'affiche que 100 biens par fenêtre de manière aléatoire, ce qui n'était pas assez et peu précis. Afin de collecter un nombre significatif de données, nous avons enfermé Paris dans un rectangle dont les sommets correspondent à des coordonnées puis diviser ce rectangle en 400 petits rectangles afin de cadriller la ville.<div><br />\n",
    "    \n",
    "<div style=\"text-align: justify\">Illustration de notre démarche :<div>"
   ]
  },
  {
   "cell_type": "markdown",
   "id": "b3af4448",
   "metadata": {},
   "source": [
    "<img src=\"EncadrementParis.png\" style=width:818px;height:200px/>"
   ]
  },
  {
   "cell_type": "markdown",
   "id": "ff1fe42f",
   "metadata": {},
   "source": [
    "#### Explication du code :<br />\n",
    "\n",
    "<div style=\"text-align: justify\">On import d'abord les maodules nécessaire au fonctionnement de l'algorithme et en particulier Selenium<div>\n",
    "\n"
   ]
  },
  {
   "cell_type": "code",
   "execution_count": null,
   "id": "ebbeed14",
   "metadata": {},
   "outputs": [],
   "source": [
    "import argparse\n",
    "from selenium import webdriver\n",
    "from selenium.webdriver.common.by import By\n",
    "import pandas as pd\n",
    "import time\n",
    "import logging\n",
    "from tqdm import tqdm\n",
    "logger = logging.getLogger(__name__)\n",
    "logging.basicConfig(level=logging.INFO)"
   ]
  },
  {
   "cell_type": "markdown",
   "id": "5003ff83",
   "metadata": {},
   "source": [
    "<div style=\"text-align: justify\">Veuillez ensuite indiquer le chemin menant à votre webdriver à installer en fonction de votre moteur de recherche et de sa version (nous vous conseillons d'utiliser un chromedriver)<div>"
   ]
  },
  {
   "cell_type": "code",
   "execution_count": null,
   "id": "5182d48d",
   "metadata": {},
   "outputs": [],
   "source": [
    "path = 'Indiquer le chemin'"
   ]
  },
  {
   "cell_type": "markdown",
   "id": "80e44a95",
   "metadata": {},
   "source": [
    "<div style=\"text-align: justify\">On crée une première fonction afin notamment d'afficher la progression du web scraping et on enregistre la base obtenue sous le nom de 'Base_WS_Brute.csv'<div>"
   ]
  },
  {
   "cell_type": "code",
   "execution_count": null,
   "id": "ca284fab",
   "metadata": {},
   "outputs": [],
   "source": [
    "def main():\n",
    "    parser = argparse.ArgumentParser() \n",
    "    parser.add_argument('--n', type=int, default=2,help='Number of items to search')\n",
    "    parser.add_argument('--fn', type=str, default='Base_WS_Brute.csv',help='name of the output CSV file')\n",
    "    args = parser.parse_args()\n",
    "\n",
    "    start = time.time()\n",
    "    n = runImmoDataScrapping(n=args.n, filename= args.fn)\n",
    "    duration = time.time()-start\n",
    "    logger.info(f'Scrapped {n} items in {duration/60.} minutes. ({str(duration/n).split(\".\")[0]} seconds per it)')"
   ]
  },
  {
   "cell_type": "markdown",
   "id": "45b627f0",
   "metadata": {},
   "source": [
    "<div style=\"text-align: justify\">On crée ensuite la fonction runImmoDataScrapping qui va véritablement effectuer le web scraping. Nous avons effectué une double boucle for qui modifie directement la partie du lien url qui concerne les coordonnées géographiques de l'affichage afin d'effectuer l'encadrement de Paris décrit précedemment. Ainsi Paris est contenu dans un rectangle divisé en 440 petits rectangles que nous allons scrapé.<div><br />\n",
    "\n",
    "<div style=\"text-align: justify\">Une fois les liens à scrapé définis, nous créons un dataframe de cinq colonnes (adresse, type_bien, prix, prix_m2, details qui contient la suface, le nombre de pièces, la date de vente notamment) que nous remplissons avec les informations scrapées correspondantes.<div><br />\n",
    "    \n",
    "<div style=\"text-align: justify\">Pour vérifier le bon fonctionnement de l'algorithme, nous vous conseillons de modifier les informations dans le range des deux boucles for en indiquand 256000 à la place de 420030 dans la première et 806001 à la place de 900050 dans la seconde. De cette façon, l'algorithme va scrapé 2x2=4 liens ce qui permettra de gagner du temps.<div>"
   ]
  },
  {
   "cell_type": "code",
   "execution_count": null,
   "id": "9026e970",
   "metadata": {},
   "outputs": [],
   "source": [
    "def runImmoDataScrapping(n: int, filename: str):\n",
    "    for i in range(250000,420030,8501):\n",
    "        for j in range(800001,900050,5001):\n",
    "            step_x=2\n",
    "            step_y=48\n",
    "            driver = webdriver.Chrome(path)\n",
    "            url = f\"https://www.immo-data.fr/explorateur/transaction/recherche?minprice=0&maxprice=5000000&minpricesquaremeter=0&maxpricesquaremeter=40000&propertytypes=1%2C2&minmonthyear=Janvier%202014&maxmonthyear=Juin%202022&nbrooms=1%2C2%2C3%2C4%2C5&minsurface=0&maxsurface=400&minsurfaceland=0&maxsurfaceland=50000&center={step_x+i*0.000001}%3B{step_y+j*0.000001}&zoom=14.5\"\n",
    "        \n",
    "            driver.get(url)\n",
    "            driver.implicitly_wait(6)\n",
    "            colsInDetailsList = ['addresse','type_bien', 'prix', 'prix_m2', 'details']\n",
    "            data = {colName : [] for colName in colsInDetailsList}\n",
    "        \n",
    "            elements = driver.find_elements(by=By.XPATH, value='//div[@class=\"flex flex-col gap-2 p-3\"]')\n",
    "\n",
    "            for element in tqdm(elements):\n",
    "                addresse, prix, type_bien, prix_m2, *details = element.text.split('\\n')\n",
    "                \n",
    "                data['addresse'].append(addresse)\n",
    "                data['prix'].append(prix)\n",
    "                data['type_bien'].append(type_bien)\n",
    "                data['prix_m2'].append(prix_m2)\n",
    "                data['details'].append(details)\n",
    "        \n",
    "            driver.close()\n",
    "            if i==250000 and j==800001 : \n",
    "                df = pd.DataFrame(data) \n",
    "            else : \n",
    "                df=pd.concat([df,pd.DataFrame(data)],ignore_index=True)      \n",
    "\n",
    "    df.to_csv(filename)\n",
    "    return df.shape[0]\n",
    "\n",
    "if __name__=='__main__':\n",
    "\n",
    "    main()"
   ]
  },
  {
   "cell_type": "markdown",
   "id": "1e30f8f0",
   "metadata": {},
   "source": [
    "Nous avons ainsi réussi à obtenir envrion 40.000 données qu'il nous a ensuite fallu traiter. La base issue du web scraping et intitutée Base_WS_Brute est disponible dans le dossier 'Web Scraping' sur GitHub. "
   ]
  },
  {
   "cell_type": "markdown",
   "id": "9d9f16d6",
   "metadata": {},
   "source": [
    "# Traitement de données "
   ]
  },
  {
   "cell_type": "markdown",
   "id": "6fe214c7",
   "metadata": {},
   "source": [
    "#### Notre démarche : <br />\n",
    "\n",
    "<div style=\"text-align: justify\">Si les données récoltées à la suite du web scraping contenaient les informations que nous voulions, celles-ci n'étaient pas optimalement disponibles. En effet, la colonne \"détails\" par exemple comprenait à la fois le nombre de pièces ainsi, la surface ou encore la date de vente. Or nous souhaitions en faire trois colonnes distinctes afin d'utiliser ces variables individuellement. <div><br />\n",
    "    \n",
    "<div style=\"text-align: justify\">C'est pourquoi nous nous sommes attelés à traiter notre base de données avec Pandas. En plus des données obtenues, nous souhaitions aussi en ajouter d'autres et en particulier celles en lien avec les coordonnées géographiques (longitude et latitude) grâce à geopandas des biens afin de les utiliser dans le cadre de notre modèle. <div>"
   ]
  },
  {
   "cell_type": "markdown",
   "id": "120dc5ee",
   "metadata": {},
   "source": [
    "#### Explication du code :<br />  "
   ]
  },
  {
   "cell_type": "code",
   "execution_count": null,
   "id": "4e1d3d4c",
   "metadata": {},
   "outputs": [],
   "source": [
    "import pandas as pd\n",
    "import numpy as np\n",
    "from geopy.geocoders import Nominatim \n",
    "import geopandas\n",
    "from shapely.geometry import Point"
   ]
  },
  {
   "cell_type": "markdown",
   "id": "10fa083b",
   "metadata": {},
   "source": [
    "<div style=\"text-align: justify\">On lit la base issue du web scraping ('Base_WS_Brute') en renommant de la même manière les colonnes que celles issues de la base du gouvernement.<div>\n",
    "\n"
   ]
  },
  {
   "cell_type": "code",
   "execution_count": null,
   "id": "dc6b15d1",
   "metadata": {},
   "outputs": [],
   "source": [
    "df = pd.read_csv(\"Insérer la base issue du Web Scraping\",\\\n",
    "                 names=['adresse_du_bien', 'valeur_fonciere','type_local', 'prix_m2', 'details'],\\\n",
    "                  index_col=0)\n",
    "indexNames = df[ df['adresse_du_bien'] == 'addresse'].index\n",
    "df.drop(indexNames , inplace=True)\n",
    "df.head()"
   ]
  },
  {
   "cell_type": "markdown",
   "id": "05fd31f7",
   "metadata": {},
   "source": [
    "<div style=\"text-align: justify\">On supprime les doublons possibles issus du web scraping.<div>\n",
    "\n"
   ]
  },
  {
   "cell_type": "code",
   "execution_count": null,
   "id": "9932899b",
   "metadata": {},
   "outputs": [],
   "source": [
    "df.drop_duplicates(keep = 'first', inplace=True)"
   ]
  },
  {
   "cell_type": "markdown",
   "id": "892cd876",
   "metadata": {},
   "source": [
    "<div style=\"text-align: justify\">Nous avons ensuite créé trois fonctions permettant soit de supprimer des caractères précis ou d'indiquer les endroits où effectuer les séparations des colonnes.<div>"
   ]
  },
  {
   "cell_type": "code",
   "execution_count": null,
   "id": "c36185ff",
   "metadata": {},
   "outputs": [],
   "source": [
    "def func(x):\n",
    "    if x[0]=='s':\n",
    "        a=x[1:]\n",
    "        return str(a)\n",
    "    else:\n",
    "         return x\n",
    "\n",
    "def separator(c):\n",
    "    return lambda x: pd.Series(str(x).split(c))\n",
    "\n",
    "def maxi_separator(c, d):\n",
    "    return lambda x: pd.Series(str(x).split(c, d))"
   ]
  },
  {
   "cell_type": "markdown",
   "id": "18dd8687",
   "metadata": {},
   "source": [
    "<div style=\"text-align: justify\">On s'occupe d'abord de nettoyer les colonnes valeur_fonciere et prix_m2 en supprimant les chaînes de caractères inutiles.<div>\n",
    "\n"
   ]
  },
  {
   "cell_type": "code",
   "execution_count": null,
   "id": "a6e8d825",
   "metadata": {},
   "outputs": [],
   "source": [
    "df['prix_m2']=df['prix_m2'].str.split('€/m²').str[0]\n",
    "df['prix_m2']=df['prix_m2'].str.replace(' ', '')\n",
    "df['valeur_fonciere']=df['valeur_fonciere'].str.split('€').str[0] \n",
    "df['valeur_fonciere']=df['valeur_fonciere'].str.replace(' ', '')"
   ]
  },
  {
   "cell_type": "markdown",
   "id": "188cddfd",
   "metadata": {},
   "source": [
    "<div style=\"text-align: justify\">On supprime ensuite tous les biens qui ne sont pas localisés à Paris et qui viennent du fait que nous avons encadrer Paris qui est de forme ovale dans un rectangle. Ce sont donc les biens de 'coins'.Pour cela, on effectue un test sur la colonne adresse qui consiste à supprimer toutes les lignes dont les cinq derniers caractères sont différents de 'PARIS'.<div>\n",
    "\n"
   ]
  },
  {
   "cell_type": "code",
   "execution_count": null,
   "id": "7069a592",
   "metadata": {},
   "outputs": [],
   "source": [
    "indexNames = df[df['ville'] != 'PARIS'].index\n",
    "df.drop(indexNames , inplace=True)"
   ]
  },
  {
   "cell_type": "markdown",
   "id": "8ab9e920",
   "metadata": {},
   "source": [
    "<div style=\"text-align: justify\">On nettoye la colonne details pour contruire les colonnes nombre_pieces_principales, surface_reelle_bati et date_mutation.<div>\n",
    "\n"
   ]
  },
  {
   "cell_type": "code",
   "execution_count": null,
   "id": "907e1da3",
   "metadata": {},
   "outputs": [],
   "source": [
    "df[['nombre_pieces_principales','poubelle']] = df.details.apply(maxi_separator('Surface', 1))\n",
    "df[['surface_reelle_bati','poubelle']] = df.poubelle.apply(maxi_separator('m²', 1))\n",
    "df[['poubelle','date_mutation']] = df.poubelle.apply(maxi_separator('le', 1))\n",
    "df[['poubelle','nombre_pieces_principales']] = df.nombre_pieces_principales.apply(maxi_separator('Pièces', 1))\n",
    "df[['date_mutation','poubelle']] = df.date_mutation.apply(maxi_separator('+', 1))\n",
    "df.drop(['poubelle', 'details'], axis=1, inplace=True)\n",
    "liste_col = ['nombre_pieces_principales', 'surface_reelle_bati', 'date_mutation']\n",
    "for col in liste_col:\n",
    "    df[col]=df[col].str.split(',').str[1]\n",
    "for col in liste_col:\n",
    "    df[col]=df[col].str.split(\"'\").str[1]\n",
    "df.head()"
   ]
  },
  {
   "cell_type": "markdown",
   "id": "129aa770",
   "metadata": {},
   "source": [
    "<div style=\"text-align: justify\">On convertit les chaines de caratères numériques en nombres entiers pour les colonnes appropriées.<div>\n"
   ]
  },
  {
   "cell_type": "code",
   "execution_count": null,
   "id": "e6bb4d86",
   "metadata": {},
   "outputs": [],
   "source": [
    "list_newcolumn = ['valeur_fonciere','prix_m2','nombre_pieces_principales','surface_reelle_bati']\n",
    "for column in list_newcolumn:\n",
    "    df[column]=df[column].astype(int)"
   ]
  },
  {
   "cell_type": "markdown",
   "id": "5a84299d",
   "metadata": {},
   "source": [
    "<div style=\"text-align: justify\">On supprime les données qui semblent de mauvaises qualités par rapport au prix moyen du m2 à Paris.<div>"
   ]
  },
  {
   "cell_type": "code",
   "execution_count": null,
   "id": "1d186e3c",
   "metadata": {},
   "outputs": [],
   "source": [
    "indexNames = df[(df['prix_m2']< 8000)].index\n",
    "df.drop(indexNames , inplace=True)\n",
    "indexNames1 = df[(df['prix_m2']> 19000)].index\n",
    "df.drop(indexNames1 , inplace=True)"
   ]
  },
  {
   "cell_type": "markdown",
   "id": "298aaddd",
   "metadata": {},
   "source": [
    "<div style=\"text-align: justify\">Après avoir terminé de traiter les données issues du web scraping, nous avons souhaité en créer de nouvelles en convertissant les adresses précises des biens en coordonnées géographiques. Pour cela, nous avons utilisé les modules geopandas et geopy. Nous avons d'abord créé une colonne dans laquelle se trouve les coordonnées des biens avant de supprimer les lignes où ces coordonnées étaient introuvables pour enfin diviser la colonne coordonnée en deux colonnes distinctes contenant les données de longitude et de latitude.<div> "
   ]
  },
  {
   "cell_type": "code",
   "execution_count": null,
   "id": "0d3baeec",
   "metadata": {},
   "outputs": [],
   "source": [
    "geolocator = Nominatim(timeout=5, user_agent = \"myGeolocator\")\n",
    "df['coordinates'] = df['adresse_du_bien'].apply(geolocator.geocode)\n",
    "df = df.dropna() #enlève les lignes avec des 'Nan'\n",
    "df.reset_index(drop=True) #censer renuméroter le DataFrame mais ça marche pas mdrr\n",
    "df['longitude'] = df['coordinates'].apply(lambda x: x.point.longitude)\n",
    "df['latitude'] = df['coordinates'].apply(lambda x: x.point.latitude)"
   ]
  },
  {
   "cell_type": "markdown",
   "id": "33d8b568",
   "metadata": {},
   "source": [
    "<div style=\"text-align: justify\">On supprime les colonnes qui ne sont plus utiles et réordonne celles utiles afin que la base soit similaire à celle du gouv nettoyée.<div>\n",
    "\n"
   ]
  },
  {
   "cell_type": "code",
   "execution_count": null,
   "id": "b418b120",
   "metadata": {},
   "outputs": [],
   "source": [
    "df.drop(['coordinates', 'adresse_du_bien', 'adresse', 'ville', 'prix_m2'], axis=1, inplace=True)\n",
    "df = df[['date_mutation','valeur_fonciere','type_local','surface_reelle_bati','nombre_pieces_principales','longitude','latitude']]"
   ]
  },
  {
   "cell_type": "code",
   "execution_count": null,
   "id": "d24e107b",
   "metadata": {},
   "outputs": [],
   "source": [
    "df"
   ]
  },
  {
   "cell_type": "markdown",
   "id": "6bec8057",
   "metadata": {},
   "source": [
    "<div style=\"text-align: justify\">On peut sauvegarder la base qui est disponible sur GitHub dans le dossier 'Traitement de la base de données issue du WS' et intitulée 'Base_WS_traitee'.<div>\n",
    "\n"
   ]
  },
  {
   "cell_type": "code",
   "execution_count": null,
   "id": "8a597dc5",
   "metadata": {},
   "outputs": [],
   "source": [
    "df.to_csv('Base_WS_traitee.csv')"
   ]
  },
  {
   "cell_type": "markdown",
   "id": "46a44eb1",
   "metadata": {},
   "source": [
    "# Statistiques descriptives"
   ]
  },
  {
   "cell_type": "markdown",
   "id": "0b8c9b23",
   "metadata": {},
   "source": [
    "# Preprocessing"
   ]
  },
  {
   "cell_type": "markdown",
   "id": "18f5ebc6",
   "metadata": {},
   "source": [
    "#### Notre démarche : <br />\n",
    "\n",
    "<div style=\"text-align: justify\">Notre base comporte à la fois des varibales catégorielles ainsi que des variables continues. Nous avons donc dû traiter les deux types de variables séparément.<div><br />\n",
    "\n",
    "<div style=\"text-align: justify\">Les variables catégorielles(la date, le nombre de pièces et le type du bien).<div><br /> \n",
    "\n",
    "<div style=\"text-align: justify\">Les variables continues (la surface, la longitude et la latitude).<div><br />\n",
    "\n",
    "<div style=\"text-align: justify\">Nous avons alors créé une fonction nous permettant de choisir le meilleur standardisateur parmis StandardScaler, MinMaxScaler, RobustScaler pour 6 modèles utilisés. Le standardisateur qui avait globalement les meilleurs performances a été ()..<div> "
   ]
  },
  {
   "cell_type": "markdown",
   "id": "b8dda87c",
   "metadata": {},
   "source": [
    "#### Explication du code :<br />  \n",
    "\n",
    "<div style=\"text-align: justify\">On importe d'abord plusieurs modules dont les modèles à tester et les standardisateur (LabelEncoder, StandardScaler, RobustScaler,MinMaxScaler) en lien avec sklearn.<div> \n"
   ]
  },
  {
   "cell_type": "code",
   "execution_count": null,
   "id": "b154fb39",
   "metadata": {},
   "outputs": [],
   "source": [
    "import numpy as np\n",
    "import pandas as pd\n",
    "from sklearn.model_selection import train_test_split\n",
    "from sklearn.preprocessing import LabelEncoder, StandardScaler, RobustScaler,MinMaxScaler\n",
    "from sklearn.metrics import accuracy_score\n",
    "from sklearn.tree import DecisionTreeClassifier\n",
    "from sklearn.ensemble import RandomForestClassifier\n",
    "from sklearn.neighbors import KNeighborsClassifier\n",
    "from sklearn.svm import SVC\n",
    "from sklearn.linear_model import LogisticRegression,LinearRegression\n",
    "from sklearn.model_selection import cross_val_score"
   ]
  },
  {
   "cell_type": "code",
   "execution_count": null,
   "id": "28ddde22",
   "metadata": {},
   "outputs": [],
   "source": [
    "df_temp = pd.read_csv('Insérer la base Base_WS_traitee')\n",
    "\n",
    "column = [\"date_mutation\",\"valeur_fonciere\", \"type_local\",\"surface_reelle_bati\", \"nombre_pieces_principales\",\"longitude\", \"latitude\"]\n",
    "df = df_temp[column]"
   ]
  },
  {
   "cell_type": "markdown",
   "id": "3e8b9c6d",
   "metadata": {},
   "source": [
    "#### <div style=\"text-align: justify\">On traite d'abord les variables catégorielles.<div> \n",
    "\n"
   ]
  },
  {
   "cell_type": "markdown",
   "id": "8468ac2b",
   "metadata": {},
   "source": [
    "<div style=\"text-align: justify\">On recode en binaire la variable type de bien.<div> \n",
    "\n"
   ]
  },
  {
   "cell_type": "code",
   "execution_count": null,
   "id": "5d9af344",
   "metadata": {},
   "outputs": [],
   "source": [
    "encoder = LabelEncoder()\n",
    "df[\"type_local\"]=encoder.fit_transform(df[\"type_local\"])"
   ]
  },
  {
   "cell_type": "markdown",
   "id": "1226f157",
   "metadata": {},
   "source": [
    "<div style=\"text-align: justify\">On regroupe les biens de plus de 9 pièces afin d'éviter le bruit que ces varibales pourraient engendrer.<div>\n",
    "\n"
   ]
  },
  {
   "cell_type": "code",
   "execution_count": null,
   "id": "3c7c2981",
   "metadata": {},
   "outputs": [],
   "source": [
    "conditions = [df['nombre_pieces_principales']<9, df['nombre_pieces_principales']>=9]\n",
    "values = [df['nombre_pieces_principales'].values, 'more_than_9']\n",
    "df['test_nb_pieces'] = np.select(conditions, values)"
   ]
  },
  {
   "cell_type": "markdown",
   "id": "175a4c99",
   "metadata": {},
   "source": [
    "<div style=\"text-align: justify\">Pour traiter la date nous avons converti la colonne en datetime puis créé deux nouvelles colonnes contenant l'année de vente et le mois. Nous avons en effet estimé que le jour de vente n'aurait pas réellement d'impact sur l'estimation du prix. Puis nous avons regroupé les mois en demi-semestres pour gagner en pertinance.\n",
    "<div> "
   ]
  },
  {
   "cell_type": "code",
   "execution_count": null,
   "id": "07c876f3",
   "metadata": {},
   "outputs": [],
   "source": [
    "df[\"date_mutation\"]=pd.to_datetime(df[\"date_mutation\"]) \n",
    "df['année'] = df['date_mutation'].dt.year\n",
    "df['mois'] = df['date_mutation'].dt.month\n",
    "df.sort_values('date_mutation', ignore_index=True)\n",
    "\n",
    "conditions = [df['mois']<4, (df['mois']>=4) & (df['mois']<7), (df['mois']>=7) & (df['mois']<10),df['mois']>=10]\n",
    "choiceliste = ['semestre_1','semestre_2','semestre_3','semestre_4']\n",
    "df['semestre'] = np.select(conditions, choiceliste)"
   ]
  },
  {
   "cell_type": "markdown",
   "id": "a49bbd5f",
   "metadata": {},
   "source": [
    "\n",
    "<div style=\"text-align: justify\">Nous avons ensuite encoder ces variables grâce à get_dummies() qui les a converties en indicatrices.\n",
    "\n"
   ]
  },
  {
   "cell_type": "code",
   "execution_count": null,
   "id": "1e04a510",
   "metadata": {},
   "outputs": [],
   "source": [
    "df_test = pd.get_dummies(df, columns = ['semestre'])\n",
    "df_final = pd.get_dummies(df_test, columns = ['test_nb_pieces'])"
   ]
  },
  {
   "cell_type": "markdown",
   "id": "d94653d8",
   "metadata": {},
   "source": [
    "<div style=\"text-align: justify\">On utilise 3 principaux Standardisateurs.<div> "
   ]
  },
  {
   "cell_type": "code",
   "execution_count": null,
   "id": "35ce21c9",
   "metadata": {},
   "outputs": [],
   "source": [
    "sc = StandardScaler()\n",
    "rs = RobustScaler()\n",
    "minmax = MinMaxScaler()"
   ]
  },
  {
   "cell_type": "markdown",
   "id": "725b9810",
   "metadata": {},
   "source": [
    "<div style=\"text-align: justify\">On standardise les variables continues dans les bases train et test selon les 3 standardisateurs choisis.<div> "
   ]
  },
  {
   "cell_type": "code",
   "execution_count": null,
   "id": "499250cf",
   "metadata": {},
   "outputs": [],
   "source": [
    "scale = sc.fit_transform(df_continu)\n",
    "df_scale = pd.DataFrame(scale, columns = liste_annexe)\n",
    "scale_test = sc.transform(df_continu_test)\n",
    "df_scale_test = pd.DataFrame(scale_test, columns = liste_annexe)\n",
    "\n",
    "robust = rs.fit_transform(df_continu)\n",
    "df_robust = pd.DataFrame(robust, columns = liste_annexe)\n",
    "robust_test = rs.transform(df_continu_test)\n",
    "df_robust_test = pd.DataFrame(robust_test, columns = liste_annexe)\n",
    "\n",
    "MinMax = minmax.fit_transform(df_continu)\n",
    "df_MinMax = pd.DataFrame(MinMax, columns = liste_annexe)\n",
    "MinMax_test = minmax.transform(df_continu_test)\n",
    "df_MinMax_test = pd.DataFrame(MinMax_test, columns = liste_annexe)"
   ]
  },
  {
   "cell_type": "markdown",
   "id": "0aa21ad8",
   "metadata": {},
   "source": [
    "<div style=\"text-align: justify\">On termine de construire nos bases finales standardisées selon les trois estimateurs.<div> "
   ]
  },
  {
   "cell_type": "code",
   "execution_count": null,
   "id": "603da8eb",
   "metadata": {},
   "outputs": [],
   "source": [
    "X_train_st = X_train.copy()\n",
    "X_train_rob = X_train.copy()\n",
    "X_train_mm = X_train.copy()\n",
    "\n",
    "X_test_st = X_test.copy()\n",
    "X_test_rob = X_test.copy()\n",
    "X_test_mm = X_test.copy()\n",
    "\n",
    "for col in liste_annexe:\n",
    "    X_train_st[col] = df_scale[col]\n",
    "    X_test_st[col] = df_scale_test[col]\n",
    "    \n",
    "for col in liste_annexe:\n",
    "    X_train_rob[col] = df_robust[col]\n",
    "    X_test_rob[col] = df_robust_test[col]\n",
    "    \n",
    "for col in liste_annexe:\n",
    "    X_train_mm[col] = df_MinMax[col]\n",
    "    X_test_mm[col] = df_MinMax_test[col]"
   ]
  },
  {
   "cell_type": "markdown",
   "id": "d54aff43",
   "metadata": {},
   "source": [
    "<div style=\"text-align: justify\">On crée une fonction pour voir quel est le meilleur standardisateur pour chaque modèle choisi.<div> "
   ]
  },
  {
   "cell_type": "code",
   "execution_count": null,
   "id": "54db460b",
   "metadata": {},
   "outputs": [],
   "source": [
    "def meilleur_standardiseur(model_name):\n",
    "    \n",
    "    better_score = 0\n",
    "    better_scaler = ''\n",
    "\n",
    "    X_train_list = [X_train_st, X_train_rob, X_train_mm]\n",
    "    X_test_list = [X_test_st, X_test_rob, X_test_mm]\n",
    "    scalers = [\"Standard\", \"Robust\", \"MinMax\"]\n",
    "    \n",
    "    for i in range(len(X_test_list)):\n",
    "        model = model_name\n",
    "        model.fit(X_train_list[i], Y_train)\n",
    "        score = model.score(X_test_list[i], Y_test)\n",
    "        if score > better_score:\n",
    "            better_score = score\n",
    "            better_scaler = scalers[i]\n",
    "        elif score == better_score:\n",
    "            better_scaler += \" / \" + scalers[i]\n",
    "    print(\"Pour le modèle {}, better score {} avec {}.\".format(model_name, better_score, better_scaler))"
   ]
  },
  {
   "cell_type": "markdown",
   "id": "cc71203f",
   "metadata": {},
   "source": [
    "<div style=\"text-align: justify\">On applique la fonction à 6 modèles différents.<div> "
   ]
  },
  {
   "cell_type": "code",
   "execution_count": null,
   "id": "a2a1a1b7",
   "metadata": {},
   "outputs": [],
   "source": [
    "meilleur_standardiseur(LinearRegression())"
   ]
  },
  {
   "cell_type": "code",
   "execution_count": null,
   "id": "3fbdb0bd",
   "metadata": {},
   "outputs": [],
   "source": [
    "meilleur_standardiseur(RandomForestClassifier())"
   ]
  },
  {
   "cell_type": "code",
   "execution_count": null,
   "id": "ab267437",
   "metadata": {},
   "outputs": [],
   "source": [
    "meilleur_standardiseur(DecisionTreeClassifier())"
   ]
  },
  {
   "cell_type": "code",
   "execution_count": null,
   "id": "2bd543db",
   "metadata": {},
   "outputs": [],
   "source": [
    "meilleur_standardiseur(LogisticRegression())"
   ]
  },
  {
   "cell_type": "code",
   "execution_count": null,
   "id": "8a226f98",
   "metadata": {},
   "outputs": [],
   "source": [
    "meilleur_standardiseur(KNeighborsClassifier())"
   ]
  },
  {
   "cell_type": "code",
   "execution_count": null,
   "id": "741b2185",
   "metadata": {},
   "outputs": [],
   "source": [
    "meilleur_standardiseur(SVC())"
   ]
  },
  {
   "cell_type": "markdown",
   "id": "aad880a5",
   "metadata": {},
   "source": [
    "#### <div style=\"text-align: justify\"> Résultat du meilleur standardisateur selon les modèles utilisés :<div> "
   ]
  },
  {
   "cell_type": "markdown",
   "id": "d4868f33",
   "metadata": {},
   "source": [
    "|          | Decision Tree Method | Random Forest Method | K Neighbors Classifier | Support Vector Machine | Logistic Regression | Linear Regression | \n",
    "|:--------:| :------------------: | :------------------: | :--------------------: | :--------------------: | :-----------------: | :---------------: |\n",
    "| Robust   |          ✅          |          ?           |           ✅           |          ?             |         ❌          |        ✅        |\n",
    "| Standard |          ❌          |          ?           |           ❌           |          ?             |         ❌          |        ❌        |\n",
    "| MinMax   |          ❌          |          ?           |           ❌           |          ?             |         ✅          |        ❌        |\n"
   ]
  },
  {
   "cell_type": "markdown",
   "id": "c2b2c3f2",
   "metadata": {},
   "source": [
    "<div style=\"text-align: justify\">On peut enregistrer les bases train et test standardisés selon le meilleur standardisateur de chaque modèle.<div> "
   ]
  },
  {
   "cell_type": "code",
   "execution_count": null,
   "id": "55685ebd",
   "metadata": {},
   "outputs": [],
   "source": [
    "df_new.to_csv('base finale pour le ML')"
   ]
  },
  {
   "cell_type": "markdown",
   "id": "cf1a368f",
   "metadata": {},
   "source": [
    "# Modélisation "
   ]
  },
  {
   "cell_type": "markdown",
   "id": "d3bc743e",
   "metadata": {},
   "source": [
    "#### Notre démarche : <br />\n",
    "\n",
    "<div style=\"text-align: justify\">Après avoir choisi le meilleur standardisateur pour chaque modèle utiliser, nous allons créer une fonction permettant de déterminer les hyperparamètres optimaux de chaque modèle parmi ceux sélectionnés.<div><br />"
   ]
  },
  {
   "cell_type": "markdown",
   "id": "9b7ea56f",
   "metadata": {},
   "source": [
    "#### Explication du code :<br />  "
   ]
  },
  {
   "cell_type": "code",
   "execution_count": null,
   "id": "6e49f1bc",
   "metadata": {},
   "outputs": [],
   "source": [
    "import numpy as np\n",
    "import pandas as pd\n",
    "from sklearn.tree import DecisionTreeClassifier\n",
    "from sklearn.ensemble import RandomForestClassifier\n",
    "from sklearn.neighbors import KNeighborsClassifier\n",
    "from sklearn.svm import SVC\n",
    "from sklearn.linear_model import LogisticRegression, LinearRegression\n",
    "from sklearn.model_selection import cross_val_score, GridSearchCV, StratifiedKFold\n",
    "from sklearn.pipeline import make_pipeline\n",
    "from statistics import mean"
   ]
  },
  {
   "cell_type": "markdown",
   "id": "d7ad580a",
   "metadata": {},
   "source": [
    "<div style=\"text-align: justify\">On définit de dictionnaires concernant les hyperparamètres de chaque modèle selectionné.<br />"
   ]
  },
  {
   "cell_type": "code",
   "execution_count": null,
   "id": "6556d594",
   "metadata": {},
   "outputs": [],
   "source": [
    "dico_param_tree = {'decisiontreeclassifier__criterion': ['gini', 'entropy'],\n",
    "         'decisiontreeclassifier__splitter': ['best', 'random']}\n",
    "dico_param_rf = {\"randomforestclassifier__n_estimators\": np.arange(10, 100, 20),\n",
    "              \"randomforestclassifier__criterion\": ['gini', 'entropy'],\n",
    "              \"randomforestclassifier__max_features\": ['auto', 'sqrt', 'log2'],\n",
    "              \"randomforestclassifier__class_weight\": [None, 'balanced']}\n",
    "dico_param_log = {'logisticregression__solver': ['newton-cg', 'lbfgs', \n",
    "                                                 'liblinear', 'sag', 'saga']}\n",
    "dico_param_knn = {\"kneighborsclassifier__n_neighbors\":np.arange(2, 10, 1),\n",
    "                 \"kneighborsclassifier__weights\": ['uniform', \"distance\"],\n",
    "                 \"kneighborsclassifier__algorithm\": [\"auto\", \"ball_tree\", \"kd_tree\", \"brute\"]}\n",
    "dico_param_svm = {'svc__kernel':[\"linear\", \"poly\", \"rbf\", \"sigmoid\"], \n",
    "           \"svc__gamma\":['scale', \"auto\"],\n",
    "                 \"svc__probability\":[True, False]}"
   ]
  },
  {
   "cell_type": "markdown",
   "id": "2b4ed590",
   "metadata": {},
   "source": [
    "<div style=\"text-align: justify\">On utilise ma\n",
    "    ke_pipeline pour sauvegarder nos modèles et éviter de relancer des calcules conséquents à chaque fois. <div>"
   ]
  },
  {
   "cell_type": "code",
   "execution_count": null,
   "id": "afc3a8a3",
   "metadata": {},
   "outputs": [],
   "source": [
    "model_rf = make_pipeline(RandomForestClassifier())\n",
    "model_tree = make_pipeline(DecisionTreeClassifier())\n",
    "model_log = make_pipeline(LogisticRegression())\n",
    "model_knn = make_pipeline(KNeighborsClassifier())\n",
    "model_svm = make_pipeline(SVC())"
   ]
  },
  {
   "cell_type": "markdown",
   "id": "3aca8d16",
   "metadata": {},
   "source": [
    "<div style=\"text-align: justify\">On crée une fonction qui donne les meilleurs hyperparamètres de chaque modèle. <div>"
   ]
  },
  {
   "cell_type": "code",
   "execution_count": null,
   "id": "e287c07b",
   "metadata": {},
   "outputs": [],
   "source": [
    "# On souhaite que le recall et la precision soient les scores qui comptent le plus\n",
    "SCORING = 'f1_weighted' \n",
    "\n",
    "def best_param(X, Y, pipeline, dico_param):\n",
    "    \n",
    "    # On crée un grid search pour obtenir les meilleurs hyperparamètres\n",
    "    grid = GridSearchCV(\n",
    "        pipeline, \n",
    "        param_grid=dico_param,  \n",
    "        cv=5, \n",
    "        refit=True,\n",
    "        scoring=SCORING)\n",
    "    \n",
    "    grid.fit(X, Y)\n",
    "    print(f\"Le meilleur estimateur a {SCORING}={round(grid.best_score_, 2)}\")\n",
    "    \n",
    "    # On garde le meilleur modèle en mémoire \n",
    "    best_model = grid.best_estimator_\n",
    "    print(\"Le meilleur modèle est :\", best_model[0])\n",
    "    return best_model[0]"
   ]
  },
  {
   "cell_type": "code",
   "execution_count": null,
   "id": "640e2eec",
   "metadata": {},
   "outputs": [],
   "source": [
    "<div style=\"text-align: justify\">On crée une fonction qui donne les meilleurs hyperparamètres de chaque modèle. <div>"
   ]
  },
  {
   "cell_type": "code",
   "execution_count": null,
   "id": "66316ba4",
   "metadata": {},
   "outputs": [],
   "source": [
    "best_model_log = best_param(X_train, Y_train, model_log, dico_param_log)"
   ]
  },
  {
   "cell_type": "code",
   "execution_count": null,
   "id": "39f61350",
   "metadata": {},
   "outputs": [],
   "source": [
    "best_model_tree = best_param(X_train, Y_train, model_tree, dico_param_tree)"
   ]
  },
  {
   "cell_type": "code",
   "execution_count": null,
   "id": "3f0676dd",
   "metadata": {},
   "outputs": [],
   "source": [
    "best_model_knn = best_param(X_train, Y_train, model_knn, dico_param_knn)"
   ]
  },
  {
   "cell_type": "code",
   "execution_count": null,
   "id": "43344020",
   "metadata": {},
   "outputs": [],
   "source": [
    "best_model_svm = best_param(X_train, Y_train, model_svm, dico_param_svm)"
   ]
  },
  {
   "cell_type": "code",
   "execution_count": null,
   "id": "17ba6e81",
   "metadata": {},
   "outputs": [],
   "source": [
    "best_model_rf = best_param(X_train, Y_train, model_rf, dico_param_rf)"
   ]
  },
  {
   "cell_type": "markdown",
   "id": "35fe4a5d",
   "metadata": {},
   "source": [
    "<div style=\"text-align: justify\">On crée une fonction pour tester le meilleur modèle et obtenir différents résultats sur ses performances. <div>"
   ]
  },
  {
   "cell_type": "code",
   "execution_count": null,
   "id": "c1ef327d",
   "metadata": {},
   "outputs": [],
   "source": [
    "def fit(X_train, X_test, Y_train, model):\n",
    "    \n",
    "    accuracy = mean(cross_val_score(model, X_train, Y_train, cv=(), scoring='accuracy'))\n",
    "    auc = mean(cross_val_score(model, X_train, Y_train, cv=StratifiedKFold(), scoring='roc_auc'))\n",
    "    precision = mean(cross_val_score(model, X_train, Y_train, cv=StratifiedKFold(), scoring='precision'))\n",
    "    recall = mean(cross_val_score(model, X_train, Y_train, cv=StratifiedKFold(), scoring='recall'))\n",
    "    f1_weighted = mean(cross_val_score(model, X_train, Y_train, cv=StratifiedKFold(), scoring='f1_weighted'))\n",
    "    proba = model.predict_proba(X_test)[:,1]\n",
    "    \n",
    "    print('Accuracy: {:.3g}'.format(accuracy))\n",
    "    print('Precision: {:.3g}'.format(precision))\n",
    "    print('Recall: {:.3g}'.format(recall))\n",
    "    print('F1 weighted: {:.3g}'.format(f1_weighted))\n",
    "    print('AUC score: {:.3g}'.format(auc))\n",
    "    \n",
    "    return accuracy, auc, precision, f1_weighted, proba, recall"
   ]
  },
  {
   "cell_type": "markdown",
   "id": "210099c1",
   "metadata": {},
   "source": [
    " <div style=\"text-align: justify\">On applique la fonction au meilleur modèle. <div>"
   ]
  },
  {
   "cell_type": "code",
   "execution_count": null,
   "id": "1e921d07",
   "metadata": {},
   "outputs": [],
   "source": [
    "accuracy_log, auc_log, precision_log, f1_weighted_log, proba_log, recall_log = fit(X_train, X_test, Y_train, best_model_log)"
   ]
  },
  {
   "cell_type": "markdown",
   "id": "348e5d11",
   "metadata": {},
   "source": [
    "#### <div style=\"text-align: justify\">Résultats des modèles utilisés : <div><br />\n",
    "\n",
    "|          | Decision Tree Method | Random Forest Method | K Neighbors Classifier | Support Vector Machine | Logistic Regression | Linear Regression | \n",
    "|:--------:| :------------------: | :------------------: | :--------------------: | :--------------------: | :-----------------: | :---------------: |\n",
    "| Score    |          ?           |          ?           |            ?           |          ?             |         ?           |       ?           |\n",
    "| Accuracy |          ?           |         ?            |          ?             |          ?             |       ?             |     ?             |\n",
    "\n",
    "Ainsi, nous avons décidé de choisir le modèle XXX avec comme standardisateur XXX et comme hyperparamètres XXX pour estimer le prix d'un bien selon certaines de ses caractéristiques. "
   ]
  },
  {
   "cell_type": "markdown",
   "id": "db0eee36",
   "metadata": {},
   "source": [
    "# Visualisation grâce à une interface graphique"
   ]
  },
  {
   "cell_type": "markdown",
   "id": "090e5995",
   "metadata": {},
   "source": [
    "#### Notre démarche : <br />\n",
    "\n",
    "<div style=\"text-align: justify\">Plutôt de rentrer directement les caractéristiques du bien dans Python, nous avons souhaité développer une certaine expérience utilisateur tant pour allier forme et fond que pour créer une interface dynamique. Nous avons aussi voulu utiliser le plus de fonctionalités du module associé à l'interface et c'est pourquoi nous avons varié la nature des widgets utilisés tout en essayant de trouver le plus adapté à l'entrée du paramètre.<div> "
   ]
  },
  {
   "cell_type": "markdown",
   "id": "1fdad9fd",
   "metadata": {},
   "source": [
    "#### Explication du code :<br />  \n",
    "\n",
    "Pour cela on utilise des modules non convetionnels qu'il faudra installer au préalable tels que tkintermapview, customtkinter ou encore tkcalendar."
   ]
  },
  {
   "cell_type": "code",
   "execution_count": null,
   "id": "3e3e8aa2",
   "metadata": {},
   "outputs": [],
   "source": [
    "import tkinter\n",
    "import tkinter.messagebox\n",
    "import tkintermapview\n",
    "import customtkinter\n",
    "import tkcalendar\n",
    "import geopandas\n",
    "from geopy.geocoders import Nominatim \n",
    "import pandas as pd\n",
    "import numpy as np"
   ]
  },
  {
   "cell_type": "markdown",
   "id": "d29fa904",
   "metadata": {},
   "source": [
    "<div style=\"text-align: justify\">Après ce travail préalable, nous avons véritablement créé notre interface et utilisé des widgets différents (Entry, commonbox, button etc.) pour le meilleur rendu possible. Nous avons souhaité créer un compteur pour indiquer le nombre de pièces du bien en liant une fonction + et une fonction - à leur bouton repectif qui modifient le texte d'un Label. <div><br />\n",
    "    \n",
    "<div style=\"text-align: justify\">Nous avons aussi introduit un calendrier pour la saisie de la date qui apparait lorsqu'un bouton est actionné et disparait en affichant la date dans un label lorsqu'un autre l'est aussi. Enfin, nous avons relié la fonction estimateur par l'intermédiaire de la fonction callback à un bouton central. <div> "
   ]
  },
  {
   "cell_type": "code",
   "execution_count": null,
   "id": "d50bf3bf",
   "metadata": {},
   "outputs": [],
   "source": [
    "global df\n",
    "\n",
    "customtkinter.set_appearance_mode(\"System\") \n",
    "customtkinter.set_default_color_theme(\"dark-blue\") \n",
    "\n",
    "\n",
    "class App(customtkinter.CTk):\n",
    "\n",
    "    WIDTH = 1080\n",
    "    HEIGHT = 950\n",
    "    \n",
    "    def __init__(self):\n",
    "        super().__init__()\n",
    "\n",
    "        self.title(\"Welcome at JCT Company.py\")\n",
    "        self.geometry(f\"{App.WIDTH}x{App.HEIGHT}\")\n",
    "        self.protocol(\"WM_DELETE_WINDOW\", self.on_closing) \n",
    "\n",
    "        # ======================== Création de deux frame ========================\n",
    "\n",
    "        # configure grid layout (2x1)\n",
    "        \n",
    "        self.grid_columnconfigure(0, weight = 0)\n",
    "        self.grid_columnconfigure(1, weight = 1)\n",
    "        self.grid_columnconfigure(2, weight = 0)\n",
    "        self.grid_rowconfigure(0, weight=0)\n",
    "        self.grid_rowconfigure(1, weight=1)\n",
    "\n",
    "        self.frame_left = customtkinter.CTkFrame(master=self,\n",
    "                                                 width=100,\n",
    "                                                 corner_radius=0)\n",
    "        self.frame_left.grid(row=0, column=0, sticky=\"nswe\")\n",
    "        \n",
    "        self.frame_right = customtkinter.CTkFrame(master=self,\n",
    "                                                 width=20,\n",
    "                                                 corner_radius=0, \n",
    "                                                 fg_color = \"transparent\")\n",
    "        self.frame_right.grid(row=0, column=2, sticky=\"nswe\")\n",
    "\n",
    "        \n",
    "        # ============ Titre général du frame_left ============\n",
    "        \n",
    "        self.label_titre = customtkinter.CTkLabel(master=self.frame_left,\n",
    "                                              text=\"Paramètres du bien à estimer\",\n",
    "                                              font=(\"Roboto Medium\", -25))\n",
    "        self.label_titre.grid(row=0, column=0, columnspan=2, pady=20, padx=10, sticky=\"nswe\")\n",
    "    \n",
    "    \n",
    "        # ============ Insertion de l'adresse du bien et de son arrondissement ============\n",
    "\n",
    "        self.entry_adresse = customtkinter.CTkEntry(master=self.frame_left,\n",
    "                                            width=100,\n",
    "                                            placeholder_text=\"Adresse du bien\")     \n",
    "        self.entry_adresse.grid(row=1, column=0, pady=30, padx=10, sticky=\"we\")\n",
    "        \n",
    "        self.combobox_arrondissement = customtkinter.CTkComboBox(master=self.frame_left,\n",
    "                                                    values=[\"75001\", \"75002\", \"75003\", \"75004\", \"75005\", \"75006\", \"75007\", \"75008\", \"75009\", \"75010\",\"75011\", \"75012\", \"75013\", \"75014\", \"75015\",\"75016\", \"75017\", \"75018\", \"75019\", \"75020\"])\n",
    "        self.combobox_arrondissement.grid(row=1, column=1, pady=30, padx=10, sticky=\"we\")\n",
    "        self.combobox_arrondissement.set(\"Arrondissement\")\n",
    "        \n",
    "        \n",
    "        # ============ Insertion de la surface du bien ============\n",
    "        \n",
    "        self.entry_surface = customtkinter.CTkEntry(master=self.frame_left,\n",
    "                                            width=100,\n",
    "                                            placeholder_text=\"Surface du bien (en m2)\")\n",
    "        self.entry_surface.grid(row=2, column=0, pady=30, padx=10, sticky=\"we\")\n",
    "\n",
    "\n",
    "        # ============ Précision du type de bien (maison ou appartement) ============\n",
    "\n",
    "        self.radio_var = tkinter.IntVar(value=0)\n",
    "        \n",
    "        self.radio_button_appartement = customtkinter.CTkRadioButton(master=self.frame_left,text=\"Appartement\",\n",
    "                                                           variable=self.radio_var,\n",
    "                                                           value=0)\n",
    "        self.radio_button_appartement.grid(row=3, column=0,pady=30, padx=10, sticky=\"nswe\")\n",
    "\n",
    "        self.radio_button_maison = customtkinter.CTkRadioButton(master=self.frame_left, text=\"Maison\",\n",
    "                                                           variable=self.radio_var,\n",
    "                                                           value=1)\n",
    "        self.radio_button_maison.grid(row=3, column=0,pady=30, padx=150, sticky=\"nswe\")\n",
    "\n",
    "\n",
    "        # ============ Insertion du prix d'achat du bien ============\n",
    "\n",
    "        self.entry_prix = customtkinter.CTkEntry(master=self.frame_left,\n",
    "                                            width=150,\n",
    "                                            placeholder_text=\"Prix d'achat du bien\")      \n",
    "        self.entry_prix.grid(row=6, column=0, pady=30, padx=10, sticky=\"we\")\n",
    "        \n",
    "        # ============ Définition d'une pièce ============\n",
    "        \n",
    "        self.label_info = customtkinter.CTkLabel(master=self.frame_left,\n",
    "                                                   text=\"Indiquez le nombre de pièces \\n\" + \"(On considère comme étant une pièce tout endroit de plus de 9m2 \\n\" +\n",
    "                                                   \"les salles de bains et WC ne sont pas pris en compte)\",\n",
    "                                                   width=400,\n",
    "                                                   corner_radius=6,  \n",
    "                                                   fg_color=(\"white\", \"gray38\"),\n",
    "                                                   justify=tkinter.LEFT)\n",
    "        self.label_info.grid(row=4, column=0, pady=30, padx=10, sticky=\"w\")\n",
    "        \n",
    "        \n",
    "        # ============ Compteur pour indiquer le nombre de pièces ============\n",
    "        \n",
    "        self.res_piece = customtkinter.CTkLabel(master=self.frame_left,text='0')\n",
    "        self.res_piece.grid(row=4, column=1, padx=10, pady=50, sticky=\"ew\")\n",
    "        \n",
    "        \n",
    "        # ============ Création de deux boutons pour régler le nombre de pièces du bien ============\n",
    "        def compteur_plus():\n",
    "            a= int(self.res_piece.cget(\"text\"))\n",
    "            if a >= 50:\n",
    "                a = a\n",
    "            else:\n",
    "                a = a+1\n",
    "            self.res_piece.configure(text=str(a))\n",
    "            global nbp #crée une variable globale qu'on peut appeler n'importe où dans le code\n",
    "            nbp = a\n",
    "        \n",
    "        def compteur_moins():\n",
    "            b = int(self.res_piece.cget(\"text\"))\n",
    "            if b==0:\n",
    "                b=b\n",
    "            else:\n",
    "                b = b-1\n",
    "            self.res_piece.configure(text=str(b))\n",
    "            global nbp #crée une variable globale qu'on peut appeler n'importe où dans le code\n",
    "            nbp = b\n",
    "\n",
    "        self.bouton_compteur_plus = customtkinter.CTkButton(master=self.frame_left, text=\"+\", width=26, \n",
    "                                                    height=26,\n",
    "                                                    command=compteur_plus)\n",
    "        self.bouton_compteur_plus.place(x=521,y=380)\n",
    "        \n",
    "        self.bouton_compteur_moins = customtkinter.CTkButton(master=self.frame_left, text=\"-\", width=26, \n",
    "                                                    height=26,\n",
    "                                                    command=compteur_moins)\n",
    "        self.bouton_compteur_moins.place(x=471,y=380)\n",
    "        \n",
    "\n",
    "        # ============ Précision de la date du jour ============\n",
    "        def calendrier():\n",
    "            #date_today = ''\n",
    "            self.cal = tkcalendar.Calendar(self, selectmode = 'day', year = 2022, month = 12, day = 25)\n",
    "            self.cal.place(x=950, y=490)\n",
    "            def grad_date():\n",
    "                #self.label_mask = customtkinter.CTkLabel(self.frame_left, width = 10)\n",
    "                #self.label_mask.grid(row=11, column=1, pady=10, padx=10)\n",
    "                self.date = customtkinter.CTkLabel(self, text = \"\") \n",
    "                self.date.configure(text = self.cal.get_date()) \n",
    "                self.cal.destroy()\n",
    "                self.button_date.destroy()\n",
    "                global date_today\n",
    "                self.date_today = self.date.cget(\"text\")\n",
    "                date_today = self.date_today\n",
    "                #affichage de la date\n",
    "                self.label_calendrier = customtkinter.CTkLabel(master=self.frame_left,\n",
    "                                                            text=self.date_today,\n",
    "                                                            font=(\"Roboto Medium\", -12),\n",
    "                                                            corner_radius=6)\n",
    "                self.label_calendrier.place(x=360, y=485)\n",
    "            \n",
    "            self.button_date=customtkinter.CTkButton(self, text = \"OK\", command = grad_date)\n",
    "            self.button_date.place(x=650, y=485)\n",
    "        \n",
    "        self.label_calendrier = customtkinter.CTkLabel(master=self.frame_left,\n",
    "                                                    text=\"Veuillez entrez la date du jour\",\n",
    "                                                    font=(\"Roboto Medium\", -16),\n",
    "                                                    corner_radius=0)\n",
    "        self.label_calendrier.grid(row=5, column=0, pady=30, padx=0)\n",
    "\n",
    "        self.botondate=customtkinter.CTkButton(self.frame_left, text='Date du jour', command=calendrier)\n",
    "        self.botondate.grid(row=5, column=1, pady=30, padx=10)\n",
    "\n",
    "        # ============ Changement du mode couleur ============\n",
    "\n",
    "        self.optionmenu = customtkinter.CTkOptionMenu(master=self.frame_left,\n",
    "                                                        values=[\"Light\", \"Dark\", \"System\"],\n",
    "                                                        command=self.change_appearance)\n",
    "        self.optionmenu.grid(row=7, column=0, padx=10, pady=30, sticky=\"ew\")\n",
    "\n",
    "        \n",
    "        # ======================== frame_right_down ========================\n",
    "        # Création frame de droite\n",
    "        \n",
    "        self.tabview = customtkinter.CTkTabview(self, width=600)\n",
    "        self.tabview.grid(row=0, column=1, padx=(20, 0), pady=(20, 0), sticky=\"nsew\")\n",
    "        self.tabview.add(\"Résultat\")\n",
    "        self.tabview.add(\"Description\")\n",
    "        self.tabview.tab(\"Résultat\").grid_columnconfigure(0, weight=1)  # configure grid of individual tabs\n",
    "        self.tabview.tab(\"Description\").grid_columnconfigure(0, weight=1)\n",
    "        \n",
    "        \n",
    "        self.map= tkintermapview.TkinterMapView(self.tabview.tab(\"Résultat\"), width=600, height=450)\n",
    "        self.map.set_position(48.857345 , 2.347999)\n",
    "        self.map.set_zoom(12)\n",
    "        self.map.grid(row=0, column=0, sticky=\"nswe\", padx=(0, 0), pady=(0, 0))\n",
    "        \n",
    "        \n",
    "        self.botonestimation=customtkinter.CTkButton(self.tabview.tab(\"Résultat\"), text='Estimation', command=self.callback)\n",
    "        self.botonestimation.grid(row=3, column=1, pady=30, padx=0)\n",
    "        #self.botonestimation.place(x=550, y=550)\n",
    "        \n",
    "    # ======================== Espace des fonctions ============\n",
    "    def test(self):\n",
    "        self.label_res = customtkinter.CTkLabel(master=self.tabview.tab(\"Résultat\"),\n",
    "                                                    text=\"3 mille euros\",\n",
    "                                                    font=(\"Roboto Medium\", -14),\n",
    "                                                    fg_color = 'transparent',\n",
    "                                                    corner_radius=6)\n",
    "        self.label_res.grid(row=1, column=0, pady=0, padx=100)\n",
    "        \n",
    "    def button_event(self):\n",
    "        print(\"Button pressed\")\n",
    "\n",
    "    def change_appearance(self, new_appearance_mode):\n",
    "        customtkinter.set_appearance_mode(new_appearance_mode)\n",
    "\n",
    "    def on_closing(self, event=0):\n",
    "        self.destroy()\n",
    "        \n",
    "    def callback(self):\n",
    "        #variables\n",
    "        arr=int(self.combobox_arrondissement.get())\n",
    "        p=int(self.radio_var.get())\n",
    "        s=int(self.entry_surface.get())\n",
    "        k=int(self.res_piece.cget(\"text\"))\n",
    "        u=int(self.entry_prix.get())\n",
    "        global date_today\n",
    "        self.date_today = date_today\n",
    "        self.adr = str(self.entry_adresse.get())\n",
    "        self.geolocator = Nominatim(timeout=10, user_agent = \"myGeolocator\")\n",
    "        self.adr = self.adr + ' ' + str(arr) + ' ' + 'PARIS'\n",
    "        self.adr_point = self.geolocator.geocode(self.adr)\n",
    "        self.lat_bien = self.adr_point.latitude\n",
    "        self.lgt_bien = self.adr_point.longitude\n",
    "        \n",
    "        txt = '     ' + \"Valeur estimée du bien :\" + '   ' + \\\n",
    "            \"3€\" + str(p) + str(s) + str(k) + str(u) + str(date_today) + '     '\n",
    "        #    str(self.res[0]) + ' ' + '€'\n",
    "        self.label_res = customtkinter.CTkLabel(master=self.tabview.tab(\"Résultat\"),\n",
    "                                                    text=txt,\n",
    "                                                    font=(\"Roboto Medium\", -14),\n",
    "                                                    fg_color = 'transparent',\n",
    "                                                    corner_radius=6)\n",
    "        self.label_res.grid(row=1, column=0, pady=30, padx=0)\n",
    "        \n",
    "        #plus_value_res = self.res[0] - u\n",
    "        txt = '     ' + 'Plus value estimée possible :' + '   ' + \\\n",
    "            \"3€\" + '     '\n",
    "            #str(plus_value_res) + ' ' + '€'\n",
    "        self.label_res_pv = customtkinter.CTkLabel(master=self.tabview.tab(\"Résultat\"),\n",
    "                                                    text=txt,\n",
    "                                                    font=(\"Roboto Medium\", -14),\n",
    "                                                    fg_color = 'transparent',\n",
    "                                                    corner_radius=6)\n",
    "        self.label_res_pv.grid(row=2, column=0, pady=0, padx=0)\n",
    "        \n",
    "        #carte\n",
    "        self.map= tkintermapview.TkinterMapView(self.tabview.tab(\"Résultat\"), width=600, height=450)\n",
    "        self.map.set_position(48.857345 , 2.347999)\n",
    "        self.map.set_zoom(12)\n",
    "        self.map.grid(row=0, column=0, sticky=\"nswe\", padx=(0, 0), pady=(0, 0))\n",
    "        self.map.set_marker(self.lat_bien,self.lgt_bien)\n",
    "       \n",
    "\n",
    "if __name__ == \"__main__\":\n",
    "    app = App()\n",
    "    app.mainloop()\n",
    "    "
   ]
  },
  {
   "cell_type": "markdown",
   "id": "4f566300",
   "metadata": {},
   "source": [
    "<div style=\"text-align: justify\">La fonction callback sert d'intermédiaire pour récupérer les paramètres à implémenter dans le modèle depuis les widgets du module tkinter.<div><br />\n",
    "    \n",
    "<div style=\"text-align: justify\">Pour se faire, nous avons utilisé la commande get en prenant soin de convertir les chaines de caractères en nombres lorsque cela était nécessaire. Nous avons aussi dû appliquer notre algorithme issu de geopandas pour transformer l'adresse entrée en coordonnées, étant des paramètres du modèle.<div><br /> \n",
    "    \n",
    "<div style=\"text-align: justify\">Enfin, nous avons intégré à la fonction callback l'affichage des points des biens utilisés (en bleu) pour estimer le prix du bien voulu (en rouge) sur la carte ainsi que l'appartition du texte donnant le résultat de l'algorithme et quelques détails (nombre de biens comparés, plus value possible) en faisant attention à ce que dès que la fonction callback soit actionnée, les labels soient effacés et non pas surposés les uns sur les autres.<div> "
   ]
  },
  {
   "cell_type": "code",
   "execution_count": null,
   "id": "38dd34e4",
   "metadata": {},
   "outputs": [],
   "source": []
  },
  {
   "cell_type": "markdown",
   "id": "d8a90ccf",
   "metadata": {},
   "source": []
  },
  {
   "cell_type": "code",
   "execution_count": null,
   "id": "32fcec83",
   "metadata": {},
   "outputs": [],
   "source": []
  }
 ],
 "metadata": {
  "kernelspec": {
   "display_name": "Python 3 (ipykernel)",
   "language": "python",
   "name": "python3"
  },
  "language_info": {
   "codemirror_mode": {
    "name": "ipython",
    "version": 3
   },
   "file_extension": ".py",
   "mimetype": "text/x-python",
   "name": "python",
   "nbconvert_exporter": "python",
   "pygments_lexer": "ipython3",
   "version": "3.9.7"
  }
 },
 "nbformat": 4,
 "nbformat_minor": 5
}
