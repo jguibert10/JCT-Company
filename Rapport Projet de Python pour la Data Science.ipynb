{
 "cells": [
  {
   "cell_type": "markdown",
   "id": "f2bdef75",
   "metadata": {},
   "source": [
    "<h1><center>Projet de Python pour la Data Science<br /><br />Julien Guibert - Charles Rollet - Tanguy Simeon</center></h1>"
   ]
  },
  {
   "cell_type": "markdown",
   "id": "b7f970c2",
   "metadata": {},
   "source": [
    "<img src=\"LOGO-ENSAE.jpg\" style=width:200px;height:400px/>"
   ]
  },
  {
   "cell_type": "markdown",
   "id": "2a33ab62",
   "metadata": {},
   "source": [
    "#### Bienvenue sur le Github de notre projet Python Pour le Data Scientist ! \n",
    "\n",
    "L'objectif du projet est de prédire le prix d'un bien immobilier en fonction de certaines de ses caractéristiques telles que sa surface, son nombre de pièces, sa date de vente, son type (appartement ou maison) et sa location à Paris. \n",
    "\n",
    "#### Notre projet ce divise en 6 étapes :"
   ]
  },
  {
   "cell_type": "markdown",
   "id": "a5f133fd",
   "metadata": {},
   "source": [
    "<img src=\"PlanPDS.png\" style=width:936px;height:400px/>"
   ]
  },
  {
   "cell_type": "code",
   "execution_count": 1,
   "id": "2357871a",
   "metadata": {},
   "outputs": [],
   "source": [
    "import sys\n",
    "\n",
    "if not sys.warnoptions:\n",
    "    import warnings\n",
    "    warnings.simplefilter(\"ignore\")"
   ]
  },
  {
   "cell_type": "markdown",
   "id": "bfc117aa",
   "metadata": {},
   "source": [
    "#### Veuillez installer au préalable les packages non conventionnels suivant pour utiliser le reste du programme : "
   ]
  },
  {
   "cell_type": "code",
   "execution_count": null,
   "id": "e55699ea",
   "metadata": {},
   "outputs": [],
   "source": [
    "!pip install customtkinter\n",
    "!pip install tkcalendar\n",
    "!pip install tkintermapview\n",
    "# Ainsi qu'un webdriver (il est conseillé d'utilisé un chromedriver)"
   ]
  },
  {
   "cell_type": "markdown",
   "id": "459a3dbe",
   "metadata": {},
   "source": [
    "#### Ou bien mettre à jour customtkinter :"
   ]
  },
  {
   "cell_type": "code",
   "execution_count": 3,
   "id": "15af3b7f",
   "metadata": {},
   "outputs": [],
   "source": [
    "#!pip install customtkinter -- upgrade"
   ]
  },
  {
   "cell_type": "markdown",
   "id": "b5d1b3ce",
   "metadata": {},
   "source": [
    "On ignore les messages qui ne sont pas importants (particulièrement utile pour la partie modélisation)"
   ]
  },
  {
   "cell_type": "markdown",
   "id": "53a50966",
   "metadata": {},
   "source": [
    "# 1. Web Scraping"
   ]
  },
  {
   "cell_type": "markdown",
   "id": "70d18b3d",
   "metadata": {},
   "source": [
    "#### Notre démarche :<br />\n",
    "\n",
    "<div style=\"text-align: justify\">Pour créer un estimateur à partir des caractéristiques de biens déjà vendus, encore faut-il précisément avoir de telles données. Après quelques recherches infructueuses, nous avons souhaité effectuer du Web Scraping grâce au module Selenium et avec l'aide d'un web driver. Technique qui nous a paru essentielle pour obtenir des données sur mesures, nous avons trouvé le site ImmoData (https://www.immo-data.fr/) qui fait l'inventaire des biens vendus en France.<div><br />\n",
    "    \n",
    "<div style=\"text-align: justify\">Le site Immodata n'affiche que 100 biens par fenêtre de manière aléatoire, ce qui n'était pas assez et peu précis. Afin de collecter un nombre significatif de données, nous avons enfermé Paris dans un rectangle dont les sommets correspondent à des coordonnées puis diviser ce rectangle en 400 petits rectangles afin de cadriller la ville.<div><br />\n",
    "    \n",
    "<div style=\"text-align: justify\">Illustration de notre démarche :<div>"
   ]
  },
  {
   "cell_type": "markdown",
   "id": "981c07fe",
   "metadata": {},
   "source": [
    "<img src=\"EncadrementParis.png\" style=width:818px;height:200px/>"
   ]
  },
  {
   "cell_type": "markdown",
   "id": "3564e0c8",
   "metadata": {},
   "source": [
    "#### Explication du code :<br />\n",
    "\n",
    "<div style=\"text-align: justify\">On import d'abord les maodules nécessaire au fonctionnement de l'algorithme et en particulier Selenium<div>\n",
    "\n"
   ]
  },
  {
   "cell_type": "code",
   "execution_count": 2,
   "id": "a24c6e26",
   "metadata": {},
   "outputs": [],
   "source": [
    "import argparse\n",
    "from selenium import webdriver\n",
    "from selenium.webdriver.common.by import By\n",
    "import pandas as pd\n",
    "import time\n",
    "import logging\n",
    "from tqdm import tqdm\n",
    "logger = logging.getLogger(__name__)\n",
    "logging.basicConfig(level=logging.INFO)"
   ]
  },
  {
   "cell_type": "markdown",
   "id": "f0b4487e",
   "metadata": {},
   "source": [
    "<div style=\"text-align: justify\">Veuillez ensuite indiquer le chemin menant à votre webdriver à installer en fonction de votre moteur de recherche et de sa version (nous vous conseillons d'utiliser un chromedriver)<div>"
   ]
  },
  {
   "cell_type": "code",
   "execution_count": 3,
   "id": "fc356461",
   "metadata": {},
   "outputs": [],
   "source": [
    "#path = 'Insérer le chemin de votre webdriver (chromedriver est conseillé)'\n",
    "path = '/Users/charlesrollet/Desktop/chromedriver-2'"
   ]
  },
  {
   "cell_type": "markdown",
   "id": "35662ddd",
   "metadata": {},
   "source": [
    "<div style=\"text-align: justify\">On crée une première fonction afin notamment d'afficher la progression du web scraping et on enregistre la base obtenue sous le nom de 'Base_WS_Brute.csv'<div><br />\n",
    "    \n",
    "<div style=\"text-align: justify\"> Nota Bene : si le web scraping de s'enclenche pas, il vaut mieux essayer sur spyder par exemple, le code se trouve sur GitHub ou ci-dessous<div>   "
   ]
  },
  {
   "cell_type": "code",
   "execution_count": 4,
   "id": "b637d697",
   "metadata": {},
   "outputs": [],
   "source": [
    "def main():\n",
    "    parser = argparse.ArgumentParser() \n",
    "    parser.add_argument('--n', type=int, default=2,help='Number of items to search')\n",
    "    parser.add_argument('--fn', type=str, default='Base_WS_Brute.csv',help='name of the output CSV file')\n",
    "    args = parser.parse_args()\n",
    "\n",
    "    start = time.time()\n",
    "    n = runImmoDataScrapping(n=args.n, filename= args.fn)\n",
    "    duration = time.time()-start\n",
    "    logger.info(f'Scrapped {n} items in {duration/60.} minutes. ({str(duration/n).split(\".\")[0]} seconds per it)')"
   ]
  },
  {
   "cell_type": "markdown",
   "id": "cb0e8b0f",
   "metadata": {},
   "source": [
    "<div style=\"text-align: justify\">On crée ensuite la fonction runImmoDataScrapping qui va véritablement effectuer le web scraping. Nous avons effectué une double boucle for qui modifie directement la partie du lien url (grâce à la technique f-string) qui concerne les coordonnées géographiques de l'affichage afin d'effectuer l'encadrement de Paris décrit précedemment. Ainsi Paris est contenu dans un rectangle divisé en 440 petits rectangles que nous allons scrapé.<div><br />\n",
    "\n",
    "<div style=\"text-align: justify\">Une fois les liens à scrapé définis, nous créons un dataframe de cinq colonnes (adresse, type_bien, prix, prix_m2, details qui contient la suface, le nombre de pièces, la date de vente notamment) que nous remplissons avec les informations scrapées correspondantes.<div>"
   ]
  },
  {
   "cell_type": "markdown",
   "id": "03e926e1",
   "metadata": {},
   "source": [
    "#### Pour vérifier le bon fonctionnement de l'algorithme, nous vous conseillons de modifier les informations dans le range des deux boucles for en indiquand 256000 à la place de 420030 dans la première et 806001 à la place de 900050 dans la seconde. De cette façon, l'algorithme va scraper 2x2=4 liens (plutôt que 440) ce qui permettra de gagner du temps."
   ]
  },
  {
   "cell_type": "code",
   "execution_count": 5,
   "id": "a2b54015",
   "metadata": {
    "scrolled": true
   },
   "outputs": [
    {
     "name": "stderr",
     "output_type": "stream",
     "text": [
      "usage: ipykernel_launcher.py [-h] [--n N] [--fn FN]\n",
      "ipykernel_launcher.py: error: unrecognized arguments: -f /Users/charlesrollet/Library/Jupyter/runtime/kernel-d55de5f3-12a3-4b62-844e-1fd01e0fdf9d.json\n"
     ]
    },
    {
     "ename": "SystemExit",
     "evalue": "2",
     "output_type": "error",
     "traceback": [
      "An exception has occurred, use %tb to see the full traceback.\n",
      "\u001b[0;31mSystemExit\u001b[0m\u001b[0;31m:\u001b[0m 2\n"
     ]
    }
   ],
   "source": [
    "def runImmoDataScrapping(n: int, filename: str):\n",
    "    for i in range(250000,420030,8501):\n",
    "        for j in range(800001,900050,5001):\n",
    "            step_x=2\n",
    "            step_y=48\n",
    "            driver = webdriver.Chrome(path)\n",
    "            url = f\"https://www.immo-data.fr/explorateur/transaction/recherche?minprice=0&maxprice=5000000&minpricesquaremeter=0&maxpricesquaremeter=40000&propertytypes=1%2C2&minmonthyear=Janvier%202014&maxmonthyear=Juin%202022&nbrooms=1%2C2%2C3%2C4%2C5&minsurface=0&maxsurface=400&minsurfaceland=0&maxsurfaceland=50000&center={step_x+i*0.000001}%3B{step_y+j*0.000001}&zoom=14.5\"\n",
    "        \n",
    "            driver.get(url)\n",
    "            driver.implicitly_wait(6)\n",
    "            colsInDetailsList = ['addresse','type_bien', 'prix', 'prix_m2', 'details']\n",
    "            data = {colName : [] for colName in colsInDetailsList}\n",
    "        \n",
    "            elements = driver.find_elements(by=By.XPATH, value='//div[@class=\"flex flex-col gap-2 p-3\"]')\n",
    "\n",
    "            for element in tqdm(elements):\n",
    "                addresse, prix, type_bien, prix_m2, *details = element.text.split('\\n')\n",
    "                \n",
    "                data['addresse'].append(addresse)\n",
    "                data['prix'].append(prix)\n",
    "                data['type_bien'].append(type_bien)\n",
    "                data['prix_m2'].append(prix_m2)\n",
    "                data['details'].append(details)\n",
    "        \n",
    "            driver.close()\n",
    "            if i==250000 and j==800001 : \n",
    "                df = pd.DataFrame(data) \n",
    "            else : \n",
    "                df=pd.concat([df,pd.DataFrame(data)],ignore_index=True)      \n",
    "\n",
    "    df.to_csv(filename)\n",
    "    return df.shape[0]\n",
    "\n",
    "if __name__=='__main__':\n",
    "\n",
    "    main()"
   ]
  },
  {
   "cell_type": "markdown",
   "id": "867b3b6e",
   "metadata": {},
   "source": [
    "Nous avons ainsi réussi à obtenir envrion 44.000 données qu'il nous a ensuite fallu traiter. La base issue du web scraping et intitutée Base_WS_Brute est disponible dans le dossier 'Web Scraping' sur GitHub. "
   ]
  },
  {
   "cell_type": "markdown",
   "id": "658c1658",
   "metadata": {},
   "source": [
    "# 2. Traitement de données "
   ]
  },
  {
   "cell_type": "markdown",
   "id": "057acdfa",
   "metadata": {},
   "source": [
    "#### Notre démarche : <br />\n",
    "\n",
    "<div style=\"text-align: justify\">Si les données récoltées à la suite du web scraping contenaient les informations que nous voulions, celles-ci n'étaient pas optimalement disponibles. En effet, la colonne \"détails\" par exemple comprenait à la fois le nombre de pièces ainsi, la surface ou encore la date de vente. Or nous souhaitions en faire trois colonnes distinctes afin d'utiliser ces variables individuellement. <div><br />\n",
    "    \n",
    "<div style=\"text-align: justify\">C'est pourquoi nous nous sommes attelés à traiter notre base de données avec Pandas. En plus des données obtenues, nous souhaitions aussi en ajouter d'autres et en particulier celles en lien avec les coordonnées géographiques (longitude et latitude) grâce à geopandas des biens afin de les utiliser dans le cadre de notre modèle. <div>"
   ]
  },
  {
   "cell_type": "markdown",
   "id": "dc1a8829",
   "metadata": {},
   "source": [
    "#### Explication du code :<br />  "
   ]
  },
  {
   "cell_type": "code",
   "execution_count": 6,
   "id": "2301204e",
   "metadata": {},
   "outputs": [],
   "source": [
    "import pandas as pd\n",
    "import numpy as np\n",
    "from geopy.geocoders import Nominatim \n",
    "import geopandas\n",
    "from shapely.geometry import Point"
   ]
  },
  {
   "cell_type": "markdown",
   "id": "36522df1",
   "metadata": {},
   "source": [
    "<div style=\"text-align: justify\">On lit la base issue du web scraping ('Base_WS_Brute') en renommant les colonnes.<div>\n",
    "\n"
   ]
  },
  {
   "cell_type": "code",
   "execution_count": 7,
   "id": "00022ff8",
   "metadata": {},
   "outputs": [
    {
     "data": {
      "text/html": [
       "<div>\n",
       "<style scoped>\n",
       "    .dataframe tbody tr th:only-of-type {\n",
       "        vertical-align: middle;\n",
       "    }\n",
       "\n",
       "    .dataframe tbody tr th {\n",
       "        vertical-align: top;\n",
       "    }\n",
       "\n",
       "    .dataframe thead th {\n",
       "        text-align: right;\n",
       "    }\n",
       "</style>\n",
       "<table border=\"1\" class=\"dataframe\">\n",
       "  <thead>\n",
       "    <tr style=\"text-align: right;\">\n",
       "      <th></th>\n",
       "      <th>adresse_du_bien</th>\n",
       "      <th>valeur_fonciere</th>\n",
       "      <th>type_local</th>\n",
       "      <th>prix_m2</th>\n",
       "      <th>details</th>\n",
       "    </tr>\n",
       "  </thead>\n",
       "  <tbody>\n",
       "    <tr>\n",
       "      <th>0.0</th>\n",
       "      <td>5 RUE TABOISE - CLAMART</td>\n",
       "      <td>1 700 000€</td>\n",
       "      <td>Maison</td>\n",
       "      <td>11 806€/m²</td>\n",
       "      <td>['Pièces', '6', 'Surface', '144', 'm²', 'Terra...</td>\n",
       "    </tr>\n",
       "    <tr>\n",
       "      <th>1.0</th>\n",
       "      <td>24 RUE DESCARTES - MEUDON</td>\n",
       "      <td>742 000€</td>\n",
       "      <td>Maison</td>\n",
       "      <td>14 840€/m²</td>\n",
       "      <td>['Pièces', '3', 'Surface', '50', 'm²', 'Terrai...</td>\n",
       "    </tr>\n",
       "    <tr>\n",
       "      <th>2.0</th>\n",
       "      <td>6 ALLÉE DE MEUDON - CLAMART</td>\n",
       "      <td>375 000€</td>\n",
       "      <td>Appartement</td>\n",
       "      <td>7 075€/m²</td>\n",
       "      <td>['Pièces', '2', 'Surface', '53', 'm²', 'Vendu ...</td>\n",
       "    </tr>\n",
       "    <tr>\n",
       "      <th>3.0</th>\n",
       "      <td>18 RUE DE RUSHMOOR - MEUDON</td>\n",
       "      <td>574 800€</td>\n",
       "      <td>Appartement</td>\n",
       "      <td>7 185€/m²</td>\n",
       "      <td>['Pièces', '4', 'Surface', '80', 'm²', 'Vendu ...</td>\n",
       "    </tr>\n",
       "    <tr>\n",
       "      <th>4.0</th>\n",
       "      <td>8 RUE JEAN BAPTISTE BOUZIAT - CLAMART</td>\n",
       "      <td>292 900€</td>\n",
       "      <td>Appartement</td>\n",
       "      <td>6 657€/m²</td>\n",
       "      <td>['Pièces', '3', 'Surface', '44', 'm²', 'Vendu ...</td>\n",
       "    </tr>\n",
       "  </tbody>\n",
       "</table>\n",
       "</div>"
      ],
      "text/plain": [
       "                           adresse_du_bien valeur_fonciere   type_local  \\\n",
       "0.0                5 RUE TABOISE - CLAMART      1 700 000€       Maison   \n",
       "1.0              24 RUE DESCARTES - MEUDON        742 000€       Maison   \n",
       "2.0            6 ALLÉE DE MEUDON - CLAMART        375 000€  Appartement   \n",
       "3.0            18 RUE DE RUSHMOOR - MEUDON        574 800€  Appartement   \n",
       "4.0  8 RUE JEAN BAPTISTE BOUZIAT - CLAMART        292 900€  Appartement   \n",
       "\n",
       "        prix_m2                                            details  \n",
       "0.0  11 806€/m²  ['Pièces', '6', 'Surface', '144', 'm²', 'Terra...  \n",
       "1.0  14 840€/m²  ['Pièces', '3', 'Surface', '50', 'm²', 'Terrai...  \n",
       "2.0   7 075€/m²  ['Pièces', '2', 'Surface', '53', 'm²', 'Vendu ...  \n",
       "3.0   7 185€/m²  ['Pièces', '4', 'Surface', '80', 'm²', 'Vendu ...  \n",
       "4.0   6 657€/m²  ['Pièces', '3', 'Surface', '44', 'm²', 'Vendu ...  "
      ]
     },
     "execution_count": 7,
     "metadata": {},
     "output_type": "execute_result"
    }
   ],
   "source": [
    "df = pd.read_csv(\"/Users/charlesrollet/Desktop/Base_WS_brute.csv\",names=['adresse_du_bien', 'valeur_fonciere','type_local', 'prix_m2', 'details'],index_col=0)\n",
    "indexNames = df[ df['adresse_du_bien'] == 'addresse'].index\n",
    "df.drop(indexNames , inplace=True)\n",
    "df.head()"
   ]
  },
  {
   "cell_type": "markdown",
   "id": "ef05d387",
   "metadata": {},
   "source": [
    "<div style=\"text-align: justify\">On supprime les doublons possibles issus du web scraping. Cette étape est primordiale puisqu'on passe de 44.000 données à environ 13.000.<div>\n",
    "\n"
   ]
  },
  {
   "cell_type": "code",
   "execution_count": 8,
   "id": "4023c0ea",
   "metadata": {},
   "outputs": [],
   "source": [
    "df.drop_duplicates(keep = 'first', inplace=True)"
   ]
  },
  {
   "cell_type": "markdown",
   "id": "c749e66c",
   "metadata": {},
   "source": [
    "<div style=\"text-align: justify\">Nous avons ensuite créé trois fonctions permettant soit de supprimer des caractères précis ou d'indiquer les endroits où effectuer les séparations des colonnes.<div>"
   ]
  },
  {
   "cell_type": "code",
   "execution_count": 9,
   "id": "8fdd5fc2",
   "metadata": {},
   "outputs": [],
   "source": [
    "def func(x):\n",
    "    if x[0]=='s':\n",
    "        a=x[1:]\n",
    "        return str(a)\n",
    "    else:\n",
    "         return x\n",
    "\n",
    "def separator(c):\n",
    "    return lambda x: pd.Series(str(x).split(c))\n",
    "\n",
    "def maxi_separator(c, d):\n",
    "    return lambda x: pd.Series(str(x).split(c, d))"
   ]
  },
  {
   "cell_type": "markdown",
   "id": "77dfd51b",
   "metadata": {},
   "source": [
    "<div style=\"text-align: justify\">On s'occupe d'abord de nettoyer les colonnes 'valeur_fonciere' et 'prix_m2' en supprimant les chaînes de caractères inutiles.<div>\n",
    "\n"
   ]
  },
  {
   "cell_type": "code",
   "execution_count": 10,
   "id": "7d4557ed",
   "metadata": {},
   "outputs": [
    {
     "data": {
      "text/html": [
       "<div>\n",
       "<style scoped>\n",
       "    .dataframe tbody tr th:only-of-type {\n",
       "        vertical-align: middle;\n",
       "    }\n",
       "\n",
       "    .dataframe tbody tr th {\n",
       "        vertical-align: top;\n",
       "    }\n",
       "\n",
       "    .dataframe thead th {\n",
       "        text-align: right;\n",
       "    }\n",
       "</style>\n",
       "<table border=\"1\" class=\"dataframe\">\n",
       "  <thead>\n",
       "    <tr style=\"text-align: right;\">\n",
       "      <th></th>\n",
       "      <th>adresse_du_bien</th>\n",
       "      <th>valeur_fonciere</th>\n",
       "      <th>type_local</th>\n",
       "      <th>prix_m2</th>\n",
       "      <th>details</th>\n",
       "    </tr>\n",
       "  </thead>\n",
       "  <tbody>\n",
       "    <tr>\n",
       "      <th>0.0</th>\n",
       "      <td>5 RUE TABOISE - CLAMART</td>\n",
       "      <td>1700000</td>\n",
       "      <td>Maison</td>\n",
       "      <td>11806</td>\n",
       "      <td>['Pièces', '6', 'Surface', '144', 'm²', 'Terra...</td>\n",
       "    </tr>\n",
       "    <tr>\n",
       "      <th>1.0</th>\n",
       "      <td>24 RUE DESCARTES - MEUDON</td>\n",
       "      <td>742000</td>\n",
       "      <td>Maison</td>\n",
       "      <td>14840</td>\n",
       "      <td>['Pièces', '3', 'Surface', '50', 'm²', 'Terrai...</td>\n",
       "    </tr>\n",
       "    <tr>\n",
       "      <th>2.0</th>\n",
       "      <td>6 ALLÉE DE MEUDON - CLAMART</td>\n",
       "      <td>375000</td>\n",
       "      <td>Appartement</td>\n",
       "      <td>7075</td>\n",
       "      <td>['Pièces', '2', 'Surface', '53', 'm²', 'Vendu ...</td>\n",
       "    </tr>\n",
       "    <tr>\n",
       "      <th>3.0</th>\n",
       "      <td>18 RUE DE RUSHMOOR - MEUDON</td>\n",
       "      <td>574800</td>\n",
       "      <td>Appartement</td>\n",
       "      <td>7185</td>\n",
       "      <td>['Pièces', '4', 'Surface', '80', 'm²', 'Vendu ...</td>\n",
       "    </tr>\n",
       "    <tr>\n",
       "      <th>4.0</th>\n",
       "      <td>8 RUE JEAN BAPTISTE BOUZIAT - CLAMART</td>\n",
       "      <td>292900</td>\n",
       "      <td>Appartement</td>\n",
       "      <td>6657</td>\n",
       "      <td>['Pièces', '3', 'Surface', '44', 'm²', 'Vendu ...</td>\n",
       "    </tr>\n",
       "  </tbody>\n",
       "</table>\n",
       "</div>"
      ],
      "text/plain": [
       "                           adresse_du_bien valeur_fonciere   type_local  \\\n",
       "0.0                5 RUE TABOISE - CLAMART         1700000       Maison   \n",
       "1.0              24 RUE DESCARTES - MEUDON          742000       Maison   \n",
       "2.0            6 ALLÉE DE MEUDON - CLAMART          375000  Appartement   \n",
       "3.0            18 RUE DE RUSHMOOR - MEUDON          574800  Appartement   \n",
       "4.0  8 RUE JEAN BAPTISTE BOUZIAT - CLAMART          292900  Appartement   \n",
       "\n",
       "    prix_m2                                            details  \n",
       "0.0   11806  ['Pièces', '6', 'Surface', '144', 'm²', 'Terra...  \n",
       "1.0   14840  ['Pièces', '3', 'Surface', '50', 'm²', 'Terrai...  \n",
       "2.0    7075  ['Pièces', '2', 'Surface', '53', 'm²', 'Vendu ...  \n",
       "3.0    7185  ['Pièces', '4', 'Surface', '80', 'm²', 'Vendu ...  \n",
       "4.0    6657  ['Pièces', '3', 'Surface', '44', 'm²', 'Vendu ...  "
      ]
     },
     "execution_count": 10,
     "metadata": {},
     "output_type": "execute_result"
    }
   ],
   "source": [
    "df['prix_m2']=df['prix_m2'].str.split('€/m²').str[0]\n",
    "df['prix_m2']=df['prix_m2'].str.replace(' ', '')\n",
    "df['valeur_fonciere']=df['valeur_fonciere'].str.split('€').str[0] \n",
    "df['valeur_fonciere']=df['valeur_fonciere'].str.replace(' ', '')\n",
    "df.head()"
   ]
  },
  {
   "cell_type": "markdown",
   "id": "6a546d12",
   "metadata": {},
   "source": [
    "<div style=\"text-align: justify\">On supprime ensuite tous les biens qui ne sont pas localisés à Paris et qui viennent du fait que nous avons encadrer Paris qui est de forme ovale dans un rectangle. Ce sont donc les biens en 'coin'.Pour cela, on effectue un test sur la colonne adresse qui consiste à supprimer toutes les lignes dont les cinq derniers caractères sont différents de 'PARIS'. Cette étape nous fait passer de 13.000 données environ à 6.000 données.<div>\n",
    "\n"
   ]
  },
  {
   "cell_type": "code",
   "execution_count": 11,
   "id": "f08d6df1",
   "metadata": {},
   "outputs": [],
   "source": [
    "indexNames = df[df['adresse_du_bien'].str[-5:]  != 'PARIS'].index\n",
    "df.drop(indexNames , inplace=True)"
   ]
  },
  {
   "cell_type": "markdown",
   "id": "b3af0303",
   "metadata": {},
   "source": [
    "<div style=\"text-align: justify\">On nettoye la colonne 'details' pour contruire les colonnes 'nombre_pieces_principales', 'surface_reelle_bati' et 'date_mutation'.<div>\n",
    "\n"
   ]
  },
  {
   "cell_type": "code",
   "execution_count": 12,
   "id": "a6a87048",
   "metadata": {},
   "outputs": [
    {
     "data": {
      "text/html": [
       "<div>\n",
       "<style scoped>\n",
       "    .dataframe tbody tr th:only-of-type {\n",
       "        vertical-align: middle;\n",
       "    }\n",
       "\n",
       "    .dataframe tbody tr th {\n",
       "        vertical-align: top;\n",
       "    }\n",
       "\n",
       "    .dataframe thead th {\n",
       "        text-align: right;\n",
       "    }\n",
       "</style>\n",
       "<table border=\"1\" class=\"dataframe\">\n",
       "  <thead>\n",
       "    <tr style=\"text-align: right;\">\n",
       "      <th></th>\n",
       "      <th>adresse_du_bien</th>\n",
       "      <th>valeur_fonciere</th>\n",
       "      <th>type_local</th>\n",
       "      <th>prix_m2</th>\n",
       "      <th>nombre_pieces_principales</th>\n",
       "      <th>surface_reelle_bati</th>\n",
       "      <th>date_mutation</th>\n",
       "    </tr>\n",
       "  </thead>\n",
       "  <tbody>\n",
       "    <tr>\n",
       "      <th>707.0</th>\n",
       "      <td>127 RUE MICHEL-ANGE - PARIS</td>\n",
       "      <td>740000</td>\n",
       "      <td>Appartement</td>\n",
       "      <td>9737</td>\n",
       "      <td>3</td>\n",
       "      <td>76</td>\n",
       "      <td>29/06/2022</td>\n",
       "    </tr>\n",
       "    <tr>\n",
       "      <th>712.0</th>\n",
       "      <td>31 RUE LE MAROIS - PARIS</td>\n",
       "      <td>598000</td>\n",
       "      <td>Appartement</td>\n",
       "      <td>11074</td>\n",
       "      <td>2</td>\n",
       "      <td>54</td>\n",
       "      <td>28/06/2022</td>\n",
       "    </tr>\n",
       "    <tr>\n",
       "      <th>713.0</th>\n",
       "      <td>219 AVENUE DE VERSAILLES - PARIS</td>\n",
       "      <td>620874</td>\n",
       "      <td>Appartement</td>\n",
       "      <td>7304</td>\n",
       "      <td>3</td>\n",
       "      <td>85</td>\n",
       "      <td>28/06/2022</td>\n",
       "    </tr>\n",
       "    <tr>\n",
       "      <th>724.0</th>\n",
       "      <td>8 RUE LE MAROIS - PARIS</td>\n",
       "      <td>230000</td>\n",
       "      <td>Appartement</td>\n",
       "      <td>7667</td>\n",
       "      <td>2</td>\n",
       "      <td>30</td>\n",
       "      <td>23/06/2022</td>\n",
       "    </tr>\n",
       "    <tr>\n",
       "      <th>734.0</th>\n",
       "      <td>107 BOULEVARD MURAT - PARIS</td>\n",
       "      <td>1380000</td>\n",
       "      <td>Appartement</td>\n",
       "      <td>9787</td>\n",
       "      <td>5</td>\n",
       "      <td>141</td>\n",
       "      <td>17/06/2022</td>\n",
       "    </tr>\n",
       "  </tbody>\n",
       "</table>\n",
       "</div>"
      ],
      "text/plain": [
       "                        adresse_du_bien valeur_fonciere   type_local prix_m2  \\\n",
       "707.0       127 RUE MICHEL-ANGE - PARIS          740000  Appartement    9737   \n",
       "712.0          31 RUE LE MAROIS - PARIS          598000  Appartement   11074   \n",
       "713.0  219 AVENUE DE VERSAILLES - PARIS          620874  Appartement    7304   \n",
       "724.0           8 RUE LE MAROIS - PARIS          230000  Appartement    7667   \n",
       "734.0       107 BOULEVARD MURAT - PARIS         1380000  Appartement    9787   \n",
       "\n",
       "      nombre_pieces_principales surface_reelle_bati date_mutation  \n",
       "707.0                         3                  76    29/06/2022  \n",
       "712.0                         2                  54    28/06/2022  \n",
       "713.0                         3                  85    28/06/2022  \n",
       "724.0                         2                  30    23/06/2022  \n",
       "734.0                         5                 141    17/06/2022  "
      ]
     },
     "execution_count": 12,
     "metadata": {},
     "output_type": "execute_result"
    }
   ],
   "source": [
    "df[['nombre_pieces_principales','poubelle']] = df.details.apply(maxi_separator('Surface', 1))\n",
    "df[['surface_reelle_bati','poubelle']] = df.poubelle.apply(maxi_separator('m²', 1))\n",
    "df[['poubelle','date_mutation']] = df.poubelle.apply(maxi_separator('le', 1))\n",
    "df[['poubelle','nombre_pieces_principales']] = df.nombre_pieces_principales.apply(maxi_separator('Pièces', 1))\n",
    "df[['date_mutation','poubelle']] = df.date_mutation.apply(maxi_separator('+', 1))\n",
    "df.drop(['poubelle', 'details'], axis=1, inplace=True)\n",
    "liste_col = ['nombre_pieces_principales', 'surface_reelle_bati', 'date_mutation']\n",
    "for col in liste_col:\n",
    "    df[col]=df[col].str.split(',').str[1]\n",
    "for col in liste_col:\n",
    "    df[col]=df[col].str.split(\"'\").str[1]\n",
    "df.head()"
   ]
  },
  {
   "cell_type": "markdown",
   "id": "f07a5fa6",
   "metadata": {},
   "source": [
    "<div style=\"text-align: justify\">On convertit les chaines de caratères numériques en nombres entiers pour les colonnes appropriées.<div>\n"
   ]
  },
  {
   "cell_type": "code",
   "execution_count": 13,
   "id": "c3c4091a",
   "metadata": {},
   "outputs": [],
   "source": [
    "list_newcolumn = ['valeur_fonciere','prix_m2','nombre_pieces_principales','surface_reelle_bati']\n",
    "for column in list_newcolumn:\n",
    "    df[column]=df[column].astype(int)"
   ]
  },
  {
   "cell_type": "markdown",
   "id": "39bea6be",
   "metadata": {},
   "source": [
    "<div style=\"text-align: justify\">On supprime les données qui semblent de mauvaises qualités par rapport au prix moyen du m2 à Paris.<div>"
   ]
  },
  {
   "cell_type": "code",
   "execution_count": 14,
   "id": "b825c3b1",
   "metadata": {},
   "outputs": [],
   "source": [
    "indexNames = df[(df['prix_m2']< 8000)].index\n",
    "df.drop(indexNames , inplace=True)\n",
    "indexNames1 = df[(df['prix_m2']> 20000)].index\n",
    "df.drop(indexNames1 , inplace=True)"
   ]
  },
  {
   "cell_type": "markdown",
   "id": "694f0307",
   "metadata": {},
   "source": [
    "<div style=\"text-align: justify\">Après avoir terminé de traiter les données issues du web scraping, nous avons souhaité en créer de nouvelles en convertissant les adresses des biens en coordonnées géographiques.<div><br />\n",
    "    \n",
    "<div style=\"text-align: justify\">Pour cela, nous avons utilisé les modules geopandas et geopy. Nous avons d'abord créé une colonne dans laquelle se trouve les coordonnées des biens avant de supprimer les lignes où ces coordonnées étaient introuvables pour enfin diviser la colonne coordonnée en deux colonnes distinctes contenant les données de longitude et de latitude.<div> "
   ]
  },
  {
   "cell_type": "markdown",
   "id": "568ab100",
   "metadata": {},
   "source": [
    "#### Geopandas est assez demandant en terme de temps, il est conseillé de tester ces commandes pour quelques données. Dans tous les cas, vous retrouverez sous le nom de 'Base_WS_traitee.csv' la base issue de cet algorithme traitement de données. "
   ]
  },
  {
   "cell_type": "markdown",
   "id": "294bed79",
   "metadata": {},
   "source": [
    "<div style=\"text-align: justify\">On supprime les colonnes qui ne sont plus utiles et réordonne celles utiles afin que la base soit similaire à celle du gouv nettoyée.<div>\n",
    "\n"
   ]
  },
  {
   "cell_type": "code",
   "execution_count": null,
   "id": "5707f7cd",
   "metadata": {},
   "outputs": [],
   "source": [
    "geolocator = Nominatim(timeout=5, user_agent = \"myGeolocator\")\n",
    "df['coordinates'] = df['adresse_du_bien'].apply(geolocator.geocode)\n",
    "df = df.dropna() #enlève les lignes avec des 'Nan'\n",
    "df.reset_index(drop=True) #censer renuméroter le DataFrame mais ça marche pas mdrr\n",
    "df['longitude'] = df['coordinates'].apply(lambda x: x.point.longitude)\n",
    "df['latitude'] = df['coordinates'].apply(lambda x: x.point.latitude)"
   ]
  },
  {
   "cell_type": "code",
   "execution_count": null,
   "id": "dc91c6ca",
   "metadata": {},
   "outputs": [],
   "source": [
    "df.drop(['coordinates', 'adresse_du_bien', 'adresse', 'ville', 'prix_m2'], axis=1, inplace=True)\n",
    "df = df[['date_mutation','valeur_fonciere','type_local','surface_reelle_bati','nombre_pieces_principales','longitude','latitude']]"
   ]
  },
  {
   "cell_type": "code",
   "execution_count": null,
   "id": "d1534d1c",
   "metadata": {},
   "outputs": [],
   "source": [
    "df.head()"
   ]
  },
  {
   "cell_type": "markdown",
   "id": "3a27aa29",
   "metadata": {},
   "source": [
    "<div style=\"text-align: justify\">On peut sauvegarder la base qui est disponible sur GitHub dans le dossier 'Traitement de la base de données issue du WS' et intitulée 'Base_WS_traitee'.<div>\n",
    "\n"
   ]
  },
  {
   "cell_type": "code",
   "execution_count": null,
   "id": "3653ccab",
   "metadata": {},
   "outputs": [],
   "source": [
    "#df.to_csv('Base_WS_traitée_annexe.csv')"
   ]
  },
  {
   "cell_type": "markdown",
   "id": "f858e404",
   "metadata": {},
   "source": [
    "#### NOTA BENE : en vue d'effectuer des statistiques descriptives, nous nous sommes aperçus que nos données issues du Web Scraping n'étaient pas forcément homogènes et que certains arrondissements étaient sous ou sur représentés. Nous avons donc run 3 autres fois notre algorithme de Web Scraping puis concaténé ces bases tout en enlevant les doublons ou les données de mauvaises qualités. Ainsi, la base qui est utilisée pour la suite du projet n'est plus  'Base_WS_traitée_annexe.csv' (celle issue du 1er WS) mais 'Base_WS_traitee.csv' qui contient non plus 6.000 données traitées mais 9.000. Cette base est directement accessible dans l'onglet 2 Traitement de la base WS du GitHub"
   ]
  },
  {
   "cell_type": "markdown",
   "id": "fbfc316d",
   "metadata": {},
   "source": [
    "# 3. Statistiques descriptives"
   ]
  },
  {
   "cell_type": "markdown",
   "id": "6d1b0c83",
   "metadata": {},
   "source": [
    "#### Notre démarche : <br />\n",
    "\n",
    "<div style=\"text-align: justify\">Après avoir obtenue une base de données cohérente et nettoyée, nous allons l'analyser avec des statistiques descriptives afin de s'assurer de son homogénéité et trouver quels types de modèles devraient être adaptés à notre base.<div><br />\n",
    "    \n",
    "<div style=\"text-align: justify\">Nous allons dans un premier temps reconstitué l'arrondissement d'origine de chaque bien grâce à geopandas pour s'assurer de la bonne répartition des biens. <div>"
   ]
  },
  {
   "cell_type": "code",
   "execution_count": 31,
   "id": "40920e87",
   "metadata": {},
   "outputs": [
    {
     "name": "stdout",
     "output_type": "stream",
     "text": [
      "Requirement already satisfied: plotly_express in ./opt/anaconda3/lib/python3.9/site-packages (0.4.1)\n",
      "Requirement already satisfied: plotly>=4.1.0 in ./opt/anaconda3/lib/python3.9/site-packages (from plotly_express) (5.11.0)\n",
      "Requirement already satisfied: patsy>=0.5 in ./opt/anaconda3/lib/python3.9/site-packages (from plotly_express) (0.5.2)\n",
      "Requirement already satisfied: statsmodels>=0.9.0 in ./opt/anaconda3/lib/python3.9/site-packages (from plotly_express) (0.12.2)\n",
      "Requirement already satisfied: scipy>=0.18 in ./opt/anaconda3/lib/python3.9/site-packages (from plotly_express) (1.7.1)\n",
      "Requirement already satisfied: pandas>=0.20.0 in ./opt/anaconda3/lib/python3.9/site-packages (from plotly_express) (1.3.4)\n",
      "Requirement already satisfied: numpy>=1.11 in ./opt/anaconda3/lib/python3.9/site-packages (from plotly_express) (1.20.3)\n",
      "Requirement already satisfied: python-dateutil>=2.7.3 in ./opt/anaconda3/lib/python3.9/site-packages (from pandas>=0.20.0->plotly_express) (2.8.2)\n",
      "Requirement already satisfied: pytz>=2017.3 in ./opt/anaconda3/lib/python3.9/site-packages (from pandas>=0.20.0->plotly_express) (2021.3)\n",
      "Requirement already satisfied: six in ./opt/anaconda3/lib/python3.9/site-packages (from patsy>=0.5->plotly_express) (1.16.0)\n",
      "Requirement already satisfied: tenacity>=6.2.0 in ./opt/anaconda3/lib/python3.9/site-packages (from plotly>=4.1.0->plotly_express) (8.1.0)\n"
     ]
    }
   ],
   "source": [
    "!pip install plotly_express"
   ]
  },
  {
   "cell_type": "code",
   "execution_count": null,
   "id": "ae1fb8a3",
   "metadata": {},
   "outputs": [],
   "source": [
    "\n",
    "!pip install GitPython\n",
    "!pip install geojson\n",
    "!pip install fiona"
   ]
  },
  {
   "cell_type": "code",
   "execution_count": 15,
   "id": "36007df7",
   "metadata": {},
   "outputs": [],
   "source": [
    "import pandas as pd \n",
    "import geopandas as gpd \n",
    "import numpy as np\n",
    "from folium.features import GeoJsonTooltip\n",
    "from folium.features import GeoJsonPopup\n",
    "import pandas as pd\n",
    "import geopy\n",
    "from geopy.geocoders import Nominatim\n",
    "from geopy.extra.rate_limiter import RateLimiter\n",
    "import matplotlib.pyplot as plt\n",
    "import plotly_express as px\n",
    "import tqdm\n",
    "from tqdm._tqdm_notebook import tqdm_notebook\n",
    "import fiona\n",
    "import geojson\n",
    "import folium\n",
    "import webbrowser\n",
    "from folium.features import GeoJsonTooltip\n",
    "from folium.features import GeoJsonPopup"
   ]
  },
  {
   "cell_type": "markdown",
   "id": "a7b3e019",
   "metadata": {},
   "source": [
    "<div style=\"text-align: justify\">On télécharge un fichier geojson issu du site du gouvernement représentant les arrondissements de Paris. On le transforme dans un premier temps en un DataFrame grâce à geopandas. <div><br />\n",
    "    \n",
    "<div style=\"text-align: justify\">Nota Bene : geopandas peut parfois faire des siennes mais normalement le fichier arrondissements.geojson souvre bien. Il se trouve directement sur le GitHub dans 3. Statistiques descriptives mais cette étape peut être skip en utilisant la base Base_WS_traitee_stats qui provient de cette partie de l'algorithme et qui est aussi disponible sur GitHub. "
   ]
  },
  {
   "cell_type": "markdown",
   "id": "c42b1fa8",
   "metadata": {},
   "source": [
    "On cherche à connaitre l'arrondissement des biens immobiliers à partir de leurs coordonnées. Pour cela, on utilise un géocodage inverse."
   ]
  },
  {
   "cell_type": "code",
   "execution_count": null,
   "id": "6a9eb895",
   "metadata": {},
   "outputs": [],
   "source": [
    "geojson = gpd.read_file('arrondissements.geojson')\n",
    "geojson.head()"
   ]
  },
  {
   "cell_type": "code",
   "execution_count": 16,
   "id": "1190dc30",
   "metadata": {},
   "outputs": [
    {
     "data": {
      "text/html": [
       "<div>\n",
       "<style scoped>\n",
       "    .dataframe tbody tr th:only-of-type {\n",
       "        vertical-align: middle;\n",
       "    }\n",
       "\n",
       "    .dataframe tbody tr th {\n",
       "        vertical-align: top;\n",
       "    }\n",
       "\n",
       "    .dataframe thead th {\n",
       "        text-align: right;\n",
       "    }\n",
       "</style>\n",
       "<table border=\"1\" class=\"dataframe\">\n",
       "  <thead>\n",
       "    <tr style=\"text-align: right;\">\n",
       "      <th></th>\n",
       "      <th>Unnamed: 0</th>\n",
       "      <th>date_mutation</th>\n",
       "      <th>valeur_fonciere</th>\n",
       "      <th>type_local</th>\n",
       "      <th>surface_reelle_bati</th>\n",
       "      <th>nombre_pieces_principales</th>\n",
       "      <th>longitude</th>\n",
       "      <th>latitude</th>\n",
       "    </tr>\n",
       "  </thead>\n",
       "  <tbody>\n",
       "    <tr>\n",
       "      <th>0</th>\n",
       "      <td>0</td>\n",
       "      <td>29/06/2022</td>\n",
       "      <td>740000</td>\n",
       "      <td>Appartement</td>\n",
       "      <td>76</td>\n",
       "      <td>3</td>\n",
       "      <td>2.257874</td>\n",
       "      <td>48.839415</td>\n",
       "    </tr>\n",
       "    <tr>\n",
       "      <th>1</th>\n",
       "      <td>1</td>\n",
       "      <td>28/06/2022</td>\n",
       "      <td>598000</td>\n",
       "      <td>Appartement</td>\n",
       "      <td>54</td>\n",
       "      <td>2</td>\n",
       "      <td>2.260871</td>\n",
       "      <td>48.838515</td>\n",
       "    </tr>\n",
       "    <tr>\n",
       "      <th>2</th>\n",
       "      <td>2</td>\n",
       "      <td>28/06/2022</td>\n",
       "      <td>620874</td>\n",
       "      <td>Appartement</td>\n",
       "      <td>85</td>\n",
       "      <td>3</td>\n",
       "      <td>2.257995</td>\n",
       "      <td>48.837945</td>\n",
       "    </tr>\n",
       "    <tr>\n",
       "      <th>3</th>\n",
       "      <td>3</td>\n",
       "      <td>23/06/2022</td>\n",
       "      <td>230000</td>\n",
       "      <td>Appartement</td>\n",
       "      <td>30</td>\n",
       "      <td>2</td>\n",
       "      <td>2.260568</td>\n",
       "      <td>48.838470</td>\n",
       "    </tr>\n",
       "    <tr>\n",
       "      <th>4</th>\n",
       "      <td>4</td>\n",
       "      <td>17/06/2022</td>\n",
       "      <td>1380000</td>\n",
       "      <td>Appartement</td>\n",
       "      <td>141</td>\n",
       "      <td>5</td>\n",
       "      <td>2.256915</td>\n",
       "      <td>48.839126</td>\n",
       "    </tr>\n",
       "    <tr>\n",
       "      <th>...</th>\n",
       "      <td>...</td>\n",
       "      <td>...</td>\n",
       "      <td>...</td>\n",
       "      <td>...</td>\n",
       "      <td>...</td>\n",
       "      <td>...</td>\n",
       "      <td>...</td>\n",
       "      <td>...</td>\n",
       "    </tr>\n",
       "    <tr>\n",
       "      <th>9007</th>\n",
       "      <td>26540</td>\n",
       "      <td>03/06/2021</td>\n",
       "      <td>900000</td>\n",
       "      <td>Appartement</td>\n",
       "      <td>87</td>\n",
       "      <td>3</td>\n",
       "      <td>2.365987</td>\n",
       "      <td>48.865616</td>\n",
       "    </tr>\n",
       "    <tr>\n",
       "      <th>9008</th>\n",
       "      <td>18735</td>\n",
       "      <td>02/09/2021</td>\n",
       "      <td>545000</td>\n",
       "      <td>Appartement</td>\n",
       "      <td>54</td>\n",
       "      <td>3</td>\n",
       "      <td>2.370014</td>\n",
       "      <td>48.867403</td>\n",
       "    </tr>\n",
       "    <tr>\n",
       "      <th>9009</th>\n",
       "      <td>19987</td>\n",
       "      <td>24/09/2021</td>\n",
       "      <td>441000</td>\n",
       "      <td>Appartement</td>\n",
       "      <td>40</td>\n",
       "      <td>3</td>\n",
       "      <td>2.372554</td>\n",
       "      <td>48.869370</td>\n",
       "    </tr>\n",
       "    <tr>\n",
       "      <th>9010</th>\n",
       "      <td>25887</td>\n",
       "      <td>22/03/2021</td>\n",
       "      <td>485000</td>\n",
       "      <td>Appartement</td>\n",
       "      <td>49</td>\n",
       "      <td>3</td>\n",
       "      <td>2.366002</td>\n",
       "      <td>48.868051</td>\n",
       "    </tr>\n",
       "    <tr>\n",
       "      <th>9011</th>\n",
       "      <td>25463</td>\n",
       "      <td>12/02/2021</td>\n",
       "      <td>975280</td>\n",
       "      <td>Appartement</td>\n",
       "      <td>92</td>\n",
       "      <td>3</td>\n",
       "      <td>2.370205</td>\n",
       "      <td>48.869286</td>\n",
       "    </tr>\n",
       "  </tbody>\n",
       "</table>\n",
       "<p>9012 rows × 8 columns</p>\n",
       "</div>"
      ],
      "text/plain": [
       "      Unnamed: 0 date_mutation  valeur_fonciere   type_local  \\\n",
       "0              0    29/06/2022           740000  Appartement   \n",
       "1              1    28/06/2022           598000  Appartement   \n",
       "2              2    28/06/2022           620874  Appartement   \n",
       "3              3    23/06/2022           230000  Appartement   \n",
       "4              4    17/06/2022          1380000  Appartement   \n",
       "...          ...           ...              ...          ...   \n",
       "9007       26540    03/06/2021           900000  Appartement   \n",
       "9008       18735    02/09/2021           545000  Appartement   \n",
       "9009       19987    24/09/2021           441000  Appartement   \n",
       "9010       25887    22/03/2021           485000  Appartement   \n",
       "9011       25463    12/02/2021           975280  Appartement   \n",
       "\n",
       "      surface_reelle_bati  nombre_pieces_principales  longitude   latitude  \n",
       "0                      76                          3   2.257874  48.839415  \n",
       "1                      54                          2   2.260871  48.838515  \n",
       "2                      85                          3   2.257995  48.837945  \n",
       "3                      30                          2   2.260568  48.838470  \n",
       "4                     141                          5   2.256915  48.839126  \n",
       "...                   ...                        ...        ...        ...  \n",
       "9007                   87                          3   2.365987  48.865616  \n",
       "9008                   54                          3   2.370014  48.867403  \n",
       "9009                   40                          3   2.372554  48.869370  \n",
       "9010                   49                          3   2.366002  48.868051  \n",
       "9011                   92                          3   2.370205  48.869286  \n",
       "\n",
       "[9012 rows x 8 columns]"
      ]
     },
     "execution_count": 16,
     "metadata": {},
     "output_type": "execute_result"
    }
   ],
   "source": [
    "df_stat = pd.read_csv(\"/Users/charlesrollet/Desktop/Base_WS_traitee.csv\")\n",
    "df_stat"
   ]
  },
  {
   "cell_type": "code",
   "execution_count": 119,
   "id": "e708fe05",
   "metadata": {},
   "outputs": [],
   "source": [
    "Arrondissement = []\n",
    "for i in range(df_stat.shape[0]):\n",
    "    la = df.latitude[i]\n",
    "    lo = df.longitude[i]\n",
    "    li=[la,lo]\n",
    "    locator = Nominatim(user_agent=\"myGeocoder\")\n",
    "    coordinates = li\n",
    "    location = locator.reverse(coordinates)\n",
    "    location.raw\n",
    "    Arrondissement.append(location.address[len(location.address)-13:len(location.address)-8])\n"
   ]
  },
  {
   "cell_type": "markdown",
   "id": "6c7078f6",
   "metadata": {},
   "source": [
    "On crée deux nouvelle dans le dataframe : celle contenant les arrondissements et le prix du m2"
   ]
  },
  {
   "cell_type": "code",
   "execution_count": null,
   "id": "8c19155d",
   "metadata": {},
   "outputs": [],
   "source": [
    "df_stat['Arrondissement']=Arrondissement\n",
    "df_stat['prixm2'] = df_stat['valeur_fonciere'] / df_stat['surface_reelle_bati']\n",
    "df_stat.head()"
   ]
  },
  {
   "cell_type": "markdown",
   "id": "da9f0b7a",
   "metadata": {},
   "source": [
    "On supprime les lignes du DataFrame qui n'ont pas la donnée code postal"
   ]
  },
  {
   "cell_type": "code",
   "execution_count": 135,
   "id": "e7ea1170",
   "metadata": {},
   "outputs": [],
   "source": [
    "df_stat['Arrondissement'] = df_stat['Arrondissement'].fillna(0)"
   ]
  },
  {
   "cell_type": "code",
   "execution_count": 136,
   "id": "cf2aeff5",
   "metadata": {},
   "outputs": [],
   "source": [
    "list = []\n",
    "a = -1\n",
    "for i in df_stat['Arrondissement']: \n",
    "    a = a+1\n",
    "    try : \n",
    "        i = int(i)\n",
    "    except ValueError : \n",
    "        list.append(a)\n",
    "        \n",
    "df_stat = df_stat.drop(df_stat.index[list])\n",
    "\n",
    "#On vérifie qu'il ne reste pas de code postal au format incorrect dans arrondissement \n",
    "list2 = []\n",
    "a = -1\n",
    "for i in df_stat['Arrondissement']: \n",
    "    a = a + 1 \n",
    "    try : \n",
    "        list2.append(int(i))\n",
    "    except ValueError : \n",
    "        print(i)\n",
    "    \n",
    "df_stat['Arrondissement'] = df_stat['Arrondissement'].astype('int64')"
   ]
  },
  {
   "cell_type": "code",
   "execution_count": 137,
   "id": "62533273",
   "metadata": {},
   "outputs": [],
   "source": [
    "Arrondissement_1 = []\n",
    "for i in df_stat['Arrondissement'] : \n",
    "    Arrondissement_1.append(i%100)\n",
    "df_stat['Arrondissement'] = Arrondissement_1\n",
    "df_stat.drop(df_stat[(df_stat['Arrondissement'] == 0)].index, inplace=True)"
   ]
  },
  {
   "cell_type": "code",
   "execution_count": null,
   "id": "c70ea4e9",
   "metadata": {},
   "outputs": [],
   "source": [
    "table = np.round(pd.pivot_table(df_stat, index = df_stat[\"Arrondissement\"], values = [\"prixm2\"]))\n",
    "df5 = table.reset_index()"
   ]
  },
  {
   "cell_type": "code",
   "execution_count": null,
   "id": "58d05c21",
   "metadata": {},
   "outputs": [],
   "source": [
    "df_stat_final = geojson.merge(df5, left_on=\"c_ar\", right_on=\"Arrondissement\", how=\"outer\") "
   ]
  },
  {
   "cell_type": "markdown",
   "id": "9551703a",
   "metadata": {},
   "source": [
    "On crée finalement une carte de Paris du prix au m2 des arrondissements.  "
   ]
  },
  {
   "cell_type": "code",
   "execution_count": null,
   "id": "3043747f",
   "metadata": {},
   "outputs": [],
   "source": [
    "import plotly.express as px\n",
    "\n",
    "fig1 = px.choropleth_mapbox(df_stat_final, locations = 'Arrondissement',\n",
    "                            featureidkey = 'properties.c_ar',\n",
    "                            geojson= geojson,\n",
    "                            color=df_final['Prix_m2'],\n",
    "                            color_continuous_scale=\"PuRd\",\n",
    "                            range_color=[9000,15000],\n",
    "                            hover_name='Arrondissement',\n",
    "                            hover_data=['Prix_m2'],\n",
    "                            labels = {'Arrondissement' : 'Arrondissement ', \n",
    "                                     'Prix_m2' : 'Prix du m2 '},\n",
    "                            title=\"Prix moyen du m² par arrondissement\",\n",
    "                            mapbox_style=\"open-street-map\",\n",
    "                            center= {'lat':48.866669, 'lon':2.33333},\n",
    "                            zoom =10.5, \n",
    "                            opacity= 0.6)\n",
    "\n",
    "fig1.show()"
   ]
  },
  {
   "cell_type": "markdown",
   "id": "808538fb",
   "metadata": {},
   "source": [
    "#### NOTA BENE : Afin d'éviter de faire tourner geopandas, nous avons enregistré dans le dossier 3. Statistiques descriptive du GitHub la base 'Base_WS_traitee_stats'"
   ]
  },
  {
   "cell_type": "code",
   "execution_count": 17,
   "id": "52ee0c0b",
   "metadata": {},
   "outputs": [],
   "source": [
    "import numpy as np\n",
    "import pandas as pd \n",
    "from sklearn import linear_model\n",
    "\n",
    "%matplotlib inline\n",
    "\n",
    "import matplotlib.pyplot as plt\n",
    "import seaborn as sns\n",
    "import os\n",
    "import tempfile\n",
    "import typing\n",
    "import tempfile\n",
    "import geopandas as gpd"
   ]
  },
  {
   "cell_type": "code",
   "execution_count": 18,
   "id": "73d65cba",
   "metadata": {},
   "outputs": [
    {
     "data": {
      "text/html": [
       "<div>\n",
       "<style scoped>\n",
       "    .dataframe tbody tr th:only-of-type {\n",
       "        vertical-align: middle;\n",
       "    }\n",
       "\n",
       "    .dataframe tbody tr th {\n",
       "        vertical-align: top;\n",
       "    }\n",
       "\n",
       "    .dataframe thead th {\n",
       "        text-align: right;\n",
       "    }\n",
       "</style>\n",
       "<table border=\"1\" class=\"dataframe\">\n",
       "  <thead>\n",
       "    <tr style=\"text-align: right;\">\n",
       "      <th></th>\n",
       "      <th>date_mutation</th>\n",
       "      <th>Valeur du bien</th>\n",
       "      <th>type_local</th>\n",
       "      <th>Surface en m²</th>\n",
       "      <th>nombre_pieces_principales</th>\n",
       "      <th>longitude</th>\n",
       "      <th>latitude</th>\n",
       "      <th>Arrondissement</th>\n",
       "      <th>Prix au m²</th>\n",
       "    </tr>\n",
       "  </thead>\n",
       "  <tbody>\n",
       "    <tr>\n",
       "      <th>0</th>\n",
       "      <td>29/06/2022</td>\n",
       "      <td>740000</td>\n",
       "      <td>Appartement</td>\n",
       "      <td>76</td>\n",
       "      <td>3</td>\n",
       "      <td>2.257874</td>\n",
       "      <td>48.839415</td>\n",
       "      <td>16</td>\n",
       "      <td>9736.842105</td>\n",
       "    </tr>\n",
       "    <tr>\n",
       "      <th>1</th>\n",
       "      <td>28/06/2022</td>\n",
       "      <td>598000</td>\n",
       "      <td>Appartement</td>\n",
       "      <td>54</td>\n",
       "      <td>2</td>\n",
       "      <td>2.260871</td>\n",
       "      <td>48.838515</td>\n",
       "      <td>16</td>\n",
       "      <td>11074.074074</td>\n",
       "    </tr>\n",
       "    <tr>\n",
       "      <th>2</th>\n",
       "      <td>28/06/2022</td>\n",
       "      <td>620874</td>\n",
       "      <td>Appartement</td>\n",
       "      <td>85</td>\n",
       "      <td>3</td>\n",
       "      <td>2.257995</td>\n",
       "      <td>48.837945</td>\n",
       "      <td>16</td>\n",
       "      <td>7304.400000</td>\n",
       "    </tr>\n",
       "    <tr>\n",
       "      <th>3</th>\n",
       "      <td>23/06/2022</td>\n",
       "      <td>230000</td>\n",
       "      <td>Appartement</td>\n",
       "      <td>30</td>\n",
       "      <td>2</td>\n",
       "      <td>2.260568</td>\n",
       "      <td>48.838470</td>\n",
       "      <td>16</td>\n",
       "      <td>7666.666667</td>\n",
       "    </tr>\n",
       "    <tr>\n",
       "      <th>4</th>\n",
       "      <td>17/06/2022</td>\n",
       "      <td>1380000</td>\n",
       "      <td>Appartement</td>\n",
       "      <td>141</td>\n",
       "      <td>5</td>\n",
       "      <td>2.256915</td>\n",
       "      <td>48.839126</td>\n",
       "      <td>16</td>\n",
       "      <td>9787.234043</td>\n",
       "    </tr>\n",
       "  </tbody>\n",
       "</table>\n",
       "</div>"
      ],
      "text/plain": [
       "  date_mutation  Valeur du bien   type_local  Surface en m²  \\\n",
       "0    29/06/2022          740000  Appartement             76   \n",
       "1    28/06/2022          598000  Appartement             54   \n",
       "2    28/06/2022          620874  Appartement             85   \n",
       "3    23/06/2022          230000  Appartement             30   \n",
       "4    17/06/2022         1380000  Appartement            141   \n",
       "\n",
       "   nombre_pieces_principales  longitude   latitude  Arrondissement  \\\n",
       "0                          3   2.257874  48.839415              16   \n",
       "1                          2   2.260871  48.838515              16   \n",
       "2                          3   2.257995  48.837945              16   \n",
       "3                          2   2.260568  48.838470              16   \n",
       "4                          5   2.256915  48.839126              16   \n",
       "\n",
       "     Prix au m²  \n",
       "0   9736.842105  \n",
       "1  11074.074074  \n",
       "2   7304.400000  \n",
       "3   7666.666667  \n",
       "4   9787.234043  "
      ]
     },
     "execution_count": 18,
     "metadata": {},
     "output_type": "execute_result"
    }
   ],
   "source": [
    "df = pd.read_csv(\"/Users/charlesrollet/Desktop/Base_WS_traitee_stats.csv\")\n",
    "df = df.rename(columns = {'prixm2': 'Prix au m²','code_postal':'Arrondissement', 'surface_reelle_bati':'Surface en m²', 'valeur_fonciere':'Valeur du bien'})\n",
    "df = df.drop(columns = {'Unnamed: 0'})\n",
    "df.head()"
   ]
  },
  {
   "cell_type": "markdown",
   "id": "bc721af6",
   "metadata": {},
   "source": [
    "<div style=\"text-align: justify\"> On s'intéresse d'abord à la répartition des biens afin de s'assurer qu'ils sont distribués de manière homogène dans chaque arrondissement. On remarque que notre base contient un peu plus de bien dans le 16e arrondissement à l'inverse du 1er ou du 6e arrondissement. Cela est sans doute du au fait que la surface du 16e est supérieur à ces deux arrondissement. Or Immodata référencie 100 biens par affichage. Donc plus un arrondissement est grand plus nous allons avoir de données sur celui-ci au vue de la manière dont nous avons construit notre algorithme.<div>"
   ]
  },
  {
   "cell_type": "code",
   "execution_count": 19,
   "id": "ea99f032",
   "metadata": {},
   "outputs": [
    {
     "data": {
      "text/plain": [
       "<AxesSubplot:ylabel='Arrondissement'>"
      ]
     },
     "execution_count": 19,
     "metadata": {},
     "output_type": "execute_result"
    },
    {
     "data": {
      "image/png": "[encoded data removed]",
      "text/plain": [
       "<Figure size 432x288 with 1 Axes>"
      ]
     },
     "metadata": {},
     "output_type": "display_data"
    }
   ],
   "source": [
    "df[\"Arrondissement\"].value_counts(normalize=True).plot(kind='pie')"
   ]
  },
  {
   "cell_type": "code",
   "execution_count": 20,
   "id": "63796809",
   "metadata": {},
   "outputs": [
    {
     "data": {
      "text/html": [
       "<div>\n",
       "<style scoped>\n",
       "    .dataframe tbody tr th:only-of-type {\n",
       "        vertical-align: middle;\n",
       "    }\n",
       "\n",
       "    .dataframe tbody tr th {\n",
       "        vertical-align: top;\n",
       "    }\n",
       "\n",
       "    .dataframe thead th {\n",
       "        text-align: right;\n",
       "    }\n",
       "</style>\n",
       "<table border=\"1\" class=\"dataframe\">\n",
       "  <thead>\n",
       "    <tr style=\"text-align: right;\">\n",
       "      <th></th>\n",
       "      <th>Arrondissement</th>\n",
       "      <th>Nb_annonces</th>\n",
       "    </tr>\n",
       "  </thead>\n",
       "  <tbody>\n",
       "    <tr>\n",
       "      <th>0</th>\n",
       "      <td>16</td>\n",
       "      <td>890</td>\n",
       "    </tr>\n",
       "    <tr>\n",
       "      <th>1</th>\n",
       "      <td>3</td>\n",
       "      <td>617</td>\n",
       "    </tr>\n",
       "    <tr>\n",
       "      <th>2</th>\n",
       "      <td>15</td>\n",
       "      <td>540</td>\n",
       "    </tr>\n",
       "    <tr>\n",
       "      <th>3</th>\n",
       "      <td>2</td>\n",
       "      <td>530</td>\n",
       "    </tr>\n",
       "    <tr>\n",
       "      <th>4</th>\n",
       "      <td>12</td>\n",
       "      <td>493</td>\n",
       "    </tr>\n",
       "    <tr>\n",
       "      <th>5</th>\n",
       "      <td>13</td>\n",
       "      <td>490</td>\n",
       "    </tr>\n",
       "    <tr>\n",
       "      <th>6</th>\n",
       "      <td>11</td>\n",
       "      <td>482</td>\n",
       "    </tr>\n",
       "    <tr>\n",
       "      <th>7</th>\n",
       "      <td>4</td>\n",
       "      <td>474</td>\n",
       "    </tr>\n",
       "    <tr>\n",
       "      <th>8</th>\n",
       "      <td>7</td>\n",
       "      <td>474</td>\n",
       "    </tr>\n",
       "    <tr>\n",
       "      <th>9</th>\n",
       "      <td>5</td>\n",
       "      <td>460</td>\n",
       "    </tr>\n",
       "    <tr>\n",
       "      <th>10</th>\n",
       "      <td>18</td>\n",
       "      <td>429</td>\n",
       "    </tr>\n",
       "    <tr>\n",
       "      <th>11</th>\n",
       "      <td>20</td>\n",
       "      <td>411</td>\n",
       "    </tr>\n",
       "    <tr>\n",
       "      <th>12</th>\n",
       "      <td>8</td>\n",
       "      <td>406</td>\n",
       "    </tr>\n",
       "    <tr>\n",
       "      <th>13</th>\n",
       "      <td>6</td>\n",
       "      <td>403</td>\n",
       "    </tr>\n",
       "    <tr>\n",
       "      <th>14</th>\n",
       "      <td>19</td>\n",
       "      <td>397</td>\n",
       "    </tr>\n",
       "    <tr>\n",
       "      <th>15</th>\n",
       "      <td>17</td>\n",
       "      <td>387</td>\n",
       "    </tr>\n",
       "    <tr>\n",
       "      <th>16</th>\n",
       "      <td>9</td>\n",
       "      <td>355</td>\n",
       "    </tr>\n",
       "    <tr>\n",
       "      <th>17</th>\n",
       "      <td>14</td>\n",
       "      <td>332</td>\n",
       "    </tr>\n",
       "    <tr>\n",
       "      <th>18</th>\n",
       "      <td>1</td>\n",
       "      <td>288</td>\n",
       "    </tr>\n",
       "    <tr>\n",
       "      <th>19</th>\n",
       "      <td>10</td>\n",
       "      <td>154</td>\n",
       "    </tr>\n",
       "  </tbody>\n",
       "</table>\n",
       "</div>"
      ],
      "text/plain": [
       "    Arrondissement  Nb_annonces\n",
       "0               16          890\n",
       "1                3          617\n",
       "2               15          540\n",
       "3                2          530\n",
       "4               12          493\n",
       "5               13          490\n",
       "6               11          482\n",
       "7                4          474\n",
       "8                7          474\n",
       "9                5          460\n",
       "10              18          429\n",
       "11              20          411\n",
       "12               8          406\n",
       "13               6          403\n",
       "14              19          397\n",
       "15              17          387\n",
       "16               9          355\n",
       "17              14          332\n",
       "18               1          288\n",
       "19              10          154"
      ]
     },
     "execution_count": 20,
     "metadata": {},
     "output_type": "execute_result"
    }
   ],
   "source": [
    "nbr = df[['Valeur du bien','Arrondissement']].groupby('Arrondissement').count().sort_values(by='Valeur du bien', ascending=False)\n",
    "nbr.reset_index(0, inplace=True)\n",
    "nbr.rename(columns={'Valeur du bien':'Nb_annonces'}, inplace=True)\n",
    "nbr.head(22)"
   ]
  },
  {
   "cell_type": "markdown",
   "id": "f1ababf3",
   "metadata": {},
   "source": [
    "Nous nous sommes ensuite intéressés au prix moyen du m2 par arrondissement afin de s'assurer de la cohérence de notre base de données. Assez logiquement, les premiers arrondissements sont plus chers.  "
   ]
  },
  {
   "cell_type": "code",
   "execution_count": 21,
   "id": "5a1f50ea",
   "metadata": {},
   "outputs": [
    {
     "data": {
      "text/html": [
       "<div>\n",
       "<style scoped>\n",
       "    .dataframe tbody tr th:only-of-type {\n",
       "        vertical-align: middle;\n",
       "    }\n",
       "\n",
       "    .dataframe tbody tr th {\n",
       "        vertical-align: top;\n",
       "    }\n",
       "\n",
       "    .dataframe thead th {\n",
       "        text-align: right;\n",
       "    }\n",
       "</style>\n",
       "<table border=\"1\" class=\"dataframe\">\n",
       "  <thead>\n",
       "    <tr style=\"text-align: right;\">\n",
       "      <th></th>\n",
       "      <th>Arrondissement</th>\n",
       "      <th>Prix au m²</th>\n",
       "    </tr>\n",
       "  </thead>\n",
       "  <tbody>\n",
       "    <tr>\n",
       "      <th>0</th>\n",
       "      <td>6</td>\n",
       "      <td>14476.0</td>\n",
       "    </tr>\n",
       "    <tr>\n",
       "      <th>1</th>\n",
       "      <td>7</td>\n",
       "      <td>14153.0</td>\n",
       "    </tr>\n",
       "    <tr>\n",
       "      <th>2</th>\n",
       "      <td>1</td>\n",
       "      <td>13381.0</td>\n",
       "    </tr>\n",
       "    <tr>\n",
       "      <th>3</th>\n",
       "      <td>4</td>\n",
       "      <td>13105.0</td>\n",
       "    </tr>\n",
       "    <tr>\n",
       "      <th>4</th>\n",
       "      <td>5</td>\n",
       "      <td>12850.0</td>\n",
       "    </tr>\n",
       "  </tbody>\n",
       "</table>\n",
       "</div>"
      ],
      "text/plain": [
       "   Arrondissement  Prix au m²\n",
       "0               6     14476.0\n",
       "1               7     14153.0\n",
       "2               1     13381.0\n",
       "3               4     13105.0\n",
       "4               5     12850.0"
      ]
     },
     "execution_count": 21,
     "metadata": {},
     "output_type": "execute_result"
    }
   ],
   "source": [
    "prix = df[['Prix au m²','Arrondissement']].groupby('Arrondissement').mean().round().sort_values(by='Prix au m²', ascending=False)\n",
    "prix.reset_index(0, inplace=True)\n",
    "prix.head()"
   ]
  },
  {
   "cell_type": "code",
   "execution_count": 22,
   "id": "ababf13e",
   "metadata": {},
   "outputs": [
    {
     "data": {
      "image/png": "[encoded data removed]",
      "text/plain": [
       "<Figure size 720x432 with 1 Axes>"
      ]
     },
     "metadata": {
      "needs_background": "light"
     },
     "output_type": "display_data"
    }
   ],
   "source": [
    "#Diagramme en barre présentant le prix moyen des biens (en m²) par arrondissement\n",
    "plt.figure(figsize=(10,6))\n",
    "sns.barplot(x=prix['Arrondissement'], y=prix['Prix au m²'], palette=\"Blues_r\")\n",
    "plt.xlabel('\\nArrondissement', fontsize=15, color='#2980b9')\n",
    "plt.ylabel('Prix moyen au m² (en €)\\n', fontsize=15, color='#2980b9')\n",
    "plt.title(\"Prix moyen d'un bien immobilier par arrondissement à Paris sur le site Immodata\\n\", fontsize=18, color='#3742fa')\n",
    "plt.xticks(rotation= 45)\n",
    "plt.tight_layout()"
   ]
  },
  {
   "cell_type": "code",
   "execution_count": 23,
   "id": "e59cb628",
   "metadata": {},
   "outputs": [
    {
     "data": {
      "image/png": "[encoded data removed]",
      "text/plain": [
       "<Figure size 432x288 with 1 Axes>"
      ]
     },
     "metadata": {
      "needs_background": "light"
     },
     "output_type": "display_data"
    }
   ],
   "source": [
    "#Boite à moustache représentant la repartition des prix de vente (en m²) pour chaque arrondissement\n",
    "ax = sns.boxplot(x=\"Arrondissement\", y='Prix au m²', data=df, orient=\"v\")"
   ]
  },
  {
   "cell_type": "code",
   "execution_count": 24,
   "id": "0b1a3542",
   "metadata": {},
   "outputs": [
    {
     "data": {
      "image/png": "[encoded data removed]",
      "text/plain": [
       "<Figure size 432x288 with 1 Axes>"
      ]
     },
     "metadata": {
      "needs_background": "light"
     },
     "output_type": "display_data"
    }
   ],
   "source": [
    "#Boite à moustache représentant la repartition des prix de vente pour chaque arrondissement\n",
    "ax = sns.boxplot(x=\"Arrondissement\", y='Valeur du bien', data=df, orient=\"v\")"
   ]
  },
  {
   "cell_type": "markdown",
   "id": "8f8c2244",
   "metadata": {},
   "source": [
    "<div style=\"text-align: justify\"> Après s'être assuré de la bonne répartition de nos données et de leur cohérence, nous nous sommes intéressés à la corrélation qu'entretiennent les variables. <div>\n",
    "    \n",
    "<div style=\"text-align: justify\"> Sans grande surprise, on observe une forte corrélation entre la surface et le prix du bien ainsi qu'entre la surface et le nombre de pièce. Au vu des autres corrélations, on comprend qu'on a 3 groupe de features : les caractéristiques numériques du bien (surface, nombre de pièce), la localisation du bien (longitude, latitude et arrondissement) et la temporalité avec la date.  "
   ]
  },
  {
   "cell_type": "code",
   "execution_count": 25,
   "id": "5d4fcd1d",
   "metadata": {},
   "outputs": [
    {
     "data": {
      "text/plain": [
       "Text(0.5, 1.0, 'Matrice de corrélation entre les différentes caractéristiques des annonces\\n')"
      ]
     },
     "execution_count": 25,
     "metadata": {},
     "output_type": "execute_result"
    },
    {
     "data": {
      "image/png": "[encoded data removed]",
      "text/plain": [
       "<Figure size 432x288 with 2 Axes>"
      ]
     },
     "metadata": {
      "needs_background": "light"
     },
     "output_type": "display_data"
    }
   ],
   "source": [
    "sns.heatmap(df.corr(), annot=True, cmap='Greens')\n",
    "plt.title(\"Matrice de corrélation entre les différentes caractéristiques des annonces\\n\", fontsize=18, color='#009432')"
   ]
  },
  {
   "cell_type": "markdown",
   "id": "59ef5c6c",
   "metadata": {},
   "source": [
    "<div style=\"text-align: justify\"> Étant donné la forte corrélation entre le prix et la surface, on décide de représenter nos données dans un plan afin d'en saisir leur répartition en vu de choisir le type de modèles que nous allons tester. "
   ]
  },
  {
   "cell_type": "code",
   "execution_count": 32,
   "id": "9f3889fa",
   "metadata": {},
   "outputs": [
    {
     "name": "stderr",
     "output_type": "stream",
     "text": [
      "*c* argument looks like a single numeric RGB or RGBA sequence, which should be avoided as value-mapping will have precedence in case its length matches with *x* & *y*.  Please use the *color* keyword-argument or provide a 2D array with a single row if you intend to specify the same RGB or RGBA value for all points.\n"
     ]
    },
    {
     "data": {
      "text/plain": [
       "<AxesSubplot:xlabel='Surface en m²', ylabel='Valeur du bien'>"
      ]
     },
     "execution_count": 32,
     "metadata": {},
     "output_type": "execute_result"
    },
    {
     "data": {
      "image/png": "[encoded data removed]",
      "text/plain": [
       "<Figure size 1152x595.44 with 1 Axes>"
      ]
     },
     "metadata": {},
     "output_type": "display_data"
    }
   ],
   "source": [
    "sns.set(rc={'figure.figsize':(16,8.27)})\n",
    "df.plot.scatter(x='Surface en m²',y='Valeur du bien')"
   ]
  },
  {
   "cell_type": "markdown",
   "id": "62bf700c",
   "metadata": {},
   "source": [
    "<div style=\"text-align: justify\"> Il semble donc assez clair que nous allons partir sur des modèles de regressions."
   ]
  },
  {
   "cell_type": "code",
   "execution_count": 26,
   "id": "f69328b2",
   "metadata": {},
   "outputs": [
    {
     "data": {
      "text/plain": [
       "<seaborn.axisgrid.FacetGrid at 0x7f8fe1b2bb20>"
      ]
     },
     "execution_count": 26,
     "metadata": {},
     "output_type": "execute_result"
    },
    {
     "data": {
      "image/png": "[encoded data removed]",
      "text/plain": [
       "<Figure size 360x360 with 1 Axes>"
      ]
     },
     "metadata": {
      "needs_background": "light"
     },
     "output_type": "display_data"
    }
   ],
   "source": [
    "sns.lmplot(x = 'Surface en m²', y = 'Valeur du bien', data = df, scatter_kws = {'s': 5, 'color': 'red'}, line_kws = {'color': 'green'})"
   ]
  },
  {
   "cell_type": "code",
   "execution_count": 82,
   "id": "1b2fbdde",
   "metadata": {},
   "outputs": [
    {
     "data": {
      "text/plain": [
       "<seaborn.axisgrid.PairGrid at 0x7f9e206dad90>"
      ]
     },
     "execution_count": 82,
     "metadata": {},
     "output_type": "execute_result"
    },
    {
     "data": {
      "image/png": "[encoded data removed]",
      "text/plain": [
       "<Figure size 900x900 with 30 Axes>"
      ]
     },
     "metadata": {},
     "output_type": "display_data"
    }
   ],
   "source": [
    "df = df.drop(columns = {'latitude', 'longitude'})\n",
    "sns.pairplot(df)"
   ]
  },
  {
   "cell_type": "markdown",
   "id": "98f8eaca",
   "metadata": {},
   "source": [
    "# 4. Preprocessing"
   ]
  },
  {
   "cell_type": "markdown",
   "id": "3efd9c89",
   "metadata": {},
   "source": [
    "#### Notre démarche : <br />\n",
    "\n",
    "<div style=\"text-align: justify\">Notre base comporte à la fois des varibales catégorielles ainsi que des variables continues. Nous avons donc dû traiter les deux types de variables séparément.<div><br />\n",
    "\n",
    "<div style=\"text-align: justify\">Les variables catégorielles(la date, le nombre de pièces et le type du bien).<div><br /> \n",
    "\n",
    "<div style=\"text-align: justify\">Les variables continues (la surface, la longitude et la latitude).<div><br />\n",
    "\n",
    "<div style=\"text-align: justify\">Nous avons alors créé une fonction nous permettant de choisir le meilleur standardisateur parmis StandardScaler, MinMaxScaler, RobustScaler pour 6 modèles utilisés. Le standardisateur qui avait globalement les meilleurs performances a été ()..<div> "
   ]
  },
  {
   "cell_type": "markdown",
   "id": "c317e07a",
   "metadata": {},
   "source": [
    "#### Explication du code :<br />  \n",
    "\n",
    "<div style=\"text-align: justify\">On importe d'abord plusieurs modules dont les modèles à tester et les standardisateur (LabelEncoder, StandardScaler, RobustScaler,MinMaxScaler) en lien avec sklearn.<div> \n"
   ]
  },
  {
   "cell_type": "code",
   "execution_count": 27,
   "id": "0b2de630",
   "metadata": {},
   "outputs": [],
   "source": [
    "import numpy as np\n",
    "import pandas as pd\n",
    "from sklearn.model_selection import train_test_split\n",
    "from sklearn.preprocessing import LabelEncoder, StandardScaler, RobustScaler,MinMaxScaler\n",
    "from sklearn.metrics import accuracy_score\n",
    "from sklearn.tree import DecisionTreeRegressor\n",
    "from sklearn.ensemble import RandomForestRegressor\n",
    "from sklearn.neighbors import KNeighborsRegressor\n",
    "from sklearn.linear_model import LogisticRegression, LinearRegression, BayesianRidge\n",
    "from sklearn.model_selection import cross_val_score\n",
    "from sklearn.svm import SVC"
   ]
  },
  {
   "cell_type": "code",
   "execution_count": 28,
   "id": "4981ebbb",
   "metadata": {},
   "outputs": [
    {
     "data": {
      "text/html": [
       "<div>\n",
       "<style scoped>\n",
       "    .dataframe tbody tr th:only-of-type {\n",
       "        vertical-align: middle;\n",
       "    }\n",
       "\n",
       "    .dataframe tbody tr th {\n",
       "        vertical-align: top;\n",
       "    }\n",
       "\n",
       "    .dataframe thead th {\n",
       "        text-align: right;\n",
       "    }\n",
       "</style>\n",
       "<table border=\"1\" class=\"dataframe\">\n",
       "  <thead>\n",
       "    <tr style=\"text-align: right;\">\n",
       "      <th></th>\n",
       "      <th>date_mutation</th>\n",
       "      <th>valeur_fonciere</th>\n",
       "      <th>type_local</th>\n",
       "      <th>surface_reelle_bati</th>\n",
       "      <th>nombre_pieces_principales</th>\n",
       "      <th>longitude</th>\n",
       "      <th>latitude</th>\n",
       "    </tr>\n",
       "  </thead>\n",
       "  <tbody>\n",
       "    <tr>\n",
       "      <th>0</th>\n",
       "      <td>29/06/2022</td>\n",
       "      <td>740000</td>\n",
       "      <td>Appartement</td>\n",
       "      <td>76</td>\n",
       "      <td>3</td>\n",
       "      <td>2.257874</td>\n",
       "      <td>48.839415</td>\n",
       "    </tr>\n",
       "    <tr>\n",
       "      <th>1</th>\n",
       "      <td>28/06/2022</td>\n",
       "      <td>598000</td>\n",
       "      <td>Appartement</td>\n",
       "      <td>54</td>\n",
       "      <td>2</td>\n",
       "      <td>2.260871</td>\n",
       "      <td>48.838515</td>\n",
       "    </tr>\n",
       "    <tr>\n",
       "      <th>2</th>\n",
       "      <td>28/06/2022</td>\n",
       "      <td>620874</td>\n",
       "      <td>Appartement</td>\n",
       "      <td>85</td>\n",
       "      <td>3</td>\n",
       "      <td>2.257995</td>\n",
       "      <td>48.837945</td>\n",
       "    </tr>\n",
       "    <tr>\n",
       "      <th>3</th>\n",
       "      <td>23/06/2022</td>\n",
       "      <td>230000</td>\n",
       "      <td>Appartement</td>\n",
       "      <td>30</td>\n",
       "      <td>2</td>\n",
       "      <td>2.260568</td>\n",
       "      <td>48.838470</td>\n",
       "    </tr>\n",
       "    <tr>\n",
       "      <th>4</th>\n",
       "      <td>17/06/2022</td>\n",
       "      <td>1380000</td>\n",
       "      <td>Appartement</td>\n",
       "      <td>141</td>\n",
       "      <td>5</td>\n",
       "      <td>2.256915</td>\n",
       "      <td>48.839126</td>\n",
       "    </tr>\n",
       "  </tbody>\n",
       "</table>\n",
       "</div>"
      ],
      "text/plain": [
       "  date_mutation  valeur_fonciere   type_local  surface_reelle_bati  \\\n",
       "0    29/06/2022           740000  Appartement                   76   \n",
       "1    28/06/2022           598000  Appartement                   54   \n",
       "2    28/06/2022           620874  Appartement                   85   \n",
       "3    23/06/2022           230000  Appartement                   30   \n",
       "4    17/06/2022          1380000  Appartement                  141   \n",
       "\n",
       "   nombre_pieces_principales  longitude   latitude  \n",
       "0                          3   2.257874  48.839415  \n",
       "1                          2   2.260871  48.838515  \n",
       "2                          3   2.257995  48.837945  \n",
       "3                          2   2.260568  48.838470  \n",
       "4                          5   2.256915  48.839126  "
      ]
     },
     "execution_count": 28,
     "metadata": {},
     "output_type": "execute_result"
    }
   ],
   "source": [
    "df_temp = pd.read_csv('/Users/charlesrollet/Desktop/Base_WS_traitee.csv')\n",
    "\n",
    "column = [\"date_mutation\",\"valeur_fonciere\", \"type_local\",\"surface_reelle_bati\", \"nombre_pieces_principales\",\"longitude\", \"latitude\"]\n",
    "df = df_temp[column]\n",
    "df.head()"
   ]
  },
  {
   "cell_type": "markdown",
   "id": "cd117d84",
   "metadata": {},
   "source": [
    "#### <div style=\"text-align: justify\">On traite d'abord les variables catégorielles.<div> \n",
    "\n"
   ]
  },
  {
   "cell_type": "markdown",
   "id": "5ac0f299",
   "metadata": {},
   "source": [
    "<div style=\"text-align: justify\">On recode en binaire la variable type de bien.<div> \n",
    "\n"
   ]
  },
  {
   "cell_type": "code",
   "execution_count": 29,
   "id": "40b852dc",
   "metadata": {},
   "outputs": [],
   "source": [
    "encoder = LabelEncoder()\n",
    "df[\"type_local\"]=encoder.fit_transform(df[\"type_local\"])"
   ]
  },
  {
   "cell_type": "markdown",
   "id": "a3da2f82",
   "metadata": {},
   "source": [
    "<div style=\"text-align: justify\">On regroupe les biens de plus de 9 pièces afin d'éviter le bruit que ces varibales pourraient engendrer.<div>\n",
    "\n"
   ]
  },
  {
   "cell_type": "code",
   "execution_count": 30,
   "id": "83bbba4f",
   "metadata": {},
   "outputs": [],
   "source": [
    "conditions = [df['nombre_pieces_principales']<9, df['nombre_pieces_principales']>=9]\n",
    "values = [df['nombre_pieces_principales'].values, 'more_than_9']\n",
    "df['nb_pieces'] = np.select(conditions, values)"
   ]
  },
  {
   "cell_type": "markdown",
   "id": "cac2a0a1",
   "metadata": {},
   "source": [
    "<div style=\"text-align: justify\">Pour traiter la date nous avons converti la colonne en datetime puis créé deux nouvelles colonnes contenant l'année de vente et le mois. Nous avons en effet estimé que le jour de vente n'aurait pas réellement d'impact sur l'estimation du prix. Puis nous avons regroupé les mois en demi-trimestres pour gagner en pertinance et regroupé les années antérieures à 2018, jugées anciennes, en une catégorie intitulée 'antérieur_a_2018'. \n",
    "<div> "
   ]
  },
  {
   "cell_type": "code",
   "execution_count": 31,
   "id": "f86166e4",
   "metadata": {},
   "outputs": [],
   "source": [
    "df[\"date_mutation\"]=pd.to_datetime(df[\"date_mutation\"]) \n",
    "df['année'] = df['date_mutation'].dt.year\n",
    "df['mois'] = df['date_mutation'].dt.month\n",
    "df.sort_values('date_mutation', ignore_index=True)\n",
    "\n",
    "# regroupe les mois en trimestre et on trie les années\n",
    "conditions = [df['mois']<4, (df['mois']>=4) & (df['mois']<7), (df['mois']>=7) & (df['mois']<10),df['mois']>=10]\n",
    "choiceliste = ['trimestre_1','trimestre_2','trimestre_3','trimestre_4']\n",
    "df['trimestre'] = np.select(conditions, choiceliste)\n",
    "conditions = [df['année']<2018, df['année']>=2018]\n",
    "choiceliste = ['antérieur_a_2018',df['année'].values]\n",
    "df['année'] = np.select(conditions, choiceliste)"
   ]
  },
  {
   "cell_type": "markdown",
   "id": "c51b07c9",
   "metadata": {},
   "source": [
    "\n",
    "<div style=\"text-align: justify\">Nous avons ensuite encoder ces variables grâce à get_dummies() qui les a converties en indicatrices.<div>\n",
    "\n"
   ]
  },
  {
   "cell_type": "code",
   "execution_count": 32,
   "id": "112a94c9",
   "metadata": {},
   "outputs": [],
   "source": [
    "df_test = pd.get_dummies(df, columns = ['trimestre'])\n",
    "df_annex = pd.get_dummies(df_test, columns = ['année'])\n",
    "df_final = pd.get_dummies(df_annex, columns = ['nb_pieces'])"
   ]
  },
  {
   "cell_type": "markdown",
   "id": "627acabf",
   "metadata": {},
   "source": [
    "<div style=\"text-align: justify\">Création du DataFrame final."
   ]
  },
  {
   "cell_type": "code",
   "execution_count": 33,
   "id": "c34fbcf3",
   "metadata": {},
   "outputs": [
    {
     "data": {
      "text/html": [
       "<div>\n",
       "<style scoped>\n",
       "    .dataframe tbody tr th:only-of-type {\n",
       "        vertical-align: middle;\n",
       "    }\n",
       "\n",
       "    .dataframe tbody tr th {\n",
       "        vertical-align: top;\n",
       "    }\n",
       "\n",
       "    .dataframe thead th {\n",
       "        text-align: right;\n",
       "    }\n",
       "</style>\n",
       "<table border=\"1\" class=\"dataframe\">\n",
       "  <thead>\n",
       "    <tr style=\"text-align: right;\">\n",
       "      <th></th>\n",
       "      <th>valeur_fonciere</th>\n",
       "      <th>type_local</th>\n",
       "      <th>surface_reelle_bati</th>\n",
       "      <th>longitude</th>\n",
       "      <th>latitude</th>\n",
       "      <th>trimestre_trimestre_1</th>\n",
       "      <th>trimestre_trimestre_2</th>\n",
       "      <th>trimestre_trimestre_3</th>\n",
       "      <th>trimestre_trimestre_4</th>\n",
       "      <th>année_2018</th>\n",
       "      <th>...</th>\n",
       "      <th>nb_pieces_0</th>\n",
       "      <th>nb_pieces_1</th>\n",
       "      <th>nb_pieces_2</th>\n",
       "      <th>nb_pieces_3</th>\n",
       "      <th>nb_pieces_4</th>\n",
       "      <th>nb_pieces_5</th>\n",
       "      <th>nb_pieces_6</th>\n",
       "      <th>nb_pieces_7</th>\n",
       "      <th>nb_pieces_8</th>\n",
       "      <th>nb_pieces_more_than_9</th>\n",
       "    </tr>\n",
       "  </thead>\n",
       "  <tbody>\n",
       "    <tr>\n",
       "      <th>0</th>\n",
       "      <td>740000</td>\n",
       "      <td>0</td>\n",
       "      <td>76</td>\n",
       "      <td>2.257874</td>\n",
       "      <td>48.839415</td>\n",
       "      <td>0</td>\n",
       "      <td>1</td>\n",
       "      <td>0</td>\n",
       "      <td>0</td>\n",
       "      <td>0</td>\n",
       "      <td>...</td>\n",
       "      <td>0</td>\n",
       "      <td>0</td>\n",
       "      <td>0</td>\n",
       "      <td>1</td>\n",
       "      <td>0</td>\n",
       "      <td>0</td>\n",
       "      <td>0</td>\n",
       "      <td>0</td>\n",
       "      <td>0</td>\n",
       "      <td>0</td>\n",
       "    </tr>\n",
       "    <tr>\n",
       "      <th>1</th>\n",
       "      <td>598000</td>\n",
       "      <td>0</td>\n",
       "      <td>54</td>\n",
       "      <td>2.260871</td>\n",
       "      <td>48.838515</td>\n",
       "      <td>0</td>\n",
       "      <td>1</td>\n",
       "      <td>0</td>\n",
       "      <td>0</td>\n",
       "      <td>0</td>\n",
       "      <td>...</td>\n",
       "      <td>0</td>\n",
       "      <td>0</td>\n",
       "      <td>1</td>\n",
       "      <td>0</td>\n",
       "      <td>0</td>\n",
       "      <td>0</td>\n",
       "      <td>0</td>\n",
       "      <td>0</td>\n",
       "      <td>0</td>\n",
       "      <td>0</td>\n",
       "    </tr>\n",
       "    <tr>\n",
       "      <th>2</th>\n",
       "      <td>620874</td>\n",
       "      <td>0</td>\n",
       "      <td>85</td>\n",
       "      <td>2.257995</td>\n",
       "      <td>48.837945</td>\n",
       "      <td>0</td>\n",
       "      <td>1</td>\n",
       "      <td>0</td>\n",
       "      <td>0</td>\n",
       "      <td>0</td>\n",
       "      <td>...</td>\n",
       "      <td>0</td>\n",
       "      <td>0</td>\n",
       "      <td>0</td>\n",
       "      <td>1</td>\n",
       "      <td>0</td>\n",
       "      <td>0</td>\n",
       "      <td>0</td>\n",
       "      <td>0</td>\n",
       "      <td>0</td>\n",
       "      <td>0</td>\n",
       "    </tr>\n",
       "    <tr>\n",
       "      <th>3</th>\n",
       "      <td>230000</td>\n",
       "      <td>0</td>\n",
       "      <td>30</td>\n",
       "      <td>2.260568</td>\n",
       "      <td>48.838470</td>\n",
       "      <td>0</td>\n",
       "      <td>1</td>\n",
       "      <td>0</td>\n",
       "      <td>0</td>\n",
       "      <td>0</td>\n",
       "      <td>...</td>\n",
       "      <td>0</td>\n",
       "      <td>0</td>\n",
       "      <td>1</td>\n",
       "      <td>0</td>\n",
       "      <td>0</td>\n",
       "      <td>0</td>\n",
       "      <td>0</td>\n",
       "      <td>0</td>\n",
       "      <td>0</td>\n",
       "      <td>0</td>\n",
       "    </tr>\n",
       "    <tr>\n",
       "      <th>4</th>\n",
       "      <td>1380000</td>\n",
       "      <td>0</td>\n",
       "      <td>141</td>\n",
       "      <td>2.256915</td>\n",
       "      <td>48.839126</td>\n",
       "      <td>0</td>\n",
       "      <td>1</td>\n",
       "      <td>0</td>\n",
       "      <td>0</td>\n",
       "      <td>0</td>\n",
       "      <td>...</td>\n",
       "      <td>0</td>\n",
       "      <td>0</td>\n",
       "      <td>0</td>\n",
       "      <td>0</td>\n",
       "      <td>0</td>\n",
       "      <td>1</td>\n",
       "      <td>0</td>\n",
       "      <td>0</td>\n",
       "      <td>0</td>\n",
       "      <td>0</td>\n",
       "    </tr>\n",
       "  </tbody>\n",
       "</table>\n",
       "<p>5 rows × 25 columns</p>\n",
       "</div>"
      ],
      "text/plain": [
       "   valeur_fonciere  type_local  surface_reelle_bati  longitude   latitude  \\\n",
       "0           740000           0                   76   2.257874  48.839415   \n",
       "1           598000           0                   54   2.260871  48.838515   \n",
       "2           620874           0                   85   2.257995  48.837945   \n",
       "3           230000           0                   30   2.260568  48.838470   \n",
       "4          1380000           0                  141   2.256915  48.839126   \n",
       "\n",
       "   trimestre_trimestre_1  trimestre_trimestre_2  trimestre_trimestre_3  \\\n",
       "0                      0                      1                      0   \n",
       "1                      0                      1                      0   \n",
       "2                      0                      1                      0   \n",
       "3                      0                      1                      0   \n",
       "4                      0                      1                      0   \n",
       "\n",
       "   trimestre_trimestre_4  année_2018  ...  nb_pieces_0  nb_pieces_1  \\\n",
       "0                      0           0  ...            0            0   \n",
       "1                      0           0  ...            0            0   \n",
       "2                      0           0  ...            0            0   \n",
       "3                      0           0  ...            0            0   \n",
       "4                      0           0  ...            0            0   \n",
       "\n",
       "   nb_pieces_2  nb_pieces_3  nb_pieces_4  nb_pieces_5  nb_pieces_6  \\\n",
       "0            0            1            0            0            0   \n",
       "1            1            0            0            0            0   \n",
       "2            0            1            0            0            0   \n",
       "3            1            0            0            0            0   \n",
       "4            0            0            0            1            0   \n",
       "\n",
       "   nb_pieces_7  nb_pieces_8  nb_pieces_more_than_9  \n",
       "0            0            0                      0  \n",
       "1            0            0                      0  \n",
       "2            0            0                      0  \n",
       "3            0            0                      0  \n",
       "4            0            0                      0  \n",
       "\n",
       "[5 rows x 25 columns]"
      ]
     },
     "execution_count": 33,
     "metadata": {},
     "output_type": "execute_result"
    }
   ],
   "source": [
    "df_new =pd.DataFrame(df_final)\n",
    "new_list = ['date_mutation','nombre_pieces_principales','mois']\n",
    "df_new=df_new.drop(new_list,axis=1)\n",
    "df_new.head()"
   ]
  },
  {
   "cell_type": "markdown",
   "id": "91968088",
   "metadata": {},
   "source": [
    "<div style=\"text-align: justify\">On crée les bases features et cibles puis on sépare aléatoirement les bases train et test avec comme proportion 80-20.<div>"
   ]
  },
  {
   "cell_type": "code",
   "execution_count": 34,
   "id": "a64c6c4b",
   "metadata": {},
   "outputs": [],
   "source": [
    "Y = pd.DataFrame(df_new[\"valeur_fonciere\"])\n",
    "X = df_new.drop(\"valeur_fonciere\", axis=1)\n",
    "X_train,X_test,Y_train,Y_test=train_test_split(X,Y,test_size=0.2,random_state=11)"
   ]
  },
  {
   "cell_type": "markdown",
   "id": "d5da0d7a",
   "metadata": {},
   "source": [
    "<div style=\"text-align: justify\">On chosisit de réindexer les dataframe afin d'éviter que la réinsersion des colonnes de new_list standardisée pose problème.<div> "
   ]
  },
  {
   "cell_type": "code",
   "execution_count": 35,
   "id": "361543a8",
   "metadata": {},
   "outputs": [
    {
     "data": {
      "text/html": [
       "<div>\n",
       "<style scoped>\n",
       "    .dataframe tbody tr th:only-of-type {\n",
       "        vertical-align: middle;\n",
       "    }\n",
       "\n",
       "    .dataframe tbody tr th {\n",
       "        vertical-align: top;\n",
       "    }\n",
       "\n",
       "    .dataframe thead th {\n",
       "        text-align: right;\n",
       "    }\n",
       "</style>\n",
       "<table border=\"1\" class=\"dataframe\">\n",
       "  <thead>\n",
       "    <tr style=\"text-align: right;\">\n",
       "      <th></th>\n",
       "      <th>type_local</th>\n",
       "      <th>surface_reelle_bati</th>\n",
       "      <th>longitude</th>\n",
       "      <th>latitude</th>\n",
       "      <th>trimestre_trimestre_1</th>\n",
       "      <th>trimestre_trimestre_2</th>\n",
       "      <th>trimestre_trimestre_3</th>\n",
       "      <th>trimestre_trimestre_4</th>\n",
       "      <th>année_2018</th>\n",
       "      <th>année_2019</th>\n",
       "      <th>...</th>\n",
       "      <th>nb_pieces_0</th>\n",
       "      <th>nb_pieces_1</th>\n",
       "      <th>nb_pieces_2</th>\n",
       "      <th>nb_pieces_3</th>\n",
       "      <th>nb_pieces_4</th>\n",
       "      <th>nb_pieces_5</th>\n",
       "      <th>nb_pieces_6</th>\n",
       "      <th>nb_pieces_7</th>\n",
       "      <th>nb_pieces_8</th>\n",
       "      <th>nb_pieces_more_than_9</th>\n",
       "    </tr>\n",
       "  </thead>\n",
       "  <tbody>\n",
       "    <tr>\n",
       "      <th>0</th>\n",
       "      <td>0</td>\n",
       "      <td>14</td>\n",
       "      <td>2.257874</td>\n",
       "      <td>48.839415</td>\n",
       "      <td>0</td>\n",
       "      <td>0</td>\n",
       "      <td>0</td>\n",
       "      <td>1</td>\n",
       "      <td>0</td>\n",
       "      <td>0</td>\n",
       "      <td>...</td>\n",
       "      <td>0</td>\n",
       "      <td>1</td>\n",
       "      <td>0</td>\n",
       "      <td>0</td>\n",
       "      <td>0</td>\n",
       "      <td>0</td>\n",
       "      <td>0</td>\n",
       "      <td>0</td>\n",
       "      <td>0</td>\n",
       "      <td>0</td>\n",
       "    </tr>\n",
       "    <tr>\n",
       "      <th>1</th>\n",
       "      <td>0</td>\n",
       "      <td>33</td>\n",
       "      <td>2.388017</td>\n",
       "      <td>48.887784</td>\n",
       "      <td>0</td>\n",
       "      <td>1</td>\n",
       "      <td>0</td>\n",
       "      <td>0</td>\n",
       "      <td>0</td>\n",
       "      <td>0</td>\n",
       "      <td>...</td>\n",
       "      <td>0</td>\n",
       "      <td>1</td>\n",
       "      <td>0</td>\n",
       "      <td>0</td>\n",
       "      <td>0</td>\n",
       "      <td>0</td>\n",
       "      <td>0</td>\n",
       "      <td>0</td>\n",
       "      <td>0</td>\n",
       "      <td>0</td>\n",
       "    </tr>\n",
       "    <tr>\n",
       "      <th>2</th>\n",
       "      <td>0</td>\n",
       "      <td>30</td>\n",
       "      <td>2.320229</td>\n",
       "      <td>48.886575</td>\n",
       "      <td>0</td>\n",
       "      <td>1</td>\n",
       "      <td>0</td>\n",
       "      <td>0</td>\n",
       "      <td>0</td>\n",
       "      <td>0</td>\n",
       "      <td>...</td>\n",
       "      <td>0</td>\n",
       "      <td>1</td>\n",
       "      <td>0</td>\n",
       "      <td>0</td>\n",
       "      <td>0</td>\n",
       "      <td>0</td>\n",
       "      <td>0</td>\n",
       "      <td>0</td>\n",
       "      <td>0</td>\n",
       "      <td>0</td>\n",
       "    </tr>\n",
       "    <tr>\n",
       "      <th>3</th>\n",
       "      <td>0</td>\n",
       "      <td>40</td>\n",
       "      <td>2.405096</td>\n",
       "      <td>48.847194</td>\n",
       "      <td>0</td>\n",
       "      <td>1</td>\n",
       "      <td>0</td>\n",
       "      <td>0</td>\n",
       "      <td>0</td>\n",
       "      <td>0</td>\n",
       "      <td>...</td>\n",
       "      <td>0</td>\n",
       "      <td>0</td>\n",
       "      <td>1</td>\n",
       "      <td>0</td>\n",
       "      <td>0</td>\n",
       "      <td>0</td>\n",
       "      <td>0</td>\n",
       "      <td>0</td>\n",
       "      <td>0</td>\n",
       "      <td>0</td>\n",
       "    </tr>\n",
       "    <tr>\n",
       "      <th>4</th>\n",
       "      <td>0</td>\n",
       "      <td>26</td>\n",
       "      <td>2.296519</td>\n",
       "      <td>48.835836</td>\n",
       "      <td>0</td>\n",
       "      <td>0</td>\n",
       "      <td>1</td>\n",
       "      <td>0</td>\n",
       "      <td>0</td>\n",
       "      <td>0</td>\n",
       "      <td>...</td>\n",
       "      <td>0</td>\n",
       "      <td>0</td>\n",
       "      <td>1</td>\n",
       "      <td>0</td>\n",
       "      <td>0</td>\n",
       "      <td>0</td>\n",
       "      <td>0</td>\n",
       "      <td>0</td>\n",
       "      <td>0</td>\n",
       "      <td>0</td>\n",
       "    </tr>\n",
       "  </tbody>\n",
       "</table>\n",
       "<p>5 rows × 24 columns</p>\n",
       "</div>"
      ],
      "text/plain": [
       "   type_local  surface_reelle_bati  longitude   latitude  \\\n",
       "0           0                   14   2.257874  48.839415   \n",
       "1           0                   33   2.388017  48.887784   \n",
       "2           0                   30   2.320229  48.886575   \n",
       "3           0                   40   2.405096  48.847194   \n",
       "4           0                   26   2.296519  48.835836   \n",
       "\n",
       "   trimestre_trimestre_1  trimestre_trimestre_2  trimestre_trimestre_3  \\\n",
       "0                      0                      0                      0   \n",
       "1                      0                      1                      0   \n",
       "2                      0                      1                      0   \n",
       "3                      0                      1                      0   \n",
       "4                      0                      0                      1   \n",
       "\n",
       "   trimestre_trimestre_4  année_2018  année_2019  ...  nb_pieces_0  \\\n",
       "0                      1           0           0  ...            0   \n",
       "1                      0           0           0  ...            0   \n",
       "2                      0           0           0  ...            0   \n",
       "3                      0           0           0  ...            0   \n",
       "4                      0           0           0  ...            0   \n",
       "\n",
       "   nb_pieces_1  nb_pieces_2  nb_pieces_3  nb_pieces_4  nb_pieces_5  \\\n",
       "0            1            0            0            0            0   \n",
       "1            1            0            0            0            0   \n",
       "2            1            0            0            0            0   \n",
       "3            0            1            0            0            0   \n",
       "4            0            1            0            0            0   \n",
       "\n",
       "   nb_pieces_6  nb_pieces_7  nb_pieces_8  nb_pieces_more_than_9  \n",
       "0            0            0            0                      0  \n",
       "1            0            0            0                      0  \n",
       "2            0            0            0                      0  \n",
       "3            0            0            0                      0  \n",
       "4            0            0            0                      0  \n",
       "\n",
       "[5 rows x 24 columns]"
      ]
     },
     "execution_count": 35,
     "metadata": {},
     "output_type": "execute_result"
    }
   ],
   "source": [
    "X_train = X_train.reset_index(drop = True)\n",
    "X_test = X_test.reset_index(drop = True)\n",
    "Y_train = Y_train.reset_index(drop = True)\n",
    "Y_test = Y_test.reset_index(drop = True)\n",
    "X_train.head()"
   ]
  },
  {
   "cell_type": "code",
   "execution_count": 36,
   "id": "8a537fd1",
   "metadata": {},
   "outputs": [
    {
     "data": {
      "text/html": [
       "<div>\n",
       "<style scoped>\n",
       "    .dataframe tbody tr th:only-of-type {\n",
       "        vertical-align: middle;\n",
       "    }\n",
       "\n",
       "    .dataframe tbody tr th {\n",
       "        vertical-align: top;\n",
       "    }\n",
       "\n",
       "    .dataframe thead th {\n",
       "        text-align: right;\n",
       "    }\n",
       "</style>\n",
       "<table border=\"1\" class=\"dataframe\">\n",
       "  <thead>\n",
       "    <tr style=\"text-align: right;\">\n",
       "      <th></th>\n",
       "      <th>valeur_fonciere</th>\n",
       "    </tr>\n",
       "  </thead>\n",
       "  <tbody>\n",
       "    <tr>\n",
       "      <th>0</th>\n",
       "      <td>188000</td>\n",
       "    </tr>\n",
       "    <tr>\n",
       "      <th>1</th>\n",
       "      <td>238550</td>\n",
       "    </tr>\n",
       "    <tr>\n",
       "      <th>2</th>\n",
       "      <td>360700</td>\n",
       "    </tr>\n",
       "    <tr>\n",
       "      <th>3</th>\n",
       "      <td>369000</td>\n",
       "    </tr>\n",
       "    <tr>\n",
       "      <th>4</th>\n",
       "      <td>267000</td>\n",
       "    </tr>\n",
       "  </tbody>\n",
       "</table>\n",
       "</div>"
      ],
      "text/plain": [
       "   valeur_fonciere\n",
       "0           188000\n",
       "1           238550\n",
       "2           360700\n",
       "3           369000\n",
       "4           267000"
      ]
     },
     "execution_count": 36,
     "metadata": {},
     "output_type": "execute_result"
    }
   ],
   "source": [
    "Y_train.head()"
   ]
  },
  {
   "cell_type": "markdown",
   "id": "9b82a435",
   "metadata": {},
   "source": [
    "<div style=\"text-align: justify\">On retire du dataframe X_train les variables continues pour les standardiser."
   ]
  },
  {
   "cell_type": "code",
   "execution_count": 37,
   "id": "3b4ab915",
   "metadata": {},
   "outputs": [],
   "source": [
    "liste_annexe = ['surface_reelle_bati', 'latitude', 'longitude']\n",
    "df_continu = X_train[liste_annexe]\n",
    "df_continu_test = X_test[liste_annexe]"
   ]
  },
  {
   "cell_type": "markdown",
   "id": "427c4ff9",
   "metadata": {},
   "source": [
    "<div style=\"text-align: justify\">On utilise 3 Standardisateurs différents qu'on va tester pour savoir lequel est plus adapté à chaque modèle.<div> "
   ]
  },
  {
   "cell_type": "code",
   "execution_count": 38,
   "id": "0459962e",
   "metadata": {},
   "outputs": [],
   "source": [
    "sc = StandardScaler()\n",
    "rs = RobustScaler()\n",
    "minmax = MinMaxScaler()"
   ]
  },
  {
   "cell_type": "markdown",
   "id": "7d830ccf",
   "metadata": {},
   "source": [
    "<div style=\"text-align: justify\">On standardise les variables continues dans les bases train et test selon les 3 standardisateurs choisis.<div> "
   ]
  },
  {
   "cell_type": "code",
   "execution_count": 39,
   "id": "94e87d95",
   "metadata": {},
   "outputs": [],
   "source": [
    "scale = sc.fit_transform(df_continu)\n",
    "df_scale = pd.DataFrame(scale, columns = liste_annexe)\n",
    "scale_test = sc.transform(df_continu_test)\n",
    "df_scale_test = pd.DataFrame(scale_test, columns = liste_annexe)\n",
    "\n",
    "robust = rs.fit_transform(df_continu)\n",
    "df_robust = pd.DataFrame(robust, columns = liste_annexe)\n",
    "robust_test = rs.transform(df_continu_test)\n",
    "df_robust_test = pd.DataFrame(robust_test, columns = liste_annexe)\n",
    "\n",
    "MinMax = minmax.fit_transform(df_continu)\n",
    "df_MinMax = pd.DataFrame(MinMax, columns = liste_annexe)\n",
    "MinMax_test = minmax.transform(df_continu_test)\n",
    "df_MinMax_test = pd.DataFrame(MinMax_test, columns = liste_annexe)"
   ]
  },
  {
   "cell_type": "markdown",
   "id": "81c60533",
   "metadata": {},
   "source": [
    "<div style=\"text-align: justify\">On termine de construire nos bases finales standardisées selon les trois estimateurs.<div> "
   ]
  },
  {
   "cell_type": "code",
   "execution_count": 40,
   "id": "0bc7aa25",
   "metadata": {},
   "outputs": [],
   "source": [
    "X_train_st = X_train.copy()\n",
    "X_train_rob = X_train.copy()\n",
    "X_train_mm = X_train.copy()\n",
    "\n",
    "X_test_st = X_test.copy()\n",
    "X_test_rob = X_test.copy()\n",
    "X_test_mm = X_test.copy()\n",
    "\n",
    "for col in liste_annexe:\n",
    "    X_train_st[col] = df_scale[col]\n",
    "    X_test_st[col] = df_scale_test[col]\n",
    "    \n",
    "for col in liste_annexe:\n",
    "    X_train_rob[col] = df_robust[col]\n",
    "    X_test_rob[col] = df_robust_test[col]\n",
    "    \n",
    "for col in liste_annexe:\n",
    "    X_train_mm[col] = df_MinMax[col]\n",
    "    X_test_mm[col] = df_MinMax_test[col]"
   ]
  },
  {
   "cell_type": "code",
   "execution_count": 41,
   "id": "b8b8db99",
   "metadata": {},
   "outputs": [
    {
     "data": {
      "text/html": [
       "<div>\n",
       "<style scoped>\n",
       "    .dataframe tbody tr th:only-of-type {\n",
       "        vertical-align: middle;\n",
       "    }\n",
       "\n",
       "    .dataframe tbody tr th {\n",
       "        vertical-align: top;\n",
       "    }\n",
       "\n",
       "    .dataframe thead th {\n",
       "        text-align: right;\n",
       "    }\n",
       "</style>\n",
       "<table border=\"1\" class=\"dataframe\">\n",
       "  <thead>\n",
       "    <tr style=\"text-align: right;\">\n",
       "      <th></th>\n",
       "      <th>type_local</th>\n",
       "      <th>surface_reelle_bati</th>\n",
       "      <th>longitude</th>\n",
       "      <th>latitude</th>\n",
       "      <th>trimestre_trimestre_1</th>\n",
       "      <th>trimestre_trimestre_2</th>\n",
       "      <th>trimestre_trimestre_3</th>\n",
       "      <th>trimestre_trimestre_4</th>\n",
       "      <th>année_2018</th>\n",
       "      <th>année_2019</th>\n",
       "      <th>...</th>\n",
       "      <th>nb_pieces_0</th>\n",
       "      <th>nb_pieces_1</th>\n",
       "      <th>nb_pieces_2</th>\n",
       "      <th>nb_pieces_3</th>\n",
       "      <th>nb_pieces_4</th>\n",
       "      <th>nb_pieces_5</th>\n",
       "      <th>nb_pieces_6</th>\n",
       "      <th>nb_pieces_7</th>\n",
       "      <th>nb_pieces_8</th>\n",
       "      <th>nb_pieces_more_than_9</th>\n",
       "    </tr>\n",
       "  </thead>\n",
       "  <tbody>\n",
       "    <tr>\n",
       "      <th>0</th>\n",
       "      <td>0</td>\n",
       "      <td>-1.076582</td>\n",
       "      <td>-0.988423</td>\n",
       "      <td>-0.718816</td>\n",
       "      <td>0</td>\n",
       "      <td>0</td>\n",
       "      <td>0</td>\n",
       "      <td>1</td>\n",
       "      <td>0</td>\n",
       "      <td>0</td>\n",
       "      <td>...</td>\n",
       "      <td>0</td>\n",
       "      <td>1</td>\n",
       "      <td>0</td>\n",
       "      <td>0</td>\n",
       "      <td>0</td>\n",
       "      <td>0</td>\n",
       "      <td>0</td>\n",
       "      <td>0</td>\n",
       "      <td>0</td>\n",
       "      <td>0</td>\n",
       "    </tr>\n",
       "    <tr>\n",
       "      <th>1</th>\n",
       "      <td>0</td>\n",
       "      <td>-0.576105</td>\n",
       "      <td>0.600100</td>\n",
       "      <td>1.049925</td>\n",
       "      <td>0</td>\n",
       "      <td>1</td>\n",
       "      <td>0</td>\n",
       "      <td>0</td>\n",
       "      <td>0</td>\n",
       "      <td>0</td>\n",
       "      <td>...</td>\n",
       "      <td>0</td>\n",
       "      <td>1</td>\n",
       "      <td>0</td>\n",
       "      <td>0</td>\n",
       "      <td>0</td>\n",
       "      <td>0</td>\n",
       "      <td>0</td>\n",
       "      <td>0</td>\n",
       "      <td>0</td>\n",
       "      <td>0</td>\n",
       "    </tr>\n",
       "    <tr>\n",
       "      <th>2</th>\n",
       "      <td>0</td>\n",
       "      <td>-0.655128</td>\n",
       "      <td>-0.227322</td>\n",
       "      <td>1.005729</td>\n",
       "      <td>0</td>\n",
       "      <td>1</td>\n",
       "      <td>0</td>\n",
       "      <td>0</td>\n",
       "      <td>0</td>\n",
       "      <td>0</td>\n",
       "      <td>...</td>\n",
       "      <td>0</td>\n",
       "      <td>1</td>\n",
       "      <td>0</td>\n",
       "      <td>0</td>\n",
       "      <td>0</td>\n",
       "      <td>0</td>\n",
       "      <td>0</td>\n",
       "      <td>0</td>\n",
       "      <td>0</td>\n",
       "      <td>0</td>\n",
       "    </tr>\n",
       "    <tr>\n",
       "      <th>3</th>\n",
       "      <td>0</td>\n",
       "      <td>-0.391719</td>\n",
       "      <td>0.808555</td>\n",
       "      <td>-0.434338</td>\n",
       "      <td>0</td>\n",
       "      <td>1</td>\n",
       "      <td>0</td>\n",
       "      <td>0</td>\n",
       "      <td>0</td>\n",
       "      <td>0</td>\n",
       "      <td>...</td>\n",
       "      <td>0</td>\n",
       "      <td>0</td>\n",
       "      <td>1</td>\n",
       "      <td>0</td>\n",
       "      <td>0</td>\n",
       "      <td>0</td>\n",
       "      <td>0</td>\n",
       "      <td>0</td>\n",
       "      <td>0</td>\n",
       "      <td>0</td>\n",
       "    </tr>\n",
       "    <tr>\n",
       "      <th>4</th>\n",
       "      <td>0</td>\n",
       "      <td>-0.760491</td>\n",
       "      <td>-0.516722</td>\n",
       "      <td>-0.849696</td>\n",
       "      <td>0</td>\n",
       "      <td>0</td>\n",
       "      <td>1</td>\n",
       "      <td>0</td>\n",
       "      <td>0</td>\n",
       "      <td>0</td>\n",
       "      <td>...</td>\n",
       "      <td>0</td>\n",
       "      <td>0</td>\n",
       "      <td>1</td>\n",
       "      <td>0</td>\n",
       "      <td>0</td>\n",
       "      <td>0</td>\n",
       "      <td>0</td>\n",
       "      <td>0</td>\n",
       "      <td>0</td>\n",
       "      <td>0</td>\n",
       "    </tr>\n",
       "  </tbody>\n",
       "</table>\n",
       "<p>5 rows × 24 columns</p>\n",
       "</div>"
      ],
      "text/plain": [
       "   type_local  surface_reelle_bati  longitude  latitude  \\\n",
       "0           0            -1.076582  -0.988423 -0.718816   \n",
       "1           0            -0.576105   0.600100  1.049925   \n",
       "2           0            -0.655128  -0.227322  1.005729   \n",
       "3           0            -0.391719   0.808555 -0.434338   \n",
       "4           0            -0.760491  -0.516722 -0.849696   \n",
       "\n",
       "   trimestre_trimestre_1  trimestre_trimestre_2  trimestre_trimestre_3  \\\n",
       "0                      0                      0                      0   \n",
       "1                      0                      1                      0   \n",
       "2                      0                      1                      0   \n",
       "3                      0                      1                      0   \n",
       "4                      0                      0                      1   \n",
       "\n",
       "   trimestre_trimestre_4  année_2018  année_2019  ...  nb_pieces_0  \\\n",
       "0                      1           0           0  ...            0   \n",
       "1                      0           0           0  ...            0   \n",
       "2                      0           0           0  ...            0   \n",
       "3                      0           0           0  ...            0   \n",
       "4                      0           0           0  ...            0   \n",
       "\n",
       "   nb_pieces_1  nb_pieces_2  nb_pieces_3  nb_pieces_4  nb_pieces_5  \\\n",
       "0            1            0            0            0            0   \n",
       "1            1            0            0            0            0   \n",
       "2            1            0            0            0            0   \n",
       "3            0            1            0            0            0   \n",
       "4            0            1            0            0            0   \n",
       "\n",
       "   nb_pieces_6  nb_pieces_7  nb_pieces_8  nb_pieces_more_than_9  \n",
       "0            0            0            0                      0  \n",
       "1            0            0            0                      0  \n",
       "2            0            0            0                      0  \n",
       "3            0            0            0                      0  \n",
       "4            0            0            0                      0  \n",
       "\n",
       "[5 rows x 24 columns]"
      ]
     },
     "execution_count": 41,
     "metadata": {},
     "output_type": "execute_result"
    }
   ],
   "source": [
    "X_train_st.head()"
   ]
  },
  {
   "cell_type": "code",
   "execution_count": 42,
   "id": "ac62eac2",
   "metadata": {},
   "outputs": [
    {
     "data": {
      "text/html": [
       "<div>\n",
       "<style scoped>\n",
       "    .dataframe tbody tr th:only-of-type {\n",
       "        vertical-align: middle;\n",
       "    }\n",
       "\n",
       "    .dataframe tbody tr th {\n",
       "        vertical-align: top;\n",
       "    }\n",
       "\n",
       "    .dataframe thead th {\n",
       "        text-align: right;\n",
       "    }\n",
       "</style>\n",
       "<table border=\"1\" class=\"dataframe\">\n",
       "  <thead>\n",
       "    <tr style=\"text-align: right;\">\n",
       "      <th></th>\n",
       "      <th>type_local</th>\n",
       "      <th>surface_reelle_bati</th>\n",
       "      <th>longitude</th>\n",
       "      <th>latitude</th>\n",
       "      <th>trimestre_trimestre_1</th>\n",
       "      <th>trimestre_trimestre_2</th>\n",
       "      <th>trimestre_trimestre_3</th>\n",
       "      <th>trimestre_trimestre_4</th>\n",
       "      <th>année_2018</th>\n",
       "      <th>année_2019</th>\n",
       "      <th>...</th>\n",
       "      <th>nb_pieces_0</th>\n",
       "      <th>nb_pieces_1</th>\n",
       "      <th>nb_pieces_2</th>\n",
       "      <th>nb_pieces_3</th>\n",
       "      <th>nb_pieces_4</th>\n",
       "      <th>nb_pieces_5</th>\n",
       "      <th>nb_pieces_6</th>\n",
       "      <th>nb_pieces_7</th>\n",
       "      <th>nb_pieces_8</th>\n",
       "      <th>nb_pieces_more_than_9</th>\n",
       "    </tr>\n",
       "  </thead>\n",
       "  <tbody>\n",
       "    <tr>\n",
       "      <th>0</th>\n",
       "      <td>0</td>\n",
       "      <td>-0.714286</td>\n",
       "      <td>-1.845890</td>\n",
       "      <td>-0.827491</td>\n",
       "      <td>0</td>\n",
       "      <td>0</td>\n",
       "      <td>0</td>\n",
       "      <td>1</td>\n",
       "      <td>0</td>\n",
       "      <td>0</td>\n",
       "      <td>...</td>\n",
       "      <td>0</td>\n",
       "      <td>1</td>\n",
       "      <td>0</td>\n",
       "      <td>0</td>\n",
       "      <td>0</td>\n",
       "      <td>0</td>\n",
       "      <td>0</td>\n",
       "      <td>0</td>\n",
       "      <td>0</td>\n",
       "      <td>0</td>\n",
       "    </tr>\n",
       "    <tr>\n",
       "      <th>1</th>\n",
       "      <td>0</td>\n",
       "      <td>-0.261905</td>\n",
       "      <td>0.891820</td>\n",
       "      <td>1.172621</td>\n",
       "      <td>0</td>\n",
       "      <td>1</td>\n",
       "      <td>0</td>\n",
       "      <td>0</td>\n",
       "      <td>0</td>\n",
       "      <td>0</td>\n",
       "      <td>...</td>\n",
       "      <td>0</td>\n",
       "      <td>1</td>\n",
       "      <td>0</td>\n",
       "      <td>0</td>\n",
       "      <td>0</td>\n",
       "      <td>0</td>\n",
       "      <td>0</td>\n",
       "      <td>0</td>\n",
       "      <td>0</td>\n",
       "      <td>0</td>\n",
       "    </tr>\n",
       "    <tr>\n",
       "      <th>2</th>\n",
       "      <td>0</td>\n",
       "      <td>-0.333333</td>\n",
       "      <td>-0.534185</td>\n",
       "      <td>1.122643</td>\n",
       "      <td>0</td>\n",
       "      <td>1</td>\n",
       "      <td>0</td>\n",
       "      <td>0</td>\n",
       "      <td>0</td>\n",
       "      <td>0</td>\n",
       "      <td>...</td>\n",
       "      <td>0</td>\n",
       "      <td>1</td>\n",
       "      <td>0</td>\n",
       "      <td>0</td>\n",
       "      <td>0</td>\n",
       "      <td>0</td>\n",
       "      <td>0</td>\n",
       "      <td>0</td>\n",
       "      <td>0</td>\n",
       "      <td>0</td>\n",
       "    </tr>\n",
       "    <tr>\n",
       "      <th>3</th>\n",
       "      <td>0</td>\n",
       "      <td>-0.095238</td>\n",
       "      <td>1.251078</td>\n",
       "      <td>-0.505800</td>\n",
       "      <td>0</td>\n",
       "      <td>1</td>\n",
       "      <td>0</td>\n",
       "      <td>0</td>\n",
       "      <td>0</td>\n",
       "      <td>0</td>\n",
       "      <td>...</td>\n",
       "      <td>0</td>\n",
       "      <td>0</td>\n",
       "      <td>1</td>\n",
       "      <td>0</td>\n",
       "      <td>0</td>\n",
       "      <td>0</td>\n",
       "      <td>0</td>\n",
       "      <td>0</td>\n",
       "      <td>0</td>\n",
       "      <td>0</td>\n",
       "    </tr>\n",
       "    <tr>\n",
       "      <th>4</th>\n",
       "      <td>0</td>\n",
       "      <td>-0.428571</td>\n",
       "      <td>-1.032947</td>\n",
       "      <td>-0.975491</td>\n",
       "      <td>0</td>\n",
       "      <td>0</td>\n",
       "      <td>1</td>\n",
       "      <td>0</td>\n",
       "      <td>0</td>\n",
       "      <td>0</td>\n",
       "      <td>...</td>\n",
       "      <td>0</td>\n",
       "      <td>0</td>\n",
       "      <td>1</td>\n",
       "      <td>0</td>\n",
       "      <td>0</td>\n",
       "      <td>0</td>\n",
       "      <td>0</td>\n",
       "      <td>0</td>\n",
       "      <td>0</td>\n",
       "      <td>0</td>\n",
       "    </tr>\n",
       "  </tbody>\n",
       "</table>\n",
       "<p>5 rows × 24 columns</p>\n",
       "</div>"
      ],
      "text/plain": [
       "   type_local  surface_reelle_bati  longitude  latitude  \\\n",
       "0           0            -0.714286  -1.845890 -0.827491   \n",
       "1           0            -0.261905   0.891820  1.172621   \n",
       "2           0            -0.333333  -0.534185  1.122643   \n",
       "3           0            -0.095238   1.251078 -0.505800   \n",
       "4           0            -0.428571  -1.032947 -0.975491   \n",
       "\n",
       "   trimestre_trimestre_1  trimestre_trimestre_2  trimestre_trimestre_3  \\\n",
       "0                      0                      0                      0   \n",
       "1                      0                      1                      0   \n",
       "2                      0                      1                      0   \n",
       "3                      0                      1                      0   \n",
       "4                      0                      0                      1   \n",
       "\n",
       "   trimestre_trimestre_4  année_2018  année_2019  ...  nb_pieces_0  \\\n",
       "0                      1           0           0  ...            0   \n",
       "1                      0           0           0  ...            0   \n",
       "2                      0           0           0  ...            0   \n",
       "3                      0           0           0  ...            0   \n",
       "4                      0           0           0  ...            0   \n",
       "\n",
       "   nb_pieces_1  nb_pieces_2  nb_pieces_3  nb_pieces_4  nb_pieces_5  \\\n",
       "0            1            0            0            0            0   \n",
       "1            1            0            0            0            0   \n",
       "2            1            0            0            0            0   \n",
       "3            0            1            0            0            0   \n",
       "4            0            1            0            0            0   \n",
       "\n",
       "   nb_pieces_6  nb_pieces_7  nb_pieces_8  nb_pieces_more_than_9  \n",
       "0            0            0            0                      0  \n",
       "1            0            0            0                      0  \n",
       "2            0            0            0                      0  \n",
       "3            0            0            0                      0  \n",
       "4            0            0            0                      0  \n",
       "\n",
       "[5 rows x 24 columns]"
      ]
     },
     "execution_count": 42,
     "metadata": {},
     "output_type": "execute_result"
    }
   ],
   "source": [
    "X_train_rob.head()"
   ]
  },
  {
   "cell_type": "code",
   "execution_count": 43,
   "id": "d2742322",
   "metadata": {},
   "outputs": [
    {
     "data": {
      "text/html": [
       "<div>\n",
       "<style scoped>\n",
       "    .dataframe tbody tr th:only-of-type {\n",
       "        vertical-align: middle;\n",
       "    }\n",
       "\n",
       "    .dataframe tbody tr th {\n",
       "        vertical-align: top;\n",
       "    }\n",
       "\n",
       "    .dataframe thead th {\n",
       "        text-align: right;\n",
       "    }\n",
       "</style>\n",
       "<table border=\"1\" class=\"dataframe\">\n",
       "  <thead>\n",
       "    <tr style=\"text-align: right;\">\n",
       "      <th></th>\n",
       "      <th>type_local</th>\n",
       "      <th>surface_reelle_bati</th>\n",
       "      <th>longitude</th>\n",
       "      <th>latitude</th>\n",
       "      <th>trimestre_trimestre_1</th>\n",
       "      <th>trimestre_trimestre_2</th>\n",
       "      <th>trimestre_trimestre_3</th>\n",
       "      <th>trimestre_trimestre_4</th>\n",
       "      <th>année_2018</th>\n",
       "      <th>année_2019</th>\n",
       "      <th>...</th>\n",
       "      <th>nb_pieces_0</th>\n",
       "      <th>nb_pieces_1</th>\n",
       "      <th>nb_pieces_2</th>\n",
       "      <th>nb_pieces_3</th>\n",
       "      <th>nb_pieces_4</th>\n",
       "      <th>nb_pieces_5</th>\n",
       "      <th>nb_pieces_6</th>\n",
       "      <th>nb_pieces_7</th>\n",
       "      <th>nb_pieces_8</th>\n",
       "      <th>nb_pieces_more_than_9</th>\n",
       "    </tr>\n",
       "  </thead>\n",
       "  <tbody>\n",
       "    <tr>\n",
       "      <th>0</th>\n",
       "      <td>0</td>\n",
       "      <td>0.030303</td>\n",
       "      <td>0.963759</td>\n",
       "      <td>0.962856</td>\n",
       "      <td>0</td>\n",
       "      <td>0</td>\n",
       "      <td>0</td>\n",
       "      <td>1</td>\n",
       "      <td>0</td>\n",
       "      <td>0</td>\n",
       "      <td>...</td>\n",
       "      <td>0</td>\n",
       "      <td>1</td>\n",
       "      <td>0</td>\n",
       "      <td>0</td>\n",
       "      <td>0</td>\n",
       "      <td>0</td>\n",
       "      <td>0</td>\n",
       "      <td>0</td>\n",
       "      <td>0</td>\n",
       "      <td>0</td>\n",
       "    </tr>\n",
       "    <tr>\n",
       "      <th>1</th>\n",
       "      <td>0</td>\n",
       "      <td>0.102273</td>\n",
       "      <td>0.990511</td>\n",
       "      <td>0.992434</td>\n",
       "      <td>0</td>\n",
       "      <td>1</td>\n",
       "      <td>0</td>\n",
       "      <td>0</td>\n",
       "      <td>0</td>\n",
       "      <td>0</td>\n",
       "      <td>...</td>\n",
       "      <td>0</td>\n",
       "      <td>1</td>\n",
       "      <td>0</td>\n",
       "      <td>0</td>\n",
       "      <td>0</td>\n",
       "      <td>0</td>\n",
       "      <td>0</td>\n",
       "      <td>0</td>\n",
       "      <td>0</td>\n",
       "      <td>0</td>\n",
       "    </tr>\n",
       "    <tr>\n",
       "      <th>2</th>\n",
       "      <td>0</td>\n",
       "      <td>0.090909</td>\n",
       "      <td>0.976577</td>\n",
       "      <td>0.991695</td>\n",
       "      <td>0</td>\n",
       "      <td>1</td>\n",
       "      <td>0</td>\n",
       "      <td>0</td>\n",
       "      <td>0</td>\n",
       "      <td>0</td>\n",
       "      <td>...</td>\n",
       "      <td>0</td>\n",
       "      <td>1</td>\n",
       "      <td>0</td>\n",
       "      <td>0</td>\n",
       "      <td>0</td>\n",
       "      <td>0</td>\n",
       "      <td>0</td>\n",
       "      <td>0</td>\n",
       "      <td>0</td>\n",
       "      <td>0</td>\n",
       "    </tr>\n",
       "    <tr>\n",
       "      <th>3</th>\n",
       "      <td>0</td>\n",
       "      <td>0.128788</td>\n",
       "      <td>0.994022</td>\n",
       "      <td>0.967613</td>\n",
       "      <td>0</td>\n",
       "      <td>1</td>\n",
       "      <td>0</td>\n",
       "      <td>0</td>\n",
       "      <td>0</td>\n",
       "      <td>0</td>\n",
       "      <td>...</td>\n",
       "      <td>0</td>\n",
       "      <td>0</td>\n",
       "      <td>1</td>\n",
       "      <td>0</td>\n",
       "      <td>0</td>\n",
       "      <td>0</td>\n",
       "      <td>0</td>\n",
       "      <td>0</td>\n",
       "      <td>0</td>\n",
       "      <td>0</td>\n",
       "    </tr>\n",
       "    <tr>\n",
       "      <th>4</th>\n",
       "      <td>0</td>\n",
       "      <td>0.075758</td>\n",
       "      <td>0.971703</td>\n",
       "      <td>0.960667</td>\n",
       "      <td>0</td>\n",
       "      <td>0</td>\n",
       "      <td>1</td>\n",
       "      <td>0</td>\n",
       "      <td>0</td>\n",
       "      <td>0</td>\n",
       "      <td>...</td>\n",
       "      <td>0</td>\n",
       "      <td>0</td>\n",
       "      <td>1</td>\n",
       "      <td>0</td>\n",
       "      <td>0</td>\n",
       "      <td>0</td>\n",
       "      <td>0</td>\n",
       "      <td>0</td>\n",
       "      <td>0</td>\n",
       "      <td>0</td>\n",
       "    </tr>\n",
       "  </tbody>\n",
       "</table>\n",
       "<p>5 rows × 24 columns</p>\n",
       "</div>"
      ],
      "text/plain": [
       "   type_local  surface_reelle_bati  longitude  latitude  \\\n",
       "0           0             0.030303   0.963759  0.962856   \n",
       "1           0             0.102273   0.990511  0.992434   \n",
       "2           0             0.090909   0.976577  0.991695   \n",
       "3           0             0.128788   0.994022  0.967613   \n",
       "4           0             0.075758   0.971703  0.960667   \n",
       "\n",
       "   trimestre_trimestre_1  trimestre_trimestre_2  trimestre_trimestre_3  \\\n",
       "0                      0                      0                      0   \n",
       "1                      0                      1                      0   \n",
       "2                      0                      1                      0   \n",
       "3                      0                      1                      0   \n",
       "4                      0                      0                      1   \n",
       "\n",
       "   trimestre_trimestre_4  année_2018  année_2019  ...  nb_pieces_0  \\\n",
       "0                      1           0           0  ...            0   \n",
       "1                      0           0           0  ...            0   \n",
       "2                      0           0           0  ...            0   \n",
       "3                      0           0           0  ...            0   \n",
       "4                      0           0           0  ...            0   \n",
       "\n",
       "   nb_pieces_1  nb_pieces_2  nb_pieces_3  nb_pieces_4  nb_pieces_5  \\\n",
       "0            1            0            0            0            0   \n",
       "1            1            0            0            0            0   \n",
       "2            1            0            0            0            0   \n",
       "3            0            1            0            0            0   \n",
       "4            0            1            0            0            0   \n",
       "\n",
       "   nb_pieces_6  nb_pieces_7  nb_pieces_8  nb_pieces_more_than_9  \n",
       "0            0            0            0                      0  \n",
       "1            0            0            0                      0  \n",
       "2            0            0            0                      0  \n",
       "3            0            0            0                      0  \n",
       "4            0            0            0                      0  \n",
       "\n",
       "[5 rows x 24 columns]"
      ]
     },
     "execution_count": 43,
     "metadata": {},
     "output_type": "execute_result"
    }
   ],
   "source": [
    "X_train_mm.head()"
   ]
  },
  {
   "cell_type": "markdown",
   "id": "8fc964ae",
   "metadata": {},
   "source": [
    "<div style=\"text-align: justify\">On crée une fonction pour voir quel est le meilleur standardisateur pour chaque modèle choisi.<div> "
   ]
  },
  {
   "cell_type": "code",
   "execution_count": 44,
   "id": "0adf5ad6",
   "metadata": {},
   "outputs": [],
   "source": [
    "def meilleur_standardiseur(model_name):\n",
    "    \n",
    "    better_score = 0\n",
    "    better_scaler = ''\n",
    "\n",
    "    X_train_list = [X_train_st, X_train_rob, X_train_mm]\n",
    "    X_test_list = [X_test_st, X_test_rob, X_test_mm]\n",
    "    scalers = [\"Standard\", \"Robust\", \"MinMax\"]\n",
    "    \n",
    "    for i in range(len(X_test_list)):\n",
    "        model = model_name\n",
    "        model.fit(X_train_list[i], Y_train)\n",
    "        score = model.score(X_test_list[i], Y_test)\n",
    "        if score > better_score:\n",
    "            better_score = score\n",
    "            better_scaler = scalers[i]\n",
    "        elif score == better_score:\n",
    "            better_scaler += \" / \" + scalers[i]\n",
    "    print(\"Pour le modèle {}, better score {} avec {}.\".format(model_name, better_score, better_scaler))"
   ]
  },
  {
   "cell_type": "markdown",
   "id": "a2b243c8",
   "metadata": {},
   "source": [
    "<div style=\"text-align: justify\">On applique la fonction à 6 modèles différents.<div> "
   ]
  },
  {
   "cell_type": "code",
   "execution_count": 45,
   "id": "0ea96730",
   "metadata": {},
   "outputs": [
    {
     "name": "stdout",
     "output_type": "stream",
     "text": [
      "Pour le modèle LinearRegression(), better score 0.8943661307954835 avec Robust.\n"
     ]
    }
   ],
   "source": [
    "meilleur_standardiseur(LinearRegression())"
   ]
  },
  {
   "cell_type": "code",
   "execution_count": 46,
   "id": "7927e070",
   "metadata": {},
   "outputs": [
    {
     "name": "stdout",
     "output_type": "stream",
     "text": [
      "Pour le modèle RandomForestRegressor(), better score 0.9268938342524246 avec MinMax.\n"
     ]
    }
   ],
   "source": [
    "meilleur_standardiseur(RandomForestRegressor())\n"
   ]
  },
  {
   "cell_type": "code",
   "execution_count": 47,
   "id": "ba81fc7d",
   "metadata": {},
   "outputs": [
    {
     "name": "stdout",
     "output_type": "stream",
     "text": [
      "Pour le modèle DecisionTreeRegressor(), better score 0.8526695733767926 avec Robust.\n"
     ]
    }
   ],
   "source": [
    "meilleur_standardiseur(DecisionTreeRegressor())"
   ]
  },
  {
   "cell_type": "code",
   "execution_count": 48,
   "id": "edfde90c",
   "metadata": {},
   "outputs": [
    {
     "name": "stdout",
     "output_type": "stream",
     "text": [
      "Pour le modèle KNeighborsRegressor(), better score 0.8974678035799153 avec Standard.\n"
     ]
    }
   ],
   "source": [
    "meilleur_standardiseur(KNeighborsRegressor())"
   ]
  },
  {
   "cell_type": "markdown",
   "id": "913a0ba9",
   "metadata": {},
   "source": [
    "LogisticRegression et SVC sont très long à compiler et on a déjà vu que leur score était très mauvais du fait que ces modèles ne sont pas adaptés à notre situation.  "
   ]
  },
  {
   "cell_type": "code",
   "execution_count": 26,
   "id": "e0ef1af6",
   "metadata": {},
   "outputs": [
    {
     "name": "stdout",
     "output_type": "stream",
     "text": [
      "Pour le modèle LogisticRegression(), better score 0.013311148086522463 avec Standard.\n"
     ]
    }
   ],
   "source": [
    "# meilleur_standardiseur(LogisticRegression())"
   ]
  },
  {
   "cell_type": "code",
   "execution_count": null,
   "id": "60e8192e",
   "metadata": {},
   "outputs": [],
   "source": [
    "# meilleur_standardiseur(SVC())"
   ]
  },
  {
   "cell_type": "markdown",
   "id": "d74198d9",
   "metadata": {},
   "source": [
    "#### <div style=\"text-align: justify\"> Résultat du meilleur standardisateur selon les modèles utilisés : (ces résultats sont suceptinles d'évoluer car la différence de score est très faible)<div> "
   ]
  },
  {
   "cell_type": "markdown",
   "id": "b284e084",
   "metadata": {},
   "source": [
    "|          | Decision Tree Method | Random Forest Method | K Neighbors Classifier | SCV | Logistic Regression | Linear Regression | \n",
    "|:--------:| :------------------: | :------------------: | :--------------------: | :--------------------: | :-----------------: | :---------------: |\n",
    "| Robust   |          ❌          |          ✅          |           ❌           |          ✅            |         ❌          |        ✅        |\n",
    "| Standard |          ✅          |          ❌           |            ✅           |          ❌            |         ✅          |        ❌        |\n",
    "| MinMax   |          ❌          |          ❌           |           ❌           |           ❌            |         ❌          |        ❌        |\n"
   ]
  },
  {
   "cell_type": "markdown",
   "id": "bdae8288",
   "metadata": {},
   "source": [
    "<div style=\"text-align: justify\">On peut enregistrer les bases train et test standardisés selon le meilleur standardisateur de chaque modèle.<div> "
   ]
  },
  {
   "cell_type": "code",
   "execution_count": 49,
   "id": "b16c800a",
   "metadata": {},
   "outputs": [],
   "source": [
    "#X_train_st.to_csv('X_train_st.csv')\n",
    "#X_train_rob.to_csv('X_train_rob.csv')\n",
    "#X_train_mm.to_csv('X_train_mm.csv')\n",
    "#X_test_st.to_csv('X_test_st.csv')\n",
    "#X_test_rob.to_csv('X_test_rob.csv')\n",
    "#X_test_mm.to_csv('X_test_mm.csv')\n",
    "#Y_test.to_csv('Y_test.csv')\n",
    "#Y_train.to_csv('Y_train.csv')"
   ]
  },
  {
   "cell_type": "markdown",
   "id": "21c65394",
   "metadata": {},
   "source": [
    "# 5. Modélisation "
   ]
  },
  {
   "cell_type": "markdown",
   "id": "230ad370",
   "metadata": {},
   "source": [
    "#### Notre démarche : <br />\n",
    "\n",
    "<div style=\"text-align: justify\">Après avoir choisi le meilleur standardisateur pour chaque modèle utiliser, nous allons créer une fonction permettant de déterminer les hyperparamètres optimaux de chaque modèle parmi ceux sélectionnés.<div><br />"
   ]
  },
  {
   "cell_type": "markdown",
   "id": "011273ab",
   "metadata": {},
   "source": [
    "#### Explication du code :<br />  "
   ]
  },
  {
   "cell_type": "code",
   "execution_count": 50,
   "id": "a802c7c1",
   "metadata": {},
   "outputs": [],
   "source": [
    "import numpy as np\n",
    "import pandas as pd\n",
    "from statistics import mean\n",
    "import matplotlib.pyplot as plt\n",
    "from sklearn.tree import DecisionTreeRegressor\n",
    "from sklearn.ensemble import RandomForestRegressor\n",
    "from sklearn.neighbors import KNeighborsRegressor\n",
    "from sklearn.svm import SVC\n",
    "from sklearn.linear_model import LogisticRegression, LinearRegression\n",
    "from sklearn.model_selection import cross_val_score, GridSearchCV, StratifiedKFold\n",
    "from sklearn.pipeline import make_pipeline\n",
    "from sklearn.metrics import r2_score, mean_absolute_error, mean_squared_error,mean_squared_log_error"
   ]
  },
  {
   "cell_type": "code",
   "execution_count": 51,
   "id": "7ef33d0a",
   "metadata": {},
   "outputs": [],
   "source": [
    "#X_train_st = pd.read_csv('X_train_st.cvs')\n",
    "#X_train_rob = pd.read_csv('X_train_rob.cvs')\n",
    "#X_train_mm = pd.read_csv('X_train_mm.cvs')\n",
    "#X_test_st = pd.read_csv('X_test_st.cvs')\n",
    "#X_test_rob = pd.read_csv('X_test_rob.cvs')\n",
    "#X_test_mm = pd.read_csv('X_test_mm.cvs')\n",
    "#Y_test = pd.read_csv('Y_test.cvs')\n",
    "#Y_train = pd.read_csv('Y_train.cvs')"
   ]
  },
  {
   "cell_type": "markdown",
   "id": "5e04ed18",
   "metadata": {},
   "source": [
    "<div style=\"text-align: justify\">On définit de dictionnaires concernant les hyperparamètres de chaque modèle selectionné après les avoir cherchés sur Sklearn.<br />\n",
    "    \n",
    "Nota Bene : si squared_error ne marche pas en fonctionnement de l'environnement, il faut utiliser mse"
   ]
  },
  {
   "cell_type": "code",
   "execution_count": 52,
   "id": "b0420191",
   "metadata": {},
   "outputs": [],
   "source": [
    "dico_param_tree = {'decisiontreeregressor__criterion': ['squared_error', 'friedman_mse', 'absolute_error', 'poisson'],\n",
    "         'decisiontreeregressor__splitter': ['best', 'random']}\n",
    "dico_param_rf = {\"randomforestregressor__n_estimators\": np.arange(10, 100, 20),\n",
    "              \"randomforestregressor__criterion\": ['squared_error', 'absolute_error', 'friedman_mse','poisson'],\n",
    "              \"randomforestregressor__max_features\": ['auto', 'sqrt', 'log2']}\n",
    "dico_param_log = {'logisticregression__solver': ['newton-cg', 'lbfgs', \n",
    "                                                 'liblinear', 'sag', 'saga']}\n",
    "dico_param_knn = {\"kneighborsregressor__n_neighbors\":np.arange(2, 10, 1),\n",
    "                 \"kneighborsregressor__weights\": ['uniform', \"distance\"],\n",
    "                 \"kneighborsregressor__algorithm\": [\"auto\", \"ball_tree\", \"kd_tree\", \"brute\"]}\n",
    "dico_param_svc = {'svc__kernel':[\"linear\", \"poly\", \"rbf\", \"sigmoid\"], \n",
    "           \"svc__gamma\":['scale', \"auto\"],\n",
    "                 \"svc__probability\":[True, False]}"
   ]
  },
  {
   "cell_type": "markdown",
   "id": "d6ef17dd",
   "metadata": {},
   "source": [
    "<div style=\"text-align: justify\">On utilise ma\n",
    "    ke_pipeline pour sauvegarder nos modèles et éviter de relancer des calcules conséquents à chaque fois. <div>"
   ]
  },
  {
   "cell_type": "code",
   "execution_count": 53,
   "id": "c3f374d2",
   "metadata": {},
   "outputs": [],
   "source": [
    "model_lr = make_pipeline(LinearRegression())\n",
    "model_rf = make_pipeline(RandomForestRegressor())\n",
    "model_tree = make_pipeline(DecisionTreeRegressor())\n",
    "model_log = make_pipeline(LogisticRegression())\n",
    "model_knn = make_pipeline(KNeighborsRegressor())\n",
    "model_svm = make_pipeline(SVC())"
   ]
  },
  {
   "cell_type": "markdown",
   "id": "19d65af1",
   "metadata": {},
   "source": [
    "<div style=\"text-align: justify\">On crée une fonction qui donne les meilleurs hyperparamètres de chaque modèle. <div>"
   ]
  },
  {
   "cell_type": "code",
   "execution_count": 54,
   "id": "0e99455c",
   "metadata": {},
   "outputs": [],
   "source": [
    "# On adopte le R2 comme score de base étant dans le cas de regressions. \n",
    "SCORING = 'r2' \n",
    "\n",
    "# On crée une fonction qui donne les meilleurs hyperparamètres de chaque modèle\n",
    "def best_param(X, Y, pipeline, dico_param):\n",
    "    \n",
    "    # On crée un grid search pour obtenir les meilleurs hyperparamètres\n",
    "    grid = GridSearchCV(\n",
    "        pipeline, \n",
    "        param_grid=dico_param,  \n",
    "        cv=3, \n",
    "        refit=True,\n",
    "        scoring=SCORING)\n",
    "    \n",
    "    grid.fit(X, Y)\n",
    "    print(f\"Le meilleur estimateur a {SCORING}={round(grid.best_score_, 2)}\")\n",
    "    \n",
    "    # On garde le meilleur modèle en mémoire \n",
    "    best_model = grid.best_estimator_\n",
    "    print(\"Le meilleur modèle est :\", best_model[0])\n",
    "    return best_model[0]"
   ]
  },
  {
   "cell_type": "code",
   "execution_count": 55,
   "id": "062bd8d7",
   "metadata": {},
   "outputs": [],
   "source": [
    "best_model_lr = model_lr"
   ]
  },
  {
   "cell_type": "code",
   "execution_count": 68,
   "id": "6c17f685",
   "metadata": {},
   "outputs": [
    {
     "name": "stdout",
     "output_type": "stream",
     "text": [
      "Le meilleur estimateur a r2=0.85\n",
      "Le meilleur modèle est : DecisionTreeRegressor(criterion='friedman_mse')\n"
     ]
    }
   ],
   "source": [
    "best_model_tree = best_param(X_train_st, Y_train, model_tree, dico_param_tree)"
   ]
  },
  {
   "cell_type": "code",
   "execution_count": 69,
   "id": "ee321ce6",
   "metadata": {},
   "outputs": [
    {
     "name": "stdout",
     "output_type": "stream",
     "text": [
      "Le meilleur estimateur a r2=0.9\n",
      "Le meilleur modèle est : KNeighborsRegressor(n_neighbors=7, weights='distance')\n"
     ]
    }
   ],
   "source": [
    "best_model_knn = best_param(X_train_st, Y_train, model_knn, dico_param_knn)"
   ]
  },
  {
   "cell_type": "code",
   "execution_count": 70,
   "id": "e6a2a573",
   "metadata": {},
   "outputs": [
    {
     "name": "stdout",
     "output_type": "stream",
     "text": [
      "Le meilleur estimateur a r2=0.92\n",
      "Le meilleur modèle est : RandomForestRegressor(criterion='friedman_mse', n_estimators=70)\n"
     ]
    }
   ],
   "source": [
    "best_model_rf = best_param(X_train_rob, Y_train, model_rf, dico_param_rf)"
   ]
  },
  {
   "cell_type": "markdown",
   "id": "f086b169",
   "metadata": {},
   "source": [
    "best_model_svm et best_model_log sont très long à compiler et on a déjà vu que leur score était très mauvais du fait que ces modèles ne sont pas adaptés à notre situation.  "
   ]
  },
  {
   "cell_type": "code",
   "execution_count": 71,
   "id": "3bc89009",
   "metadata": {},
   "outputs": [],
   "source": [
    "# best_model_svm = best_param(X_train_rob, Y_train, model_svm, dico_param_svc)"
   ]
  },
  {
   "cell_type": "code",
   "execution_count": 72,
   "id": "91f558a0",
   "metadata": {},
   "outputs": [],
   "source": [
    "# best_model_log = best_param(X_train_st, Y_train, model_log, dico_param_log)"
   ]
  },
  {
   "cell_type": "markdown",
   "id": "8ba1c6b4",
   "metadata": {},
   "source": [
    "(On remarque que la différence de score entre les modèle ayant les hyperparamètres par défauts et ceux avec les hyperparamètres les plus optimaux n'est pas très grande. Cela est sans doute due au modèle et au traitement de données, l'estimation du prix d'un bien étant assez linéaire) "
   ]
  },
  {
   "cell_type": "markdown",
   "id": "a2758f92",
   "metadata": {},
   "source": [
    "<div style=\"text-align: justify\">On crée une fonction pour tester le meilleur modèle selon les hyperparamètres et les manières de standardiser précédemment établis et pour obtenir différents résultats sur ses performances. <div>"
   ]
  },
  {
   "cell_type": "code",
   "execution_count": 73,
   "id": "ce1cd0cc",
   "metadata": {},
   "outputs": [],
   "source": [
    "def fit(mettre_X_train, mettre_X_test, mettre_Y_train, model):\n",
    "    \n",
    "    mean_absolute_error = mean(cross_val_score(model, mettre_X_train, mettre_Y_train, cv=StratifiedKFold(), scoring='neg_mean_absolute_error'))\n",
    "    mean_squared_error = mean(cross_val_score(model, mettre_X_train, mettre_Y_train, cv=StratifiedKFold(), scoring='neg_mean_squared_error'))\n",
    "    max_error = mean(cross_val_score(model, mettre_X_train, mettre_Y_train, cv=StratifiedKFold(), scoring='max_error'))\n",
    "    explained_variance =mean(cross_val_score(model, mettre_X_train, mettre_Y_train, cv=StratifiedKFold(), scoring='explained_variance'))\n",
    "    mean_poisson_deviance = mean(cross_val_score(model, mettre_X_train, mettre_Y_train, cv=StratifiedKFold(), scoring='neg_mean_poisson_deviance'))\n",
    "    predict = model.predict(X_test)\n",
    "    \n",
    "    print('mean_absolute_error: {:.3g}'.format(mean_absolute_error))\n",
    "    print('mean_squared_error: {:.3g}'.format(mean_squared_error))\n",
    "    print('max_error: {:.3g}'.format(max_error))\n",
    "    print('explained_variance: {:.3g}'.format(explained_variance))\n",
    "    print('mean_poisson_deviance: {:.3g}'.format(mean_poisson_deviance))\n",
    "    \n",
    "    return mean_absolute_error, mean_squared_error, max_error, explained_variance, mean_poisson_deviance, predict\n"
   ]
  },
  {
   "cell_type": "markdown",
   "id": "4bb3c849",
   "metadata": {},
   "source": [
    " <div style=\"text-align: justify\">On applique la fonction au meilleur modèle. <div>"
   ]
  },
  {
   "cell_type": "code",
   "execution_count": 74,
   "id": "9b828b42",
   "metadata": {},
   "outputs": [
    {
     "name": "stdout",
     "output_type": "stream",
     "text": [
      "mean_absolute_error: -1.24e+05\n",
      "mean_squared_error: -3.88e+10\n",
      "max_error: -1.27e+06\n",
      "explained_variance: 0.852\n",
      "mean_poisson_deviance: -3.86e+04\n"
     ]
    }
   ],
   "source": [
    "mean_absolute_error_tree, mean_squared_error_tree, max_error_tree, explained_variance_tree, mean_poisson_deviance_tree, predict_tree = fit(X_train_st, X_test_st, Y_train, best_model_tree)"
   ]
  },
  {
   "cell_type": "code",
   "execution_count": 75,
   "id": "35f77cea",
   "metadata": {},
   "outputs": [
    {
     "name": "stdout",
     "output_type": "stream",
     "text": [
      "mean_absolute_error: -1.05e+05\n",
      "mean_squared_error: -2.77e+10\n",
      "max_error: -1.05e+06\n",
      "explained_variance: 0.894\n",
      "mean_poisson_deviance: -2.84e+04\n"
     ]
    }
   ],
   "source": [
    "mean_absolute_error_knn, mean_squared_error_knn, max_error_knn, explained_variance_knn, mean_poisson_deviance_knn, predict_knn = fit(X_train_st, X_test_st, Y_train, best_model_knn)"
   ]
  },
  {
   "cell_type": "code",
   "execution_count": 1,
   "id": "07120a0a",
   "metadata": {},
   "outputs": [
    {
     "ename": "NameError",
     "evalue": "name 'fit' is not defined",
     "output_type": "error",
     "traceback": [
      "\u001b[0;31m---------------------------------------------------------------------------\u001b[0m",
      "\u001b[0;31mNameError\u001b[0m                                 Traceback (most recent call last)",
      "\u001b[0;32m/var/folders/6b/sm0mn0052bn0k0qjpwz61zq00000gn/T/ipykernel_15876/1937284704.py\u001b[0m in \u001b[0;36m<module>\u001b[0;34m\u001b[0m\n\u001b[0;32m----> 1\u001b[0;31m \u001b[0mmean_absolute_error_lr\u001b[0m\u001b[0;34m,\u001b[0m \u001b[0mmean_squared_error_lr\u001b[0m\u001b[0;34m,\u001b[0m \u001b[0mmax_error_lr\u001b[0m\u001b[0;34m,\u001b[0m \u001b[0mexplained_variance_lr\u001b[0m\u001b[0;34m,\u001b[0m \u001b[0mmean_poisson_deviance_lr\u001b[0m\u001b[0;34m,\u001b[0m \u001b[0mpredict_lr\u001b[0m \u001b[0;34m=\u001b[0m \u001b[0mfit\u001b[0m\u001b[0;34m(\u001b[0m\u001b[0mX_train_st\u001b[0m\u001b[0;34m,\u001b[0m \u001b[0mX_test_st\u001b[0m\u001b[0;34m,\u001b[0m \u001b[0mY_train\u001b[0m\u001b[0;34m,\u001b[0m \u001b[0mLinearRegression\u001b[0m\u001b[0;34m(\u001b[0m\u001b[0;34m)\u001b[0m\u001b[0;34m)\u001b[0m\u001b[0;34m\u001b[0m\u001b[0;34m\u001b[0m\u001b[0m\n\u001b[0m",
      "\u001b[0;31mNameError\u001b[0m: name 'fit' is not defined"
     ]
    }
   ],
   "source": [
    "mean_absolute_error_lr, mean_squared_error_lr, max_error_lr, explained_variance_lr, mean_poisson_deviance_lr, predict_lr = fit(X_train_st, X_test_st, Y_train, LinearRegression())"
   ]
  },
  {
   "cell_type": "code",
   "execution_count": 77,
   "id": "5e6f9ae8",
   "metadata": {},
   "outputs": [
    {
     "name": "stdout",
     "output_type": "stream",
     "text": [
      "mean_absolute_error: -9.2e+04\n",
      "mean_squared_error: -2.16e+10\n",
      "max_error: -9.66e+05\n",
      "explained_variance: 0.918\n",
      "mean_poisson_deviance: -2.11e+04\n"
     ]
    }
   ],
   "source": [
    "mean_absolute_error_rf, mean_squared_error_rf, max_error_rf, explained_variance_rf, mean_poisson_deviance_rf, predict_rf = fit(X_train_st, X_test_st, Y_train, best_model_rf)"
   ]
  },
  {
   "cell_type": "code",
   "execution_count": 78,
   "id": "5b4aac9d",
   "metadata": {},
   "outputs": [],
   "source": [
    "# mean_absolute_error_log, mean_squared_error_log, max_error_log, explained_variance_log, mean_poisson_deviance_log,predict_log = fit(X_train_st, X_test_st, Y_train, best_model_log)"
   ]
  },
  {
   "cell_type": "code",
   "execution_count": 79,
   "id": "dff410a7",
   "metadata": {},
   "outputs": [],
   "source": [
    "# mean_absolute_error_svm, mean_squared_error_svm, max_error_svm, explained_variance_svm, mean_poisson_deviance_svm, predict_svm = fit(X_train_st, X_test_st, Y_train, best_model_svm)"
   ]
  },
  {
   "cell_type": "code",
   "execution_count": 80,
   "id": "21cc91e3",
   "metadata": {},
   "outputs": [
    {
     "data": {
      "text/plain": [
       "array([2630906.22857143, 2620644.67142857, 2354861.64285714, ...,\n",
       "       2512529.07142857, 2620393.92857143, 2540761.55714286])"
      ]
     },
     "execution_count": 80,
     "metadata": {},
     "output_type": "execute_result"
    }
   ],
   "source": [
    "predict_rf"
   ]
  },
  {
   "cell_type": "markdown",
   "id": "ec9df94f",
   "metadata": {},
   "source": [
    "#### <div style=\"text-align: justify\">Résultats des modèles utilisés : <div><br />\n",
    "\n",
    "|                       | Decision Tree Method | Random Forest Method | K Neighbors Regressor  |     SVC     | Logistic Regression | Linear Regression | \n",
    "|:---------------------:| :------------------: | :------------------: | :--------------------: | :---------: | :-----------------: | :---------------: |\n",
    "| Score                 |         0.85         |         0.92         |          0.89          |     0,1     |         0.01        |        0,89       |      \n",
    "| mean_absolute_error   |      -1.24e+05       |      -9.19e+04       |       -1.07e+05        |     NaN     |         NaN         |     -1.07e+05     |\n",
    "| mean_squared_error    |      -3.88e+10       |      -2.16e+10       |       -2.83e+10        |     NaN     |         NaN         |     -2.68e+10     |\n",
    "| max_error             |      -1.26e+06       |      -9.73e+05       |       -1.04e+06        |     NaN     |         NaN         |     -1.04e+06     |\n",
    "| explained_variance    |         0.852        |         0.918        |          0.892         |     NaN     |         NaN         |        0.898      |\n",
    "| mean_poisson_deviance |      -3.89e+04       |      -2.08e+04       |       -2.93e+04        |     NaN     |         NaN         |        NaN        |\n",
    "\n",
    "\n",
    "\n",
    "\n",
    "Ainsi, nous avons décidé de choisir le modèle Random Forest Regressor avec comme standardiseur Robust et comme hyperparamètres (criterion='friedman_mse', n_estimators=90) pour estimer le prix d'un bien selon certaines de ses caractéristiques. (SVC a des NaN car les scores utilisés sont propres aux regressions). "
   ]
  },
  {
   "cell_type": "markdown",
   "id": "884851d9",
   "metadata": {},
   "source": [
    "Pour finir on crée une fonction qui renvoie les meilleurs features. \n",
    "\n"
   ]
  },
  {
   "cell_type": "code",
   "execution_count": 81,
   "id": "c522125b",
   "metadata": {},
   "outputs": [],
   "source": [
    "def best_features(model, X_train, seuil) :     \n",
    "    features_importances = []\n",
    "    index_best_features = []\n",
    "    list_results = model.feature_importances_.tolist()\n",
    "    best_features = []\n",
    "    for i in range(len(list_results)):\n",
    "        if list_results[i] > seuil :\n",
    "            index_best_features.append(i)\n",
    "            features_importances.append(list_results[i])\n",
    "            best_features.append(X_train.columns[i])\n",
    "    return best_features, features_importances"
   ]
  },
  {
   "cell_type": "markdown",
   "id": "63e8547c",
   "metadata": {},
   "source": [
    "#### <div style=\"text-align: justify\"> Pour le modèle RandomForest Regressor (modèle qui a optenu le meilleur score) on regarde les features les plus importantes : <div>"
   ]
  },
  {
   "cell_type": "code",
   "execution_count": 82,
   "id": "823bc0a7",
   "metadata": {},
   "outputs": [
    {
     "name": "stdout",
     "output_type": "stream",
     "text": [
      "mean_absolute_error: -9.25e+04\n",
      "mean_squared_error: -2.14e+10\n",
      "max_error: -9.84e+05\n",
      "explained_variance: 0.918\n",
      "mean_poisson_deviance: -2.11e+04\n"
     ]
    },
    {
     "data": {
      "image/png": "[encoded data removed]",
      "text/plain": [
       "<Figure size 432x288 with 1 Axes>"
      ]
     },
     "metadata": {
      "needs_background": "light"
     },
     "output_type": "display_data"
    }
   ],
   "source": [
    "mean_absolute_error, mean_squared_error, max_error, explained_variance, mean_poisson_deviance, predict = fit(X_train_st, X_test_st, Y_train, best_model_rf)\n",
    "\n",
    "best_features_rf, features_importance_rf = best_features(best_model_rf, X_train_st, 0.001)\n",
    "\n",
    "pd.DataFrame(features_importance_rf, index = best_features_rf).plot.bar(color='purple')\n",
    "plt.suptitle('Feature importances pour RandomForest', fontsize=15)\n",
    "plt.xticks(fontsize=10)\n",
    "plt.yticks(fontsize=10)\n",
    "plt.legend(fontsize=10)\n",
    "plt.show()"
   ]
  },
  {
   "cell_type": "markdown",
   "id": "7102b63b",
   "metadata": {},
   "source": [
    "Sans grande surprise, la surface est le feature le plus important. On voit ensuite que la localisation arrive en 2e position suivi de l'année. Cela semble assez logique puisque même s'il y a des prix parfois très élevé à Paris, tous les arrondissements ont en moyenne un prix/m2 à plus de 10.000. Notre modèle ne reflète pas forcément les "
   ]
  },
  {
   "cell_type": "markdown",
   "id": "acff6c5d",
   "metadata": {},
   "source": [
    "# 6. Visualisation grâce à une interface graphique"
   ]
  },
  {
   "cell_type": "markdown",
   "id": "51b5f888",
   "metadata": {},
   "source": [
    "#### Notre démarche : <br />\n",
    "\n",
    "<div style=\"text-align: justify\">Plutôt de rentrer directement les caractéristiques du bien dans Python, nous avons souhaité développer une certaine expérience utilisateur tant pour allier forme et fond que pour créer une interface dynamique. Nous avons aussi voulu utiliser le plus de fonctionalités du module associé à l'interface et c'est pourquoi nous avons varié la nature des widgets utilisés tout en essayant de trouver le plus adapté à l'entrée du paramètre.<div> "
   ]
  },
  {
   "cell_type": "markdown",
   "id": "1e0b7af7",
   "metadata": {},
   "source": [
    "#### Explication du code :<br />  \n",
    "\n",
    "Pour cela on utilise des modules non convetionnels qu'il faudra installer au préalable tels que tkintermapview, customtkinter ou encore tkcalendar."
   ]
  },
  {
   "cell_type": "code",
   "execution_count": 83,
   "id": "66705132",
   "metadata": {},
   "outputs": [],
   "source": [
    "import pandas as pd\n",
    "import numpy as np\n",
    "\n",
    "#package pour l'affichage graphique\n",
    "import tkinter as tk\n",
    "import tkinter.messagebox\n",
    "import tkintermapview\n",
    "import customtkinter\n",
    "import tkcalendar\n",
    "import geopandas\n",
    "from geopy.geocoders import Nominatim \n",
    "\n",
    "#package pour la récupération des coordonnées des arrondissements de Paris\n",
    "import geojson \n",
    "import folium\n",
    "import webbrowser"
   ]
  },
  {
   "cell_type": "markdown",
   "id": "065e16a5",
   "metadata": {},
   "source": [
    "<div style=\"text-align: justify\">Après ce travail préalable, nous avons véritablement créé notre interface et utilisé des widgets différents (Entry, commonbox, button etc.) pour le meilleur rendu possible. Nous avons souhaité créer un compteur pour indiquer le nombre de pièces du bien en liant une fonction + et une fonction - à leur bouton repectif qui modifient le texte d'un Label. <div><br />\n",
    "    \n",
    "<div style=\"text-align: justify\">Nous avons aussi introduit un calendrier pour la saisie de la date qui apparait lorsqu'un bouton est actionné et disparait en affichant la date dans un label lorsqu'un autre l'est aussi. Nous avons relié le modèle choisi à l'interface par un bouton central. Lorsque toutes les caractéristiques sont remplies, il ne reste plus qu'à appuyer sur le bouton centrale qui affichera une carte avec la localisation du bien, le prix estimé et la plus value possible en cas de vente si la personne est propriétaire. Enfin, nous avons créé un deuxième onglet Description qui permet d'avoir des informations supplémentaires sur le prix au m2 de notre bien estimé en fonction du marché dans son arrondissement.<div> "
   ]
  },
  {
   "cell_type": "markdown",
   "id": "316d3659",
   "metadata": {},
   "source": [
    "#### NOTA BENE : Il est possible que l'interface apparaisse mal, voire fasse crasher le notebook en fonction de votre environnement. En cas de problèmes, n'hésitez pas à nous envoyer un mail. Vous trouvez une image en fin de rapport. "
   ]
  },
  {
   "cell_type": "code",
   "execution_count": null,
   "id": "d034dc1b",
   "metadata": {},
   "outputs": [],
   "source": [
    "# ======================== IMPORT préambule ========================\n",
    "#package classique\n",
    "import pandas as pd\n",
    "import numpy as np\n",
    "\n",
    "#package pour l'affichage graphique\n",
    "import tkinter as tk\n",
    "import tkinter.messagebox\n",
    "import tkintermapview\n",
    "import customtkinter\n",
    "import tkcalendar\n",
    "import geopandas\n",
    "from geopy.geocoders import Nominatim \n",
    "\n",
    "#package pour la récupération des coordonnées des arrondissements de Paris\n",
    "import geojson \n",
    "import folium\n",
    "import webbrowser\n",
    "\n",
    "# ======================== Préambule - Récupération coordonnées ========================\n",
    " \n",
    "geo = geojson.load(open(\"arrondissements.geojson\"))\n",
    "\n",
    "coord_arr = []\n",
    "poly_arr = []\n",
    "for i in range(20):\n",
    "    txt = 'poly' + str(i+1)\n",
    "    coord_arr.append(txt)\n",
    "    poly = list(geo[\"features\"][i][\"geometry\"].values())[1][0]\n",
    "    for k in range(len(poly)):\n",
    "        poly[k][0], poly[k][1] = poly[k][1], poly[k][0]\n",
    "    poly.append(poly[0])\n",
    "    poly_arr.append(poly)\n",
    "\n",
    "keys = coord_arr\n",
    "values = poly_arr\n",
    "dict_arr = dict(zip(keys, values))\n",
    "\n",
    "\n",
    "\n",
    "\n",
    "# ======================== Début - AFFICHAGE ========================\n",
    "\n",
    "customtkinter.set_appearance_mode(\"System\") \n",
    "customtkinter.set_default_color_theme(\"dark-blue\") \n",
    "\n",
    "\n",
    "class App(customtkinter.CTk):\n",
    "\n",
    "    WIDTH = 1080\n",
    "    HEIGHT = 950\n",
    "    \n",
    "    def __init__(self):\n",
    "        super().__init__()\n",
    "\n",
    "        self.title(\"Welcome at JCT Company.py\")\n",
    "        self.geometry(f\"{App.WIDTH}x{App.HEIGHT}\")\n",
    "        self.protocol(\"WM_DELETE_WINDOW\", self.on_closing) \n",
    "\n",
    "        # ======================== create two frames ========================\n",
    "\n",
    "        # configure grid layout (2x1)\n",
    "        \n",
    "        self.grid_columnconfigure(0, weight = 0)\n",
    "        self.grid_columnconfigure(1, weight = 1)\n",
    "        self.grid_columnconfigure(2, weight = 0)\n",
    "        self.grid_rowconfigure(0, weight=0)\n",
    "        self.grid_rowconfigure(1, weight=1)\n",
    "\n",
    "        self.frame_left = customtkinter.CTkFrame(master=self,\n",
    "                                                 width=100,\n",
    "                                                 corner_radius=0)\n",
    "        self.frame_left.grid(row=0, column=0, sticky=\"nswe\")\n",
    "        \n",
    "        self.frame_right = customtkinter.CTkFrame(master=self,\n",
    "                                                 width=20,\n",
    "                                                 corner_radius=0, \n",
    "                                                 fg_color = \"transparent\")\n",
    "        self.frame_right.grid(row=0, column=2, sticky=\"nswe\")\n",
    "\n",
    "        \n",
    "        # ============ Titre général du frame_left ============\n",
    "        \n",
    "        self.label_titre = customtkinter.CTkLabel(master=self.frame_left,\n",
    "                                              text=\"Paramètres du bien à estimer\",\n",
    "                                              font=(\"Roboto Medium\", -25))\n",
    "        self.label_titre.grid(row=0, column=0, columnspan=2, pady=20, padx=10, sticky=\"nswe\")\n",
    "    \n",
    "    \n",
    "        # ============ Insertion de l'adresse du bien et de son arrondissement ============\n",
    "\n",
    "        self.entry_adresse = customtkinter.CTkEntry(master=self.frame_left,\n",
    "                                            width=100,\n",
    "                                            placeholder_text=\"Adresse du bien\")     \n",
    "        self.entry_adresse.grid(row=1, column=0, pady=30, padx=10, sticky=\"we\")\n",
    "        \n",
    "        self.combobox_arrondissement = customtkinter.CTkComboBox(master=self.frame_left,\n",
    "                                                    values=[\"75001\", \"75002\", \"75003\", \"75004\", \"75005\", \"75006\", \"75007\", \"75008\", \"75009\", \"75010\",\"75011\", \"75012\", \"75013\", \"75014\", \"75015\",\"75016\", \"75017\", \"75018\", \"75019\", \"75020\"])\n",
    "        self.combobox_arrondissement.grid(row=1, column=1, pady=30, padx=10, sticky=\"we\")\n",
    "        self.combobox_arrondissement.set(\"Arrondissement\")\n",
    "        \n",
    "        \n",
    "        # ============ Insertion de la surface du bien ============\n",
    "        \n",
    "        self.entry_surface = customtkinter.CTkEntry(master=self.frame_left,\n",
    "                                            width=100,\n",
    "                                            placeholder_text=\"Surface du bien (en m2)\")\n",
    "        self.entry_surface.grid(row=2, column=0, pady=30, padx=10, sticky=\"we\")\n",
    "\n",
    "\n",
    "        # ============ Précision du type de bien (maison ou appartement) ============\n",
    "\n",
    "        self.radio_var = tkinter.IntVar(value=0)\n",
    "        \n",
    "        self.radio_button_appartement = customtkinter.CTkRadioButton(master=self.frame_left,text=\"Appartement\",\n",
    "                                                           variable=self.radio_var,\n",
    "                                                           value=0)\n",
    "        self.radio_button_appartement.grid(row=3, column=0,pady=30, padx=10, sticky=\"nswe\")\n",
    "\n",
    "        self.radio_button_maison = customtkinter.CTkRadioButton(master=self.frame_left, text=\"Maison\",\n",
    "                                                           variable=self.radio_var,\n",
    "                                                           value=1)\n",
    "        self.radio_button_maison.grid(row=3, column=0,pady=30, padx=150, sticky=\"nswe\")\n",
    "\n",
    "\n",
    "        # ============ Insertion du prix d'achat du bien ============\n",
    "\n",
    "        self.entry_prix = customtkinter.CTkEntry(master=self.frame_left,\n",
    "                                            width=150,\n",
    "                                            placeholder_text=\"Prix d'achat du bien\")      \n",
    "        self.entry_prix.grid(row=6, column=0, pady=30, padx=10, sticky=\"we\")\n",
    "        \n",
    "        # ============ Définition d'une pièce ============\n",
    "        \n",
    "        self.label_info = customtkinter.CTkLabel(master=self.frame_left,\n",
    "                                                   text=\"Indiquez le nombre de pièces \\n\" + \"(On considère comme étant une pièce tout endroit de plus de 9m2 \\n\" +\n",
    "                                                   \"les salles de bains et WC ne sont pas pris en compte)\",\n",
    "                                                   width=400,\n",
    "                                                   corner_radius=6,  \n",
    "                                                   fg_color=(\"white\", \"gray38\"),\n",
    "                                                   justify=tkinter.LEFT)\n",
    "        self.label_info.grid(row=4, column=0, pady=30, padx=10, sticky=\"w\")\n",
    "        \n",
    "        \n",
    "        # ============ Compteur pour indiquer le nombre de pièces ============\n",
    "        \n",
    "        self.res_piece = customtkinter.CTkLabel(master=self.frame_left,text='0')\n",
    "        self.res_piece.grid(row=4, column=1, padx=10, pady=50, sticky=\"ew\")\n",
    "        \n",
    "        \n",
    "        # ============ Création de deux boutons pour régler le nombre de pièces du bien ============\n",
    "        def compteur_plus():\n",
    "            a= int(self.res_piece.cget(\"text\"))\n",
    "            if a >= 50:\n",
    "                a = a\n",
    "            else:\n",
    "                a = a+1\n",
    "            self.res_piece.configure(text=str(a))\n",
    "            global nbp #crée une variable globale qu'on peut appeler n'importe où dans le code\n",
    "            nbp = a\n",
    "        \n",
    "        def compteur_moins():\n",
    "            b = int(self.res_piece.cget(\"text\"))\n",
    "            if b==0:\n",
    "                b=b\n",
    "            else:\n",
    "                b = b-1\n",
    "            self.res_piece.configure(text=str(b))\n",
    "            global nbp #crée une variable globale qu'on peut appeler n'importe où dans le code\n",
    "            nbp = b\n",
    "\n",
    "        self.bouton_compteur_plus = customtkinter.CTkButton(master=self.frame_left, text=\"+\", width=26, \n",
    "                                                    height=26,\n",
    "                                                    command=compteur_plus)\n",
    "        self.bouton_compteur_plus.place(x=521,y=380)\n",
    "        \n",
    "        self.bouton_compteur_moins = customtkinter.CTkButton(master=self.frame_left, text=\"-\", width=26, \n",
    "                                                    height=26,\n",
    "                                                    command=compteur_moins)\n",
    "        self.bouton_compteur_moins.place(x=471,y=380)\n",
    "        \n",
    "\n",
    "        # ============ Précision de la date du jour ============\n",
    "        def calendrier():\n",
    "            #date_today = ''\n",
    "            self.cal = tkcalendar.Calendar(self, selectmode = 'day', year = 2022, month = 12, day = 25)\n",
    "            self.cal.place(x=950, y=490)\n",
    "            def grad_date():\n",
    "                #self.label_mask = customtkinter.CTkLabel(self.frame_left, width = 10)\n",
    "                #self.label_mask.grid(row=11, column=1, pady=10, padx=10)\n",
    "                self.date = customtkinter.CTkLabel(self, text = \"\") \n",
    "                self.date.configure(text = self.cal.get_date()) \n",
    "                self.cal.destroy()\n",
    "                self.button_date.destroy()\n",
    "                global date_today\n",
    "                self.date_today = self.date.cget(\"text\")\n",
    "                date_today = self.date_today\n",
    "                #affichage de la date\n",
    "                self.label_calendrier = customtkinter.CTkLabel(master=self.frame_left,\n",
    "                                                            text=self.date_today,\n",
    "                                                            font=(\"Roboto Medium\", -12),\n",
    "                                                            corner_radius=6)\n",
    "                self.label_calendrier.place(x=360, y=485)\n",
    "            \n",
    "            self.button_date=customtkinter.CTkButton(self, text = \"OK\", command = grad_date)\n",
    "            self.button_date.place(x=650, y=485)\n",
    "        \n",
    "        self.label_calendrier = customtkinter.CTkLabel(master=self.frame_left,\n",
    "                                                    text=\"Veuillez entrez la date du jour\",\n",
    "                                                    font=(\"Roboto Medium\", -16),\n",
    "                                                    corner_radius=0)\n",
    "        self.label_calendrier.grid(row=5, column=0, pady=30, padx=0)\n",
    "\n",
    "        self.botondate=customtkinter.CTkButton(self.frame_left, text='Date du jour', command=calendrier)\n",
    "        self.botondate.grid(row=5, column=1, pady=30, padx=10)\n",
    "\n",
    "        # ============ Changement du mode couleur ============\n",
    "\n",
    "        self.optionmenu = customtkinter.CTkOptionMenu(master=self.frame_left,\n",
    "                                                        values=[\"Light\", \"Dark\", \"System\"],\n",
    "                                                        command=self.change_appearance)\n",
    "        self.optionmenu.grid(row=7, column=0, padx=10, pady=30, sticky=\"ew\")\n",
    "\n",
    "        \n",
    "        # ======================== frame_right ========================\n",
    "        # Création tabview droite\n",
    "        \n",
    "        self.tabview = customtkinter.CTkTabview(self, width=600)\n",
    "        self.tabview.grid(row=0, column=1, padx=(20, 0), pady=(20, 0), sticky=\"nsew\")\n",
    "        self.tabview.add(\"Résultat\")\n",
    "        self.tabview.add(\"Description\")\n",
    "        self.tabview.tab(\"Résultat\").grid_columnconfigure(0, weight=1)  # configure grid of individual tabs\n",
    "        self.tabview.tab(\"Description\").grid_columnconfigure(0, weight=1)\n",
    "        \n",
    "        # Création frame dans tabview Résultat\n",
    "        self.frame_right_up = customtkinter.CTkFrame(master=self.tabview.tab(\"Résultat\"),\n",
    "                                                 width=100,\n",
    "                                                 corner_radius=0)\n",
    "        self.frame_right_up.grid(row=0, column=0, sticky=\"nswe\")\n",
    "        \n",
    "        self.frame_right = customtkinter.CTkFrame(master=self.tabview.tab(\"Résultat\"),\n",
    "                                                 width=20,\n",
    "                                                 corner_radius=0, \n",
    "                                                 fg_color = \"transparent\")\n",
    "        self.frame_right.grid(row=1, column=0, sticky=\"nswe\")\n",
    "\n",
    "        self.map= tkintermapview.TkinterMapView(master=self.frame_right_up, width=1000, height=450)\n",
    "        self.map.set_position(48.857345 , 2.347999)\n",
    "        self.map.set_zoom(12)\n",
    "        self.map.grid(row=0, column=0, sticky=\"nswe\", padx=(0, 0), pady=(0, 0))\n",
    "        \n",
    "        self.botonestimation=customtkinter.CTkButton(master=self.frame_right, text='Estimation', command=self.callback)\n",
    "        self.botonestimation.grid(row=2, column=3, pady=10, padx=0)\n",
    "\n",
    "        # Tabview description\n",
    "        #logo = tk.PhotoImage(file=\"image_visualisation.png\")\n",
    "        #self.label_calendrier = customtkinter.CTkLabel(master=self.tabview.tab(\"Description\"),\n",
    "        #                                            corner_radius=0,\n",
    "        #                                            image=logo)\n",
    "        #self.label_calendrier.grid(row=0, column=0, pady=30, padx=0)\n",
    "        \n",
    "\n",
    "        self.map2 = tkintermapview.TkinterMapView(master=self.tabview.tab(\"Description\"), width=1000, height=450)\n",
    "        self.map2.set_position(48.857345 , 2.347999)\n",
    "        self.map2.set_zoom(12)\n",
    "        self.map2.grid(row=0, column=0, sticky=\"nswe\", padx=(0, 0), pady=(0, 0))\n",
    "\n",
    "    # ======================== Espace des fonctions ============\n",
    "    def test(self):\n",
    "        self.label_res = customtkinter.CTkLabel(master=self.frame_right,\n",
    "                                                    text=\"3 mille euros\",\n",
    "                                                    font=(\"Roboto Medium\", -14),\n",
    "                                                    fg_color = 'transparent',\n",
    "                                                    corner_radius=6)\n",
    "        self.label_res.grid(row=1, column=0, pady=0, padx=100)\n",
    "        \n",
    "    def button_event(self):\n",
    "        print(\"Button pressed\")\n",
    "\n",
    "    def change_appearance(self, new_appearance_mode):\n",
    "        customtkinter.set_appearance_mode(new_appearance_mode)\n",
    "\n",
    "    def on_closing(self, event=0):\n",
    "        self.destroy()\n",
    "        \n",
    "    def callback(self):\n",
    "        # ======================== Récoltes des variables depuis l'interface ============\n",
    "        arr=int(self.combobox_arrondissement.get())\n",
    "        p=int(self.radio_var.get())\n",
    "        s=int(self.entry_surface.get())\n",
    "        k=int(self.res_piece.cget(\"text\"))\n",
    "        u=int(self.entry_prix.get())\n",
    "        global date_today\n",
    "        self.date_today = date_today\n",
    "        self.adr = str(self.entry_adresse.get())\n",
    "        self.geolocator = Nominatim(timeout=10, user_agent = \"myGeolocator\")\n",
    "        self.adr = self.adr + ' ' + str(arr) + ' ' + 'PARIS'\n",
    "        self.adr_point = self.geolocator.geocode(self.adr)\n",
    "        self.lat_bien = self.adr_point.latitude\n",
    "        self.lgt_bien = self.adr_point.longitude\n",
    "        \n",
    "        # ======================== Estimation ================\n",
    "        columns = ['type_local', 'surface_reelle_bati', 'longitude', 'latitude',\n",
    "               'trimestre_trimestre_1', 'trimestre_trimestre_2',\n",
    "               'trimestre_trimestre_3', 'trimestre_trimestre_4', 'année_2018',\n",
    "               'année_2019', 'année_2020', 'année_2021', 'année_2022',\n",
    "               'année_antérieur_a_2018', 'nb_pieces_0', 'nb_pieces_1', 'nb_pieces_2',\n",
    "               'nb_pieces_3', 'nb_pieces_4', 'nb_pieces_5', 'nb_pieces_6',\n",
    "               'nb_pieces_7', 'nb_pieces_8', 'nb_pieces_more_than_9']\n",
    "        lst = [[0]*24]\n",
    "        \n",
    "        lst[0][0] = p #type local\n",
    "        lst[0][1] = s #surface\n",
    "        lst[0][2] = self.lgt_bien\n",
    "        lst[0][3] = self.lat_bien\n",
    "        lst[0][14+k] = 1 #nb de pièces\n",
    "        \n",
    "        #Gestion des dates\n",
    "        temp = [int(str(date_today).split('/')[i]) for i in range(len(str(date_today).split('/')))]\n",
    "        #temp = [mois, jour, année]\n",
    "\n",
    "        if temp[2] >= 18:\n",
    "            lst[0][8+(temp[2]-18)]=1\n",
    "        else:\n",
    "            lst[0][13]=1 #années\n",
    "        lst[0][4+(temp[0]-1)//3]=1 #trimestres\n",
    "        \n",
    "        #CREATION D'UN DATAFRAME d'une ligne pour la prédiction\n",
    "        df_test_1row = pd.DataFrame(lst, columns=columns)\n",
    "\n",
    "        mean_absolute_error, mean_squared_error, max_error, explained_variance, mean_poisson_deviance, predict = fit(X_train_st, X_test_st, Y_train, best_model_rf)\n",
    "\n",
    "        res_estimateur = predict \n",
    "        #res_estimateur = 144000 si ca ne fonctionne pas pour voir un résultat\n",
    "        prix_estime = res_estimateur\n",
    "        \n",
    "        # ======================== Affichage des résultats ============\n",
    "        \n",
    "        txt = '     ' + \"Valeur estimée du bien :\" + '   ' + \\\n",
    "            str(prix_estime) + \"€\" + \"      \"\n",
    "\n",
    "        self.label_res = customtkinter.CTkLabel(master=self.frame_right,\n",
    "                                                    text=txt,\n",
    "                                                    font=(\"Roboto Medium\", -14),\n",
    "                                                    fg_color = 'transparent',\n",
    "                                                    corner_radius=6)\n",
    "        self.label_res.grid(row=1, column=0, pady=30, padx=0)\n",
    "        \n",
    "        plus_value_res = prix_estime - u\n",
    "        txt = '     ' + 'Plus value estimée possible :' + '   ' + \\\n",
    "             str(plus_value_res) + \"€\" + '     '\n",
    "            #str(plus_value_res) + ' ' + '€'\n",
    "        self.label_res_pv = customtkinter.CTkLabel(master=self.frame_right,\n",
    "                                                    text=txt,\n",
    "                                                    font=(\"Roboto Medium\", -14),\n",
    "                                                    fg_color = 'transparent',\n",
    "                                                    corner_radius=6)\n",
    "        self.label_res_pv.grid(row=2, column=0, pady=0, padx=0)\n",
    "        \n",
    "        #carte Résultat\n",
    "        self.map= tkintermapview.TkinterMapView(master=self.frame_right_up, width=1000, height=450)\n",
    "        self.map.set_position(48.857345, 2.347999)\n",
    "        self.map.set_zoom(12)\n",
    "        self.map.grid(row=0, column=0, sticky=\"nswe\", padx=(0, 0), pady=(0, 0))\n",
    "        self.map.set_marker(self.lat_bien,self.lgt_bien)\n",
    "        \n",
    "        #carte Descritption\n",
    "        \n",
    "        self.map2 = tkintermapview.TkinterMapView(master=self.tabview.tab(\"Description\"), width=1000, height=450)\n",
    "        self.map2.set_position(48.857345 , 2.347999)\n",
    "        self.map2.set_zoom(12)\n",
    "        self.map2.grid(row=0, column=0, sticky=\"nswe\", padx=(0, 0), pady=(0, 0))\n",
    "        \n",
    "        encodage_dict_arr = [7, 15, 4, 16, 19, 9, 5, 1, 6, 3, 0, 10, 13, 14, 2, 17, 8, 11, 12, 18]\n",
    "        index_arr = encodage_dict_arr[(arr-75000)-1]\n",
    "        polygon_1 = self.map2.set_polygon(list(dict_arr.values())[index_arr],\n",
    "                                            fill_color=None,\n",
    "                                            outline_color=\"green\",\n",
    "                                            border_width=5,\n",
    "                                            #command=polygon_click,\n",
    "                                            #name=\"switzerland_polygon\"\n",
    "                                            )\n",
    "        # methods\n",
    "        polygon_1.add_position(0, 0, index=5)\n",
    "        polygon_1.remove_position(0, 0)\n",
    "        #polygon_1.delete()\n",
    "        \n",
    "        #Affichage Description\n",
    "        liste_prixm2 = [13490, 11910, 12700, 12170, 12610, 13950, 13080, 11730, 10800, 10160,\\\n",
    "                10320, 9720, 9210, 10070, 9950, 10950, 10320, 9670, 8900, 9170]\n",
    "        txt = \"Le {0}ème arrondissement de Paris a un prix moyen du mettre carré de {1}€.\".format(str(arr-75000), liste_prixm2[arr-75000-1])\n",
    "        self.label_res_pv = customtkinter.CTkLabel(master=self.tabview.tab(\"Description\"),\n",
    "                                                    text=txt,\n",
    "                                                    font=(\"Roboto Medium\", -14),\n",
    "                                                    fg_color = 'transparent',\n",
    "                                                    corner_radius=6)\n",
    "        self.label_res_pv.grid(row=1, column=0, pady=10, padx=0)\n",
    "    \n",
    "        prix_m2_bien = prix_estime/s\n",
    "        diff = prix_m2_bien - liste_prixm2[(arr-75000)-1]\n",
    "        txt = \"Votre bien a un prix du m2 de {}€.\".format(int(prix_m2_bien))\n",
    "        self.label_res_pv = customtkinter.CTkLabel(master=self.tabview.tab(\"Description\"),\n",
    "                                                    text=txt,\n",
    "                                                    font=(\"Roboto Medium\", -14),\n",
    "                                                    fg_color = 'transparent',\n",
    "                                                    corner_radius=6)\n",
    "        self.label_res_pv.grid(row=2, column=0, pady=10, padx=0)\n",
    "        if diff >= 0:\n",
    "            txt = \"Le prix au m2 de votre bien est {}€ supérieur au prix moyen du m2 de votre arrondissement.\".format(int(abs(diff)))\n",
    "        else:\n",
    "            txt = \"Le prix au m2 de votre bien est {}€ inférieur au prix moyen du m2 de votre arrondissement.\".format(int(abs(diff)))\n",
    "        self.label_res_pv = customtkinter.CTkLabel(master=self.tabview.tab(\"Description\"),\n",
    "                                                    text=txt,\n",
    "                                                    font=(\"Roboto Medium\", -14),\n",
    "                                                    fg_color = 'transparent',\n",
    "                                                    corner_radius=6)\n",
    "        self.label_res_pv.grid(row=3, column=0, pady=10, padx=0)\n",
    "if __name__ == \"__main__\":\n",
    "    app = App()\n",
    "    app.mainloop()\n",
    "    "
   ]
  },
  {
   "cell_type": "markdown",
   "id": "e3fc467c",
   "metadata": {},
   "source": [
    "<div style=\"text-align: justify\">La fonction callback sert d'intermédiaire pour récupérer les paramètres à implémenter dans le modèle depuis les widgets du module tkinter.<div><br />\n",
    "    \n",
    "<div style=\"text-align: justify\">Pour se faire, nous avons utilisé la commande get en prenant soin de convertir les chaines de caractères en nombres lorsque cela était nécessaire. Nous avons aussi dû appliquer notre algorithme issu de geopandas pour transformer l'adresse entrée en coordonnées, étant des paramètres du modèle.<div><br /> \n",
    "    \n",
    "<div style=\"text-align: justify\">Enfin, nous avons intégré à la fonction callback l'affichage des points des biens utilisés (en bleu) pour estimer le prix du bien voulu (en rouge) sur la carte ainsi que l'appartition du texte donnant le résultat de l'algorithme et quelques détails (nombre de biens comparés, plus value possible) en faisant attention à ce que dès que la fonction callback soit actionnée, les labels soient effacés et non pas surposés les uns sur les autres.<div> "
   ]
  },
  {
   "cell_type": "markdown",
   "id": "3a759127",
   "metadata": {},
   "source": [
    "<img src=\"Interface.png\" style=width:818px;height:200px/>"
   ]
  },
  {
   "cell_type": "markdown",
   "id": "99442031",
   "metadata": {},
   "source": [
    "# Conclusion"
   ]
  },
  {
   "cell_type": "markdown",
   "id": "7f989a7e",
   "metadata": {},
   "source": [
    "<div style=\"text-align: justify\">Nous obtenons donc des résultats très encourageant avec le modèle Random Forest Regressor et ses paramètres les plus optimaux pour la situation présente, avec un score de 0,92. Néanmoins, nous savons l'estimation d'un bien immobilier selon ses caractéristiques se prête bien à ce genre de modèle et qu'il y a un risque de surrapprentissage, souvent lié au modèle Random Forest Regressor en lui-même mais aussi à la façon dont nous avons décidé de gérer les outliers. Dans tous les, cas qu'importe le résultat, l'importance est d'avoir appris beaucoup lors de ce semestre. <div> <br />\n",
    "\n",
    "<div style=\"text-align: justify\">Nous sommes satisfaits d'avoir réalisé un projet assez hollistique qui fait intervenir toutes les grandes étapes pour mener à bien une modélisation, d'abord en récupérant des données, en les traitant, en les analysant, en les standardisant avant de les modéliser et les représenter. Nous avons appris ou approfondie de nombreuses notions telles que la standaridisation des variables continues ou encore la réécriture des variables catégorielles. Dans tous les cas, nous avons voulu apprendre un maximum de choses que ce soit la manière de choisir optimalement le bon standardisateur ou le bon modèle et ses bons hyperparamètres. <div> <br />\n",
    "\n",
    "<div style=\"text-align: justify\">Ce projet nous aura beaucoup apporté sur différents aspects. D'abord, et assez logiquement, nous nous sommes considérablement améliorés en Machine Learning mais aussi en Python en règle général en approffondissant différentes techniques telles que le web scraping ou le traitement de base de données. Ce projet nous a aussi permis de mieux comprendre l'utilité fondamentale de la statistique descriptive afin de corriger les données qui sont succeptinles de faire du bruit dans la modélisation. <div> <br />\n",
    "\n",
    "<div style=\"text-align: justify\">Sur un plan plus personnel, ce projet a été un travail exigeant qui nous pousse à gagner en autonomie, en rigueur et en prise d'initiatives. Ce projet s'étalant sur quelques mois, il permet d'instaurer une meilleure coopération au sein d'un trinôme, une plus grande fluidité de travail et une répartition des tâches de plus en plus naturelle et optimale. C'est donc avec un réel plaisir que nous avons mené ce projet. <div> <br />\n",
    "    \n",
    "<div style=\"text-align: justify\">Nous tenons à remercier Madame Vesseron pour son encadrement et pour le temps qu'elle nous a consacré pour répondre à nos questions et nous aider à résoudre les problèmes que nous avons rencontré. <div> "
   ]
  }
 ],
 "metadata": {
  "kernelspec": {
   "display_name": "Python 3 (ipykernel)",
   "language": "python",
   "name": "python3"
  },
  "language_info": {
   "codemirror_mode": {
    "name": "ipython",
    "version": 3
   },
   "file_extension": ".py",
   "mimetype": "text/x-python",
   "name": "python",
   "nbconvert_exporter": "python",
   "pygments_lexer": "ipython3",
   "version": "3.9.7"
  }
 },
 "nbformat": 4,
 "nbformat_minor": 5
}
